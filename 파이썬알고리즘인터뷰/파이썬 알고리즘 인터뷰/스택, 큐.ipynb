{
 "cells": [
  {
   "cell_type": "markdown",
   "id": "27a06b46",
   "metadata": {},
   "source": [
    "# 20. 유효한 괄호\n",
    "\n",
    "괄호로 된 입력값이 올바른지 판별하라"
   ]
  },
  {
   "cell_type": "code",
   "execution_count": null,
   "id": "f94efee3",
   "metadata": {},
   "outputs": [],
   "source": [
    "a = input()\n",
    "def isValid(s):\n",
    "    stack = []\n",
    "    table = {\n",
    "        '}':'{',\n",
    "        ')':'(',\n",
    "        ']':'['\n",
    "    }\n",
    "    for i in s:\n",
    "        #i가 table(key)와 다르다면 -> 일단 넣자\n",
    "        #하나씩 스택에 넣자\n",
    "        if i not in table:\n",
    "            stack.append(i)\n",
    "        #만약 i가 table(key)와 같다면 -> stack에서 찾아야됨 ,,, stack에서 뽑았는데 값이 아니면 false하자\n",
    "        #근데 stack이 비어있으면? 말이안됨 false\n",
    "        elif not stack or stack.pop() != table[i]:\n",
    "            return False\n",
    "    return True\n",
    "isValid(a)"
   ]
  },
  {
   "cell_type": "code",
   "execution_count": null,
   "id": "1342b73a",
   "metadata": {},
   "outputs": [],
   "source": [
    "a = input()\n",
    "def isValid(a):\n",
    "    stack = []\n",
    "    table = {\n",
    "        ')':'(',\n",
    "        '}':'{',\n",
    "        ']':'['\n",
    "    }\n",
    "    for i in range(len(a)):\n",
    "        if a[i] not in table:\n",
    "            stack.append(a[i])\n",
    "            print(stack)\n",
    "        elif not stack or table[a[i]] != stack.pop():\n",
    "            return False\n",
    "    return len(stack) == 0\n",
    "isValid(a)\n"
   ]
  },
  {
   "cell_type": "code",
   "execution_count": null,
   "id": "394e3eba",
   "metadata": {},
   "outputs": [],
   "source": []
  },
  {
   "cell_type": "code",
   "execution_count": null,
   "id": "d96814db",
   "metadata": {},
   "outputs": [],
   "source": [
    "a = 'asdgbd'\n",
    "sorted(a)"
   ]
  },
  {
   "cell_type": "code",
   "execution_count": null,
   "id": "915d7688",
   "metadata": {},
   "outputs": [],
   "source": []
  },
  {
   "cell_type": "markdown",
   "id": "9fb1e16a",
   "metadata": {},
   "source": [
    "# 중복 문자 제거\n",
    "중복된 문자를 제외하고 사전식 순서로 나열하라"
   ]
  },
  {
   "cell_type": "code",
   "execution_count": null,
   "id": "8ef35233",
   "metadata": {},
   "outputs": [],
   "source": [
    "#내 풀이\n",
    "a = input()\n",
    "def Order(a):\n",
    "    res = []\n",
    "    lst = sorted(a)\n",
    "    for i in range(len(lst)):\n",
    "        if i != 0 and lst[i] == lst[i-1]:\n",
    "            i+=1\n",
    "        else: res.append(lst[i])\n",
    "    return ''.join(s for s in res)\n",
    "Order(a)"
   ]
  },
  {
   "cell_type": "code",
   "execution_count": null,
   "id": "cf893390",
   "metadata": {},
   "outputs": [],
   "source": [
    "a = input()\n",
    "def removeDuplicateLetters(s):\n",
    "    #집합으로 정렬\n",
    "    for char in sorted(set(s)):\n",
    "        suffix = s[s.index(char):]\n",
    "        #전체 집합과 접미사 집합이 일치할 때 분리 진행\n",
    "        if set(s) == set(suffix):\n",
    "            return char + removeDuplicateLetters(suffix.replace(char, ''))\n",
    "    return ''\n",
    "removeDuplicateLetters(a)"
   ]
  },
  {
   "cell_type": "code",
   "execution_count": 41,
   "id": "0417593e",
   "metadata": {},
   "outputs": [
    {
     "name": "stdout",
     "output_type": "stream",
     "text": [
      "cbacdcbc\n"
     ]
    },
    {
     "data": {
      "text/plain": [
       "'acdb'"
      ]
     },
     "execution_count": 41,
     "metadata": {},
     "output_type": "execute_result"
    }
   ],
   "source": [
    "import collections\n",
    "a = input()\n",
    "def removeDuplicateLetters(s):\n",
    "    counter, seen, stack = collections.Counter(s), set(), []\n",
    "    \n",
    "    for char in s:\n",
    "        counter[char] -= 1\n",
    "        if char in seen:\n",
    "            continue\n",
    "        #뒤에 붙일 문자가 남아있다면 스택에서 제거\n",
    "        while stack and char < stack[-1] and counter[stack[-1]] > 0:\n",
    "            seen.remove(stack.pop())\n",
    "        stack.append(char)\n",
    "        seen.add(char)\n",
    "    return ''.join(stack)\n",
    "removeDuplicateLetters(a)"
   ]
  },
  {
   "cell_type": "code",
   "execution_count": null,
   "id": "7aa7d45b",
   "metadata": {},
   "outputs": [],
   "source": []
  },
  {
   "cell_type": "code",
   "execution_count": null,
   "id": "913fcb95",
   "metadata": {},
   "outputs": [],
   "source": []
  },
  {
   "cell_type": "code",
   "execution_count": null,
   "id": "7a9d24eb",
   "metadata": {},
   "outputs": [],
   "source": []
  },
  {
   "cell_type": "markdown",
   "id": "a31e7422",
   "metadata": {},
   "source": [
    "# 일일온도  \n",
    "매일의 화씨 온도 리스트 T를 입력받아서, 더 따뜻한 날씨를 위해서는 며칠을 기다려야하는지 출력하라  \n",
    "input : T = [73,74,75,71,69,72,76,73]  \n",
    "output : [1,1,4,2,1,1,0,0]"
   ]
  },
  {
   "cell_type": "code",
   "execution_count": null,
   "id": "fe6b1821",
   "metadata": {},
   "outputs": [],
   "source": [
    "T = list(map(int, input().split(',')))\n",
    "def Temp(T):\n",
    "    lst = []\n",
    "    for i in len(T):\n",
    "        j = 1\n",
    "        while j < len(T):\n",
    "            if T[i] >= T[j+i]:\n",
    "                j+=1\n",
    "            else:\n",
    "                lst.append(j)\n",
    "    return lst\n",
    "Temp(T)"
   ]
  },
  {
   "cell_type": "code",
   "execution_count": null,
   "id": "7a57b8b3",
   "metadata": {},
   "outputs": [],
   "source": [
    "T = list(map(int, input().split(',')))\n",
    "answer = [0] * len(T)\n",
    "stack = []\n",
    "for i, cur in enumerate(T):\n",
    "    while stack and cur > T[stack[-1]]:\n",
    "        last = stack.pop()\n",
    "        answer[last] = i - last\n",
    "    stack.append(i)\n",
    "print(answer)"
   ]
  },
  {
   "cell_type": "code",
   "execution_count": null,
   "id": "d12020c7",
   "metadata": {},
   "outputs": [],
   "source": []
  },
  {
   "cell_type": "code",
   "execution_count": 5,
   "id": "c4df9376",
   "metadata": {},
   "outputs": [
    {
     "name": "stdout",
     "output_type": "stream",
     "text": [
      "73,74,75,71,69,72,76,73\n",
      "[1, 1, 4, 2, 1, 1, 0, 0]\n"
     ]
    }
   ],
   "source": [
    "T = list(map(int, input().split(',')))\n",
    "answer = [0] * len(T)\n",
    "stack = []\n",
    "for i, cur in enumerate(T):\n",
    "    while stack and T[stack[-1]] < cur: #현재온도가 이전온도보다 클 경우 stack에서 빼자(갱신해야하는 상황)\n",
    "        last = stack.pop()\n",
    "        answer[last] = i - last\n",
    "    stack.append(i)\n",
    "print(answer)"
   ]
  },
  {
   "cell_type": "code",
   "execution_count": null,
   "id": "0bd8ab5b",
   "metadata": {},
   "outputs": [],
   "source": [
    "a = [1,2,3]\n",
    "a[1]"
   ]
  },
  {
   "cell_type": "code",
   "execution_count": null,
   "id": "f2cd7774",
   "metadata": {},
   "outputs": [],
   "source": []
  },
  {
   "cell_type": "markdown",
   "id": "e54587ae",
   "metadata": {},
   "source": [
    "# 큐를 이용한 스택 구현"
   ]
  },
  {
   "cell_type": "code",
   "execution_count": null,
   "id": "945dc58d",
   "metadata": {},
   "outputs": [],
   "source": [
    "import collections\n",
    "class MyStack:\n",
    "    def __init__(self):\n",
    "        self.q = collections.deque()\n",
    "    def push(self, x):\n",
    "        self.q.append(x)\n",
    "        for _ in range(len(self.q) - 1):\n",
    "            self.q.append(self.q.popleft()) \n",
    "    def pop(self):\n",
    "        self.q.popleft()\n",
    "        \n",
    "    def empty(self):\n",
    "        return len(self.q) == 0\n",
    "        "
   ]
  },
  {
   "cell_type": "code",
   "execution_count": null,
   "id": "fd2ac1d9",
   "metadata": {},
   "outputs": [],
   "source": [
    "stack = Mystack()"
   ]
  },
  {
   "cell_type": "code",
   "execution_count": null,
   "id": "240a866f",
   "metadata": {},
   "outputs": [],
   "source": []
  },
  {
   "cell_type": "code",
   "execution_count": null,
   "id": "13cb2776",
   "metadata": {},
   "outputs": [],
   "source": []
  },
  {
   "cell_type": "code",
   "execution_count": null,
   "id": "92b54d3e",
   "metadata": {},
   "outputs": [],
   "source": []
  },
  {
   "cell_type": "code",
   "execution_count": null,
   "id": "206211e6",
   "metadata": {},
   "outputs": [],
   "source": []
  },
  {
   "cell_type": "code",
   "execution_count": null,
   "id": "1b2d4ab4",
   "metadata": {},
   "outputs": [],
   "source": []
  },
  {
   "cell_type": "code",
   "execution_count": null,
   "id": "2d99dbe5",
   "metadata": {},
   "outputs": [],
   "source": []
  },
  {
   "cell_type": "code",
   "execution_count": null,
   "id": "0623de5c",
   "metadata": {},
   "outputs": [],
   "source": []
  },
  {
   "cell_type": "code",
   "execution_count": null,
   "id": "07ef4a00",
   "metadata": {},
   "outputs": [],
   "source": []
  },
  {
   "cell_type": "code",
   "execution_count": null,
   "id": "e65e8ca7",
   "metadata": {},
   "outputs": [],
   "source": []
  },
  {
   "cell_type": "code",
   "execution_count": null,
   "id": "c659e41f",
   "metadata": {},
   "outputs": [],
   "source": []
  },
  {
   "cell_type": "code",
   "execution_count": null,
   "id": "bdc20166",
   "metadata": {},
   "outputs": [],
   "source": []
  },
  {
   "cell_type": "code",
   "execution_count": 21,
   "id": "83728380",
   "metadata": {},
   "outputs": [
    {
     "data": {
      "text/plain": [
       "[1, 2, 3, 4]"
      ]
     },
     "execution_count": 21,
     "metadata": {},
     "output_type": "execute_result"
    }
   ],
   "source": [
    "[1,2,3,4]"
   ]
  },
  {
   "cell_type": "markdown",
   "id": "9512fa09",
   "metadata": {},
   "source": [
    "# 큐를 이용한 스택 구현"
   ]
  },
  {
   "cell_type": "code",
   "execution_count": 19,
   "id": "80117ae9",
   "metadata": {},
   "outputs": [],
   "source": [
    "import collections\n",
    "class Mystack():\n",
    "    def __init__(self):\n",
    "        self.q = collections.deque()\n",
    "        \n",
    "    def push(self,x):\n",
    "        self.q.append(x)\n",
    "        \n",
    "    def pop(self):\n",
    "        return self.q.pop()\n",
    "        \n",
    "    def top(self):\n",
    "        return self.q[-1]\n",
    "        \n",
    "    def empty(self):\n",
    "        if self.q: return False\n",
    "        else: return True"
   ]
  },
  {
   "cell_type": "code",
   "execution_count": 20,
   "id": "c84f082b",
   "metadata": {},
   "outputs": [
    {
     "data": {
      "text/plain": [
       "False"
      ]
     },
     "execution_count": 20,
     "metadata": {},
     "output_type": "execute_result"
    }
   ],
   "source": [
    "stack = Mystack()\n",
    "stack.push(1)\n",
    "stack.push(2)\n",
    "stack.top()\n",
    "stack.pop()\n",
    "stack.empty()"
   ]
  },
  {
   "cell_type": "code",
   "execution_count": 33,
   "id": "ec25ae45",
   "metadata": {},
   "outputs": [],
   "source": [
    "#반대로\n",
    "import collections\n",
    "class Mystack():\n",
    "    def __init__(self):\n",
    "        self.q = collections.deque()\n",
    "        \n",
    "    def push(self,x):\n",
    "        self.q.append(x)\n",
    "        for _ in range(len(self.q)-1):\n",
    "            self.q.append(self.q.popleft())\n",
    "        \n",
    "    def pop(self):\n",
    "        return self.q.popleft()\n",
    "        \n",
    "    def top(self):\n",
    "        return self.q[0]\n",
    "        \n",
    "    def empty(self):\n",
    "        if self.q: return False\n",
    "        else: return True"
   ]
  },
  {
   "cell_type": "code",
   "execution_count": 36,
   "id": "0ba9bced",
   "metadata": {},
   "outputs": [
    {
     "data": {
      "text/plain": [
       "False"
      ]
     },
     "execution_count": 36,
     "metadata": {},
     "output_type": "execute_result"
    }
   ],
   "source": [
    "stack = Mystack()\n",
    "stack.push(1)\n",
    "stack.push(2)\n",
    "stack.top()\n",
    "stack.pop()\n",
    "stack.empty()"
   ]
  },
  {
   "cell_type": "code",
   "execution_count": null,
   "id": "354af2c3",
   "metadata": {},
   "outputs": [],
   "source": []
  },
  {
   "cell_type": "code",
   "execution_count": null,
   "id": "06a6b0e9",
   "metadata": {},
   "outputs": [],
   "source": []
  },
  {
   "cell_type": "code",
   "execution_count": 42,
   "id": "ce5394f3",
   "metadata": {},
   "outputs": [],
   "source": [
    "#스택으로 큐를 구현해요\n",
    "#스택은 통로가 하나, 큐는 통로가 두개 -> 입구와 출구를 두개의 스택으로 만들어주자!!\n",
    "class MyQueue:\n",
    "    def __init__(self):        \n",
    "        self.input = []\n",
    "        self.output = []\n",
    "    \n",
    "    def push(self,x):\n",
    "        self.input.append(x)\n",
    "    \n",
    "    def pop(self): #뽑는 것\n",
    "        self.peek()\n",
    "        return self.output.pop()\n",
    "    \n",
    "    def peek(self): #조회 -> output\n",
    "        if not self.output: #output이 비어있는 경우\n",
    "            #input에서 output으로 값을 넘겨주자\n",
    "            while self.input:\n",
    "                self.output.append(self.input.pop())\n",
    "        return self.output[-1] #output이 비어있지않은경우\n",
    "    \n",
    "    def empty(self):\n",
    "        return self.input == [] and self.output == []"
   ]
  },
  {
   "cell_type": "code",
   "execution_count": null,
   "id": "128395d2",
   "metadata": {},
   "outputs": [],
   "source": []
  },
  {
   "cell_type": "code",
   "execution_count": null,
   "id": "bee7de55",
   "metadata": {},
   "outputs": [],
   "source": [
    "class MyCircularQueue:\n",
    "    def __init__(self, k): #길이(방의 개수) / 포인터 2개 / q = [None] * k\n",
    "        self.q = [None] * k\n",
    "        self.p1 = 0 #Front\n",
    "        self.p2 = 0 #Rear\n",
    "        self.maxlen = k #5\n",
    "        \n",
    "    def enQueue(self, value): #Rear pointer 이동\n",
    "        if self.q[self.p2] is None:\n",
    "            self.q[self.p2] = value\n",
    "            self.p2 = (self.p2 + 1) % self.maxlen #원형큐로 구현할 수 있는 이유\n",
    "            return True\n",
    "        else:\n",
    "            return False\n",
    "    \n",
    "    def deQueue(self): #Front pointer 이동\n",
    "        if self.q[self.p1] is None:\n",
    "            return False\n",
    "        else:\n",
    "            self.q[self.p1] = None\n",
    "            self.p1 = (self.p1 + 1) % self.maxlen #원형큐로 구현할 수 있는 이유\n",
    "    \n",
    "    def Front(self):\n",
    "        return -1 if self.q[self.p1] is None else self.q[self.p1]\n",
    "        \n",
    "    def Rear(self):\n",
    "        return -1 if self.q[self.p2 - 1] is None else self.q[self.p2 - 1]\n",
    "    \n",
    "    def isEmpty(self):\n",
    "        return self.p1 == self.p2 and self.q[self.p1] is None\n",
    "    \n",
    "    def isFull(self):\n",
    "        return self.p1 == self.p2 and self.q[self.p1] is not None"
   ]
  },
  {
   "cell_type": "code",
   "execution_count": null,
   "id": "da1f231e",
   "metadata": {},
   "outputs": [],
   "source": []
  },
  {
   "cell_type": "code",
   "execution_count": null,
   "id": "893534d0",
   "metadata": {},
   "outputs": [],
   "source": []
  },
  {
   "cell_type": "code",
   "execution_count": null,
   "id": "e01dec30",
   "metadata": {},
   "outputs": [],
   "source": []
  },
  {
   "cell_type": "code",
   "execution_count": null,
   "id": "e41f8a92",
   "metadata": {},
   "outputs": [],
   "source": []
  },
  {
   "cell_type": "code",
   "execution_count": null,
   "id": "0520d619",
   "metadata": {},
   "outputs": [],
   "source": []
  },
  {
   "cell_type": "code",
   "execution_count": null,
   "id": "cb0158fd",
   "metadata": {},
   "outputs": [],
   "source": []
  },
  {
   "cell_type": "code",
   "execution_count": null,
   "id": "13d2af7f",
   "metadata": {},
   "outputs": [],
   "source": []
  },
  {
   "cell_type": "code",
   "execution_count": null,
   "id": "21fdd3e7",
   "metadata": {},
   "outputs": [],
   "source": []
  },
  {
   "cell_type": "markdown",
   "id": "31967d38",
   "metadata": {},
   "source": [
    "# 스택을 이용한 큐 구현"
   ]
  },
  {
   "cell_type": "code",
   "execution_count": 37,
   "id": "9040d4e5",
   "metadata": {},
   "outputs": [],
   "source": [
    "class MyQueue:\n",
    "    def __init__(self):\n",
    "        self.input = []\n",
    "        self.output = []\n",
    "        \n",
    "    #아이디어 : push는 input에 넣고, peek나 pop을 할 때는 output으로 옮긴 후 빼내기\n",
    "    \n",
    "    def push(self, x):\n",
    "        self.input.append(x)\n",
    "    def pop(self):\n",
    "        self.peek()\n",
    "        return self.output.pop()\n",
    "    def peek(self):\n",
    "        if not self.output:\n",
    "            while self.input:\n",
    "                self.output.append(self.input.pop())\n",
    "        return self.output[-1]\n",
    "    def empty(self):\n",
    "        return self.input==[] and self.output==[]"
   ]
  },
  {
   "cell_type": "code",
   "execution_count": null,
   "id": "1cc3f956",
   "metadata": {},
   "outputs": [],
   "source": []
  },
  {
   "cell_type": "code",
   "execution_count": null,
   "id": "2fe6715e",
   "metadata": {},
   "outputs": [],
   "source": []
  },
  {
   "cell_type": "code",
   "execution_count": null,
   "id": "a0ac2782",
   "metadata": {},
   "outputs": [],
   "source": []
  },
  {
   "cell_type": "code",
   "execution_count": null,
   "id": "4c3a999b",
   "metadata": {},
   "outputs": [],
   "source": []
  },
  {
   "cell_type": "code",
   "execution_count": null,
   "id": "68447e74",
   "metadata": {},
   "outputs": [],
   "source": []
  },
  {
   "cell_type": "code",
   "execution_count": null,
   "id": "b76b1712",
   "metadata": {},
   "outputs": [],
   "source": []
  },
  {
   "cell_type": "code",
   "execution_count": null,
   "id": "49f7ddb4",
   "metadata": {},
   "outputs": [],
   "source": []
  },
  {
   "cell_type": "code",
   "execution_count": null,
   "id": "c66e4248",
   "metadata": {},
   "outputs": [],
   "source": []
  },
  {
   "cell_type": "code",
   "execution_count": null,
   "id": "9a3aa642",
   "metadata": {},
   "outputs": [],
   "source": []
  },
  {
   "cell_type": "markdown",
   "id": "9a1eb440",
   "metadata": {},
   "source": [
    "# 원형 큐 디자인"
   ]
  },
  {
   "cell_type": "code",
   "execution_count": null,
   "id": "fa12c256",
   "metadata": {},
   "outputs": [],
   "source": [
    "class MyCircularQueue():\n",
    "    def __init__(self, k):\n",
    "        #포인터 두개, 원형 큐 길이, 배열\n",
    "        self.q = [None] * k\n",
    "        self.maxlen = k\n",
    "        self.p1 = 0\n",
    "        self.p2 = 0\n",
    "    def enQueue(self, x):\n",
    "        if self.q[self.p1] is not None:\n",
    "            return False\n",
    "        self.q[self.p1] = x\n",
    "        self.p1 = (self.p1+1) % self.maxlen\n",
    "    def deQueue(self):\n",
    "        if self.q[self.p2] is None:\n",
    "            return False\n",
    "        self.q[self.p2] = None\n",
    "        self.p2 = (self.p2+1) % self.maxlen\n",
    "    def Front(self):\n",
    "        return self.q[self.p2]\n",
    "    def Rear(self):\n",
    "        return self.q[self.p1-1]\n",
    "    def isFull(self):\n",
    "        return self.p1 == self.p2 and self.q[self.p1] is not None"
   ]
  },
  {
   "cell_type": "code",
   "execution_count": null,
   "id": "31c9b29f",
   "metadata": {},
   "outputs": [],
   "source": [
    "circularQueue = MyCircularQueue(5)\n",
    "circularQueue.enQueue(10)\n",
    "circularQueue.enQueue(20)\n",
    "circularQueue.enQueue(30)\n",
    "circularQueue.enQueue(40)\n",
    "circularQueue.Rear()\n",
    "circularQueue.isFull()\n",
    "circularQueue.deQueue()\n",
    "circularQueue.deQueue()\n",
    "circularQueue.enQueue(50)\n",
    "circularQueue.enQueue(60)\n",
    "circularQueue.Rear()\n",
    "circularQueue.Front()"
   ]
  },
  {
   "cell_type": "code",
   "execution_count": null,
   "id": "14f057bb",
   "metadata": {},
   "outputs": [],
   "source": []
  }
 ],
 "metadata": {
  "kernelspec": {
   "display_name": "Python 3 (ipykernel)",
   "language": "python",
   "name": "python3"
  },
  "language_info": {
   "codemirror_mode": {
    "name": "ipython",
    "version": 3
   },
   "file_extension": ".py",
   "mimetype": "text/x-python",
   "name": "python",
   "nbconvert_exporter": "python",
   "pygments_lexer": "ipython3",
   "version": "3.9.12"
  }
 },
 "nbformat": 4,
 "nbformat_minor": 5
}
