{
 "cells": [
  {
   "cell_type": "markdown",
   "id": "4a401ade",
   "metadata": {},
   "source": [
    "# 해시맵 디자인  \n",
    "\n",
    "다음의 기능을 제공하는 해시맵을 디자인하라.  \n",
    "put(key, value) : 키, 값을 해시맵에 삽입한다. 만약 이미 존재하는 키라면 업데이트한다.  \n",
    "get(key) : 키에 해당하는 값을 조회한다. 만약 키가 존재하지 않는다면 -1를 리턴한다.  \n",
    "remove(key) : 키에 해당하는 키, 값을 해시맵에서 삭제한다."
   ]
  },
  {
   "cell_type": "code",
   "execution_count": null,
   "id": "8831893d",
   "metadata": {},
   "outputs": [],
   "source": [
    "#내가 작성한 코드\n",
    "class MyHashMap:\n",
    "    def __init__(self):\n",
    "        self._key = 0\n",
    "        self._table = dict()\n",
    "    \n",
    "    def put(self, key, value):\n",
    "        self._key = key\n",
    "        self._table[self._key] = value\n",
    "    \n",
    "    def get(self, key):\n",
    "        self._key = key\n",
    "        if key not in self._table:\n",
    "            return -1\n",
    "        else:\n",
    "            return 1\n",
    "    \n",
    "    def remove(self, key):\n",
    "        if self.get(key) == 1:\n",
    "            del self._table[self._key]\n",
    "        else:\n",
    "            return False"
   ]
  },
  {
   "cell_type": "code",
   "execution_count": null,
   "id": "39539592",
   "metadata": {},
   "outputs": [],
   "source": [
    "hashMap = MyHashMap()\n",
    "hashMap.put(1, 1)\n",
    "hashMap.put(2, 2)\n",
    "hashMap.get(1)\n",
    "hashMap.get(3)\n",
    "hashMap.put(2, 1)\n",
    "hashMap.get(2)\n",
    "hashMap.remove(2)\n",
    "hashMap.get(2)"
   ]
  },
  {
   "cell_type": "code",
   "execution_count": null,
   "id": "a2e5dc74",
   "metadata": {},
   "outputs": [],
   "source": [
    "#개별 체이닝 방식을 이용한 해시 테이블 구현\n",
    "#키, 값을 보관하고 연결리스트로 처리할 별도의 객체 구현 -> ListNode라는 이름의 클래스를 정의\n",
    "class ListNode:\n",
    "    def __init__(self, key, value):\n",
    "        self.key = key\n",
    "        self.value = value\n",
    "        self.next = None\n",
    "\n",
    "class MyHashMap:\n",
    "    def __init__(self):\n",
    "        self.size = 1000 #기본사이즈\n",
    "        self.table = collections.defaultdict(ListNode)\n",
    "        #collections.defaultdict : 존재하지 않는 키를 조회할 경우 자동으로 디폴트 노드를 생성해줌\n",
    "    \n",
    "    #삽입 메소드\n",
    "    def put(self, key, value):\n",
    "        index = key % self.size #나눗셈 해싱\n",
    "        #연산을 통한 해싱은 해시 테이블의 가장 기본적인 해싱 방식이다. 해싱한 결과인 index는 해시 테이블의 인덱스가 된다.\n",
    "        if self.table[index].value is None:\n",
    "            self.table[index] = ListNode(key, value)\n",
    "            return\n",
    "        #해당 인덱스에 노드가 존재하는 경우(즉, 해시 충돌이 발생한 경우)\n",
    "        p = self.table[index]\n",
    "        while p:\n",
    "            if p.key == key:\n",
    "                p.value = value\n",
    "                return\n",
    "            if p.next is None:\n",
    "                break\n",
    "            p = p.next is None:\n",
    "                break\n",
    "            p = p.next\n",
    "        #기존에 존재하지 않았던 키라면 맨 마지막에 새로운 노드가 연결될 것임.\n",
    "        p.next = ListNode(key, value)\n",
    "    \n",
    "    def get(self, key): #조회 메소드\n",
    "        index = key % self.size\n",
    "        if self.table[index].value is None:\n",
    "            return -1\n",
    "        while p:\n",
    "            if p.key == key:\n",
    "                return p.value\n",
    "            p = p.next\n",
    "        return -1\n",
    "    \n",
    "    def remove(self, key):\n",
    "        index = key % self.size\n",
    "        if self.table[index].value is None:\n",
    "            return\n",
    "        #인덱스의 첫 노드일 때 삭제처리\n",
    "        p = self.table[index]\n",
    "        if p.key == key:\n",
    "            #완전 삭제 대신 빈 노드 생성(애당초 defaultdict(ListNode))이기 때문\n",
    "            self.table[index] = ListNode() if p.next is None else p.next\n",
    "            return\n",
    "        \n",
    "        #연결 리스트 노드 삭제 -> 연결고리를 끊어버리는 작업\n",
    "        prev = p\n",
    "        while p:\n",
    "            if p.key == key:\n",
    "                prev.next = p.next\n",
    "                return\n",
    "            prev, p = p, p.next\n",
    "    "
   ]
  },
  {
   "cell_type": "markdown",
   "id": "ada55f1f",
   "metadata": {},
   "source": [
    "# 보석과 돌  \n",
    "J는 보석이며, S는 갖고 있는 돌이다. S에는 보석이 몇 개나 있을까? 대소문자는 구분한다."
   ]
  },
  {
   "cell_type": "code",
   "execution_count": null,
   "id": "ca779bd8",
   "metadata": {},
   "outputs": [],
   "source": [
    "class ListNode:\n",
    "    def __init__(self):\n",
    "        self.key = 0\n",
    "        self.value = 0\n",
    "        self.next = None\n",
    "\n",
    "p = ListNode()\n",
    "\n",
    "while p:\n",
    "    pass"
   ]
  },
  {
   "cell_type": "code",
   "execution_count": null,
   "id": "6237457e",
   "metadata": {},
   "outputs": [],
   "source": []
  },
  {
   "cell_type": "markdown",
   "id": "5c03c5ad",
   "metadata": {},
   "source": [
    "# 중복 문자 없는 가장 긴 문자열\n",
    "중복 문자가 없는 가장 긴 문자열의 길이를 리턴하라\n",
    "\n",
    "input : \"abcabcbb\"  \n",
    "output : 3"
   ]
  },
  {
   "cell_type": "code",
   "execution_count": 16,
   "id": "e5b2c1e2",
   "metadata": {},
   "outputs": [
    {
     "name": "stdout",
     "output_type": "stream",
     "text": [
      "pwwkew\n",
      "3\n"
     ]
    }
   ],
   "source": [
    "#내 코드(틀린코드,,, pwwkew를 넣었을 때 wke가 나와야됨. 내 코드는 kew가 나옴)\n",
    "import collections\n",
    "str = input()\n",
    "dic = collections.defaultdict(chr)\n",
    "cnt, _cnt = 0, 0\n",
    "for i in str:\n",
    "    if i not in dic or dic[i] == 0:\n",
    "        dic[i] = 1\n",
    "        _cnt+=1 \n",
    "        if i == str[-1]: cnt = _cnt #마지막 부분 예외처리\n",
    "    else:\n",
    "        dic.update({}.fromkeys(dic, 0)) #딕셔너리를 업데이트 할 수 있는 구문\n",
    "        if cnt < _cnt: cnt = _cnt\n",
    "        _cnt = 0\n",
    "print(cnt)"
   ]
  },
  {
   "cell_type": "code",
   "execution_count": 9,
   "id": "85c24116",
   "metadata": {},
   "outputs": [
    {
     "data": {
      "text/plain": [
       "defaultdict(<function chr(i, /)>, {'a': 1})"
      ]
     },
     "execution_count": 9,
     "metadata": {},
     "output_type": "execute_result"
    }
   ],
   "source": [
    "#슬라이싱 윈도우와 투 포인터로 사이즈 조절\n",
    "s = input()\n",
    "#각 왼쪽 시작점에서 출발해 두 번쨰 포인터는 계속 오른쪽으로 확장\n",
    "used = {}\n",
    "max_length = start = 0\n",
    "for index, char in enumerate(s):\n",
    "    #이미 등장했던 문자라면 'start' 위치 갱신\n",
    "    if char in used and start <= used[char]:\n",
    "        start = used[char] + 1\n",
    "    else: #최대 부분 문자열 길이 갱신\n",
    "        max_length = max(max_length, index - start + 1)\n",
    "    \n",
    "    #현재 문자의 위치 삽입\n",
    "    used[char] = index\n",
    "print(max_length)"
   ]
  },
  {
   "cell_type": "code",
   "execution_count": null,
   "id": "d82586c7",
   "metadata": {},
   "outputs": [],
   "source": []
  },
  {
   "cell_type": "markdown",
   "id": "18af5d48",
   "metadata": {},
   "source": [
    "# 빈도 수가 높은 상위 k개의 문자 추출"
   ]
  },
  {
   "cell_type": "code",
   "execution_count": null,
   "id": "f40cd650",
   "metadata": {},
   "outputs": [],
   "source": [
    "#counter를 이용한 음수 순 추출\n",
    "import collections\n",
    "nums = list(input())\n",
    "freqs = collections.Counter(nums)\n",
    "freqs_heap = []\n",
    "#힙에 음수로 삽입\n",
    "for f in freqs:\n",
    "    heapq.heappush(freqs_heap, (-freqs[f], f))\n",
    "topk = list()\n",
    "#k번 만큼 추출, 최소 힙이므로 가장 작은 음수 순으로 추출"
   ]
  },
  {
   "cell_type": "code",
   "execution_count": 20,
   "id": "9fb5d499",
   "metadata": {},
   "outputs": [
    {
     "data": {
      "text/plain": [
       "Counter({'a': 3, 'b': 3, 'c': 1, 'd': 1})"
      ]
     },
     "execution_count": 20,
     "metadata": {},
     "output_type": "execute_result"
    }
   ],
   "source": [
    "import collections\n",
    "a = ['a','a','a','b','b','b','c','d']\n",
    "collections.Counter(a)\n"
   ]
  },
  {
   "cell_type": "code",
   "execution_count": null,
   "id": "c7086fb5",
   "metadata": {},
   "outputs": [],
   "source": [
    "#파이썬다운 방식\n",
    "#Counter의 most_common()은 빈도 수가 높은 순서대로 아이템을 추출하는 기능을 제공함\n",
    "#"
   ]
  },
  {
   "cell_type": "code",
   "execution_count": null,
   "id": "de8641d9",
   "metadata": {},
   "outputs": [],
   "source": []
  },
  {
   "cell_type": "code",
   "execution_count": null,
   "id": "e0cfc39b",
   "metadata": {},
   "outputs": [],
   "source": []
  },
  {
   "cell_type": "code",
   "execution_count": null,
   "id": "3beb4596",
   "metadata": {},
   "outputs": [],
   "source": []
  },
  {
   "cell_type": "code",
   "execution_count": null,
   "id": "3d1c115b",
   "metadata": {},
   "outputs": [],
   "source": []
  },
  {
   "cell_type": "code",
   "execution_count": null,
   "id": "286d28d6",
   "metadata": {},
   "outputs": [],
   "source": []
  },
  {
   "cell_type": "code",
   "execution_count": null,
   "id": "37b026a5",
   "metadata": {},
   "outputs": [],
   "source": []
  },
  {
   "cell_type": "code",
   "execution_count": null,
   "id": "083390c1",
   "metadata": {},
   "outputs": [],
   "source": []
  },
  {
   "cell_type": "code",
   "execution_count": null,
   "id": "688c7bed",
   "metadata": {},
   "outputs": [],
   "source": []
  },
  {
   "cell_type": "markdown",
   "id": "c7dcaa09",
   "metadata": {},
   "source": [
    "# collections.defaultdict() "
   ]
  },
  {
   "cell_type": "code",
   "execution_count": null,
   "id": "47a53cf8",
   "metadata": {},
   "outputs": [],
   "source": [
    "from collections import defaultdict\n",
    "int_dict = defaultdict(int) #인자 : 기본값으로 설정할 value의 데이터타입\n",
    "int_dict['key1']\n",
    "int_dict['key2'] = 'test'\n",
    "int_dict"
   ]
  },
  {
   "cell_type": "code",
   "execution_count": null,
   "id": "d7e4b5b8",
   "metadata": {},
   "outputs": [],
   "source": [
    "list_dict = defaultdict(list)\n",
    "list_dict['key1']\n",
    "list_dict['key2'] = 'test'\n",
    "list_dict"
   ]
  },
  {
   "cell_type": "code",
   "execution_count": null,
   "id": "01716031",
   "metadata": {},
   "outputs": [],
   "source": [
    "#defaultdict(int) 활용\n",
    "letters = 'dongdongfather'\n",
    "letters_dict = defaultdict(int)\n",
    "for k in letters:\n",
    "    letters_dict[k] += 1\n",
    "letters_dict"
   ]
  },
  {
   "cell_type": "code",
   "execution_count": null,
   "id": "40150c0b",
   "metadata": {},
   "outputs": [],
   "source": [
    "#defaultdict(int)를 활용하지 않는다면?\n",
    "#key가 없으면 만들어주는 작업을 별도로 해주어야함\n",
    "letters = 'dongdongfather'\n",
    "letters_dict = {}\n",
    "for k in letters:\n",
    "    if not k in letters_dict:\n",
    "        letters_dict[k] = 0\n",
    "    letters_dict[k] += 1\n",
    "letters_dict"
   ]
  },
  {
   "cell_type": "code",
   "execution_count": null,
   "id": "ef6c8016",
   "metadata": {},
   "outputs": [],
   "source": []
  }
 ],
 "metadata": {
  "kernelspec": {
   "display_name": "Python 3 (ipykernel)",
   "language": "python",
   "name": "python3"
  },
  "language_info": {
   "codemirror_mode": {
    "name": "ipython",
    "version": 3
   },
   "file_extension": ".py",
   "mimetype": "text/x-python",
   "name": "python",
   "nbconvert_exporter": "python",
   "pygments_lexer": "ipython3",
   "version": "3.9.12"
  }
 },
 "nbformat": 4,
 "nbformat_minor": 5
}
