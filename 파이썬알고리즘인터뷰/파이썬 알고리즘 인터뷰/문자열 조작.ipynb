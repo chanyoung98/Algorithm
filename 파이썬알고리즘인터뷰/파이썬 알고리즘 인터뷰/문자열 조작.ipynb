{
 "cells": [
  {
   "cell_type": "markdown",
   "id": "8386dd74",
   "metadata": {},
   "source": [
    "# 1. 유효한 팰린드롬\n",
    "\n",
    "주어진 문자열이 팰린드롬인지 확인하라. 대소문자를 구분하지 않으며, 영문자와 숫자만을 대상으로 한다.\n",
    "\n",
    "Ex)  \n",
    "입력  \n",
    "\"A man, a plan, a canal: Panama\"\n",
    "\n",
    "출력  \n",
    "true"
   ]
  },
  {
   "cell_type": "code",
   "execution_count": null,
   "id": "9e314ef2",
   "metadata": {},
   "outputs": [],
   "source": [
    "#리스트로 반환\n",
    "str = input()\n",
    "lst = []\n",
    "for i in str:\n",
    "    if i.\n",
    "    == True:\n",
    "        lst.append(i.lower())\n",
    "while len(lst) > 1:\n",
    "    if lst.pop(0) != lst.pop():\n",
    "        print(\"false\")\n",
    "        break\n",
    "if len(lst) <= 1:\n",
    "    print(\"true\")"
   ]
  },
  {
   "cell_type": "code",
   "execution_count": null,
   "id": "0ebb2ebc",
   "metadata": {},
   "outputs": [],
   "source": [
    "#리스트로 반환한 것 함수화\n",
    "def isPalindrome(s:str) -> bool:\n",
    "    strs = []\n",
    "    for char in s:\n",
    "        if char.isalnum():\n",
    "            strs.append(char.lower())\n",
    "            \n",
    "    #팰린드롬 여부 판별\n",
    "    while len(strs) > 1:\n",
    "        if strs.pop(0) != strs.pop():\n",
    "            return False\n",
    "    \n",
    "    return True"
   ]
  },
  {
   "cell_type": "code",
   "execution_count": null,
   "id": "be7c943c",
   "metadata": {},
   "outputs": [],
   "source": [
    "stra = input()\n",
    "isPalindrome(stra)"
   ]
  },
  {
   "cell_type": "code",
   "execution_count": null,
   "id": "4d2fa6f4",
   "metadata": {},
   "outputs": [],
   "source": [
    "#데크 자료형을 이용한 최적화(추후에 배울 내용)\n",
    "def isPalindrome(s:str) -> bool:\n",
    "    #자료형 데크로 선언\n",
    "    strs: Deque = collections.deque()\n",
    "        \n",
    "    for char in s:\n",
    "        if char.isalnum():\n",
    "            strs.append(char.lower())\n",
    "    \n",
    "    while len(strs) > 1:\n",
    "        if strs.popleft() != strs.pop():\n",
    "            return False\n",
    "    return True"
   ]
  },
  {
   "cell_type": "code",
   "execution_count": null,
   "id": "3060cf9c",
   "metadata": {},
   "outputs": [],
   "source": [
    "#슬라이싱을 이용한 문제풀이\n",
    "import re\n",
    "def isPalindrome(s:str) -> bool:\n",
    "    s = s.lower()\n",
    "    #정규식으로 불필요한 문자 필터링\n",
    "    s = re.sub('[^a-z0-g]', '', s)\n",
    "    \n",
    "    return s == s[::-1] #왜 안되지?"
   ]
  },
  {
   "cell_type": "code",
   "execution_count": null,
   "id": "0f8ef0b5",
   "metadata": {
    "scrolled": true
   },
   "outputs": [],
   "source": [
    "stra = input()\n",
    "isPalindrome(stra)"
   ]
  },
  {
   "cell_type": "markdown",
   "id": "6f96b5dc",
   "metadata": {},
   "source": [
    "# 2. 문자열 뒤집기\n",
    "\n",
    "문자열을 뒤집는 함수를 작성하라. 입력값은 문자 배열이며, 리턴 없이 리스트 내부를 직접 조작하라\n",
    "\n",
    "Ex)  \n",
    "입력  \n",
    "[\"h\",\"e\",\"l\",\"l\",\"o\"]\n",
    "\n",
    "출력  \n",
    "[\"o\",\"l\",\"l\",\"e\",\"h\"]"
   ]
  },
  {
   "cell_type": "code",
   "execution_count": 11,
   "id": "7fbe6053",
   "metadata": {},
   "outputs": [
    {
     "name": "stdout",
     "output_type": "stream",
     "text": [
      "hello\n",
      "['h', 'e', 'l', 'l', 'o']\n",
      "['o', 'l', 'l', 'e', 'h']\n"
     ]
    }
   ],
   "source": [
    "#투포인터를 이용한 스왑(투포인터 : 단어 그대로 2개의 포인터를 이용해 범위를 조정해가며 풀이하는 방식)\n",
    "#입력값 리스트??? 이해 x\n",
    "s = list(map(str, input()))\n",
    "print(s)\n",
    "left, right = 0, len(s) - 1\n",
    "while left < right:\n",
    "    s[left], s[right] = s[right], s[left]\n",
    "    left += 1\n",
    "    right -= 1\n",
    "print(s)"
   ]
  },
  {
   "cell_type": "code",
   "execution_count": null,
   "id": "3f24e786",
   "metadata": {},
   "outputs": [],
   "source": []
  },
  {
   "cell_type": "code",
   "execution_count": null,
   "id": "d22d6211",
   "metadata": {},
   "outputs": [],
   "source": []
  },
  {
   "cell_type": "markdown",
   "id": "b10ed33b",
   "metadata": {},
   "source": [
    "# 3. 로그 파일 재정렬\n",
    "\n",
    "로그를 재정렬하라. 기준은 다음과 같다.  \n",
    "\n",
    "1. 로그의 가장 앞 부분은 식별자이다.  \n",
    "2. 문자로 구성된 로그가 숫자 로그보다 앞에 온다.  \n",
    "3. 식별자는 순서에 영향을 끼치지 않지만, 문자가 동일할 경우 식별자 순으로 한다.  \n",
    "4. 숫자 로그는 입력 순서대로 한다.  \n",
    "\n",
    "Input: logs = [\"dig1 8 1 5 1\",\"let1 art can\",\"dig2 3 6\",\"let2 own kit dig\",\"let3 art zero\"]  \n",
    "\n",
    "Output: [\"let1 art can\",\"let3 art zero\",\"let2 own kit dig\",\"dig1 8 1 5 1\",\"dig2 3 6\"]"
   ]
  },
  {
   "cell_type": "code",
   "execution_count": 23,
   "id": "72f5d6ce",
   "metadata": {},
   "outputs": [
    {
     "name": "stdout",
     "output_type": "stream",
     "text": [
      "['let1 art can', 'let3 art zero', 'let2 own kit dig', 'dig1 8 1 5 1', 'dig2 3 6']\n"
     ]
    }
   ],
   "source": [
    "#풀이1. 람다와 + 연산자를 이용\n",
    "def reorderLogFiles(logs):\n",
    "    letters, digits = [],[]\n",
    "    for log in logs:\n",
    "        if log.split()[1].isdigit():\n",
    "            digits.append(log)\n",
    "        else:\n",
    "            letters.append(log)\n",
    "            \n",
    "    #2개의 키를 람다 표현식으로 정렬\n",
    "    #식별자를 제외한 문자열 [1:]을 키로 하여 정렬하고, 동일한 경우 후 순위로 식별자 [0]을 지정해 정렬 by 람다 표현식\n",
    "    letters.sort(key = lambda x: (x.split()[1:], x.split()[0]))\n",
    "    return letters + digits\n",
    "\n",
    "logs = [\"dig1 8 1 5 1\",\"let1 art can\",\"dig2 3 6\",\"let2 own kit dig\",\"let3 art zero\"]\n",
    "res = reorderLogFiles(logs)\n",
    "print(res)"
   ]
  },
  {
   "cell_type": "code",
   "execution_count": null,
   "id": "ecc220b4",
   "metadata": {},
   "outputs": [],
   "source": []
  },
  {
   "cell_type": "code",
   "execution_count": null,
   "id": "febfc943",
   "metadata": {},
   "outputs": [],
   "source": [
    "#예시)\n",
    "*"
   ]
  },
  {
   "cell_type": "code",
   "execution_count": null,
   "id": "9d0f23dd",
   "metadata": {},
   "outputs": [],
   "source": []
  },
  {
   "cell_type": "code",
   "execution_count": null,
   "id": "438a8885",
   "metadata": {},
   "outputs": [],
   "source": []
  },
  {
   "cell_type": "markdown",
   "id": "a58a921a",
   "metadata": {},
   "source": [
    "# 4. 가장 흔한 단어  \n",
    "\n",
    "금지된 단어를 제외한 가장 흔하게 등장하는 단어를 출력하라. 대소문자 구분을 하지 않으며, 구두점(마침표, 쉼표 등) 또한 무시한다.\n",
    "\n",
    "input : \"Bob hit a ball, the hit BALL flew far after it was hit.\"  \n",
    "banned : \"hit\"\n",
    "\n",
    "output : \"ball\""
   ]
  },
  {
   "cell_type": "markdown",
   "id": "b842090e",
   "metadata": {},
   "source": [
    "### 4.1 리스트 컴프리헨션, counter 객체 사용  \n",
    "입력값에 대한 전처리가 필요하다. 정규식을 사용하여 다음과 같이 처리할 수 있다.  \n",
    "words = [word for word in re.sub(r'[^\\w]', ' ', paragraph).lower().split() if word not in banned]  \n",
    "\n",
    "정규식에서 \\w는 단어 문자를 뜻하고, ^는 not을 의미한다. 따라서 위 정규식은 단어 문자가 아닌 모든 문자를 공백으로 치환하는 역할을 한다.  \n",
    "또한 조건절에 banned에 포함되지 않는 단어만을 대상으로 한다. 따라서 words에는 소문자, 구두점을 제외하고 banned를 제외한 단어 목록이 저장된다.  \n",
    "\n",
    "counts = collections .defaultdict(int)  \n",
    "for word in words:  counts[word] += 1  \n",
    "여기서 개수를 담아두는 변수는 딕셔너리를 사용하며 defaultdict()를 사용해 int 기본값이 자동으로 부여되게 했다. 따라서 여기서는 키 존재 유무를 확인할 필요 없이 즉시 counts[word] += 1 을 수행할 수 있다.  \n",
    "\n",
    "return max(counts, key = count.get)"
   ]
  },
  {
   "cell_type": "code",
   "execution_count": 13,
   "id": "fede6279",
   "metadata": {},
   "outputs": [
    {
     "name": "stdout",
     "output_type": "stream",
     "text": [
      "\"Bob hit a ball, the hit BALL flew far after it was hit.\"\n",
      "\"hit\"\n",
      "defaultdict(<class 'int'>, {'bob': 1, 'a': 1, 'ball': 2, 'the': 1, 'flew': 1, 'far': 1, 'after': 1, 'was': 1})\n"
     ]
    }
   ],
   "source": [
    "import re\n",
    "import collections\n",
    "paragraph = input()\n",
    "banned = input()\n",
    "words = [word for word in re.sub(r'[^\\w]', ' ', paragraph).lower().split()\n",
    "            if word not in banned]\n",
    "counts = collections.defaultdict(int)\n",
    "for word in words:\n",
    "    counts[word] += 1\n",
    "print(counts)"
   ]
  },
  {
   "cell_type": "code",
   "execution_count": null,
   "id": "d94b4789",
   "metadata": {},
   "outputs": [],
   "source": [
    "import re\n",
    "import collections\n",
    "paragraph = input()\n",
    "banned = input()\n",
    "words = [word for word in re.sub(r'[^\\w]', ' ', paragraph).lower().split()\n",
    "            if word not in banned]\n",
    "counts = collections.defaultdict(int)\n",
    "for word in words:\n",
    "    counts[word] += 1\n",
    "print(counts)"
   ]
  },
  {
   "cell_type": "code",
   "execution_count": null,
   "id": "45040ea5",
   "metadata": {},
   "outputs": [],
   "source": []
  },
  {
   "cell_type": "markdown",
   "id": "1ecbc454",
   "metadata": {},
   "source": [
    "\"Bob hit a ball, the hit BALL flew far after it was hit.\""
   ]
  },
  {
   "cell_type": "code",
   "execution_count": null,
   "id": "8ab98a2f",
   "metadata": {},
   "outputs": [],
   "source": [
    "\"hit\""
   ]
  },
  {
   "cell_type": "code",
   "execution_count": null,
   "id": "d11feb5e",
   "metadata": {},
   "outputs": [],
   "source": [
    "#왜 안나눠지지? str일텐데?\n",
    "a = input()\n",
    "a.split()\n",
    "print(a)"
   ]
  },
  {
   "cell_type": "markdown",
   "id": "eadb1139",
   "metadata": {},
   "source": [
    "# 5. 그룹 애너그램  \n",
    "\n",
    "문자열 배열을 받아 애너그램 단위로 그룹핑하라.  \n",
    "input : [\"eat\", \"tea\", \"tan\", \"ate\", \"nat\", \"bat\"]  \n",
    "output : [[\"ate\",\"eat\",\"tea\"], [\"nat\", \"tan\"], [\"bat\"]] "
   ]
  },
  {
   "cell_type": "code",
   "execution_count": null,
   "id": "671f55f4",
   "metadata": {},
   "outputs": [],
   "source": []
  },
  {
   "cell_type": "code",
   "execution_count": null,
   "id": "feccf92d",
   "metadata": {},
   "outputs": [],
   "source": []
  },
  {
   "cell_type": "code",
   "execution_count": null,
   "id": "92ff0f46",
   "metadata": {},
   "outputs": [],
   "source": []
  },
  {
   "cell_type": "code",
   "execution_count": null,
   "id": "fb3a063d",
   "metadata": {},
   "outputs": [],
   "source": []
  },
  {
   "cell_type": "markdown",
   "id": "3bc8d534",
   "metadata": {},
   "source": [
    "# 6. 가장 긴 팰린드롬 부분 문자열  \n",
    "가장 긴 팰린드롬 부분 문자열을 출력하라.  \n",
    "\n",
    "input : \"babad\"  \n",
    "output : \"bab\"  \n",
    "\n",
    "input : \"cbbd\"  \n",
    "output : \"bb\""
   ]
  },
  {
   "cell_type": "markdown",
   "id": "9e49f468",
   "metadata": {},
   "source": [
    "### 6-1. 중앙을 중심으로 확장하는 풀이  \n",
    "\n",
    "팰린드롬 판별만 하면 된다는 점에 착안하여, 매칭이 될 때 중앙을 중심으로 점점 확장해 나가면서 가장 긴 팰린드롬을 판별하는 알고리즘을 구현  "
   ]
  },
  {
   "cell_type": "code",
   "execution_count": null,
   "id": "3a501ec2",
   "metadata": {},
   "outputs": [],
   "source": [
    "#예외처리먼저\n",
    "#파이썬의 문자열 슬라이싱은 매우 빠르기에 s == s[::-1]로 필터링하는 것만으로 도움됨\n",
    "if len(s) < 2 or s == s[::-1]:\n",
    "    return s/x\n"
   ]
  },
  {
   "cell_type": "markdown",
   "id": "5308483e",
   "metadata": {},
   "source": [
    "슬라이싱과 s[3]처럼 인덱스로 직접 조회하는 것은 숫자를 표기하는 방식이 다르므로 주의가 필요하다.  \n",
    "예를 들어 s = '12345'일 때, s[1:3]은 23이 나오지만 s[3]은 4가 나온다. 즉, 슬라이싱은 n-1만큼 출력되며, 인덱스 조회는 해당 인덱스의 값이 나온다.(많이 헷갈리기도 하고, 버그도 많이 나오는 부분)"
   ]
  },
  {
   "cell_type": "code",
   "execution_count": null,
   "id": "f88daf80",
   "metadata": {},
   "outputs": [],
   "source": [
    "for i in range(0, len(s) - 1):\n",
    "    result = max(result,\n",
    "                expand(s, i, i+1),\n",
    "                expand(s, i, i+2),\n",
    "                key = len)\n",
    "result"
   ]
  },
  {
   "cell_type": "code",
   "execution_count": null,
   "id": "c1742c73",
   "metadata": {},
   "outputs": [],
   "source": [
    "#최종\n",
    "def logestPalindrome(s):\n",
    "    def expand(left, right):\n",
    "        while left >= 0 and right <= len(s) and s[left] == s[right-1]:\n",
    "            left -= 1\n",
    "            right += 1\n",
    "        return s[left + 1:right - 1]\n",
    "    \n",
    "    #해당 사항이 없을 때 빠르게 리턴\n",
    "    if len(s) < 2 or s == s[::-1]:\n",
    "        return s"
   ]
  },
  {
   "cell_type": "code",
   "execution_count": null,
   "id": "00a2a36b",
   "metadata": {},
   "outputs": [],
   "source": [
    "a = logestPalindrome(\"babad\")\n",
    "print(a)"
   ]
  },
  {
   "cell_type": "code",
   "execution_count": null,
   "id": "552a1ac5",
   "metadata": {},
   "outputs": [],
   "source": []
  },
  {
   "cell_type": "code",
   "execution_count": null,
   "id": "aa9d1c31",
   "metadata": {},
   "outputs": [],
   "source": []
  }
 ],
 "metadata": {
  "kernelspec": {
   "display_name": "Python 3 (ipykernel)",
   "language": "python",
   "name": "python3"
  },
  "language_info": {
   "codemirror_mode": {
    "name": "ipython",
    "version": 3
   },
   "file_extension": ".py",
   "mimetype": "text/x-python",
   "name": "python",
   "nbconvert_exporter": "python",
   "pygments_lexer": "ipython3",
   "version": "3.9.12"
  }
 },
 "nbformat": 4,
 "nbformat_minor": 5
}
