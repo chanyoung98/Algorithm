{
 "cells": [
  {
   "cell_type": "markdown",
   "id": "c2122bf3",
   "metadata": {},
   "source": [
    "# 58. 리스트 정렬"
   ]
  },
  {
   "cell_type": "code",
   "execution_count": 1,
   "id": "6b283d88",
   "metadata": {},
   "outputs": [],
   "source": [
    "#분할정렬을 이용한 풀이\n",
    "def merghTwoLists(lst1, lst2):\n",
    "    if lst1 and lst2:\n",
    "        if lst1.val > lst2.val:\n",
    "            lst1, lst2 = lst2, lst1\n",
    "        lst1.next = mergeTwolists(lst1.next, lst2)\n",
    "    \n",
    "    return lst1 or lst2\n",
    "\n",
    "def sortList(head):\n",
    "    if not (head and head.next):\n",
    "        return head\n",
    "    \n",
    "    #런너 기법 활용\n",
    "    half, slow, fast = None, head, head\n",
    "    while fast and fast.next:\n",
    "        half, show, fast = slow, slow.next, fast.next.next\n",
    "    half.next = None\n",
    "    \n",
    "    #분할 재귀 호출\n",
    "    lst1 = sortList(head)\n",
    "    lst2 = sortList(slow)\n",
    "    \n",
    "    return mergeTwoLists(lst1, lst2)"
   ]
  },
  {
   "cell_type": "code",
   "execution_count": 11,
   "id": "4199d74f",
   "metadata": {},
   "outputs": [],
   "source": [
    "#내장함수를 이용한 풀이\n",
    "def sortList(head):\n",
    "    lst = []\n",
    "    p = head\n",
    "    while p:\n",
    "        lst.append(p.val)\n",
    "        p = p.next\n",
    "    \n",
    "    lst.sort()\n",
    "    \n",
    "    p = head\n",
    "    for i in lst:\n",
    "        p.val = i\n",
    "        p = p.next\n",
    "    return head\n"
   ]
  },
  {
   "cell_type": "markdown",
   "id": "b4ebd229",
   "metadata": {},
   "source": [
    "# 구간 병합\n",
    "겹치는 구간을 병합하라"
   ]
  },
  {
   "cell_type": "code",
   "execution_count": 75,
   "id": "e24b48da",
   "metadata": {},
   "outputs": [
    {
     "data": {
      "text/plain": [
       "[[1, 6], [8, 10], [15, 18]]"
      ]
     },
     "execution_count": 75,
     "metadata": {},
     "output_type": "execute_result"
    }
   ],
   "source": [
    "intervals = [[1,3], [2,6], [8,10], [15,18]]\n",
    "\n",
    "def merge(intervals):\n",
    "    merged = []\n",
    "    for i in sorted(intervals, key = lambda x: x[0]): #힙으로도 구현 가능한 아이디어\n",
    "        if merged and i[0] <= merged[-1][1]:\n",
    "            merged[-1][1] = max(merged[-1][1], i[1])\n",
    "        else:\n",
    "            merged += i,\n",
    "    return merged\n",
    "merge(intervals)"
   ]
  },
  {
   "cell_type": "code",
   "execution_count": 80,
   "id": "23e2429a",
   "metadata": {},
   "outputs": [
    {
     "data": {
      "text/plain": [
       "[[1, 6], [8, 10], [15, 18]]"
      ]
     },
     "execution_count": 80,
     "metadata": {},
     "output_type": "execute_result"
    }
   ],
   "source": [
    "intervals = [[1,3], [2,6], [8,10], [15,18]]\n",
    "def merge(nums):\n",
    "    lst = [] #정답을 담을 리스트\n",
    "    #하나씩 가져와서 비교\n",
    "    #lst가 비어있을 경우 그냥 넣기\n",
    "    #나한테 있는 가장 큰 값 < 들어올 값의 첫번째 요소 -> 그냥 넣기\n",
    "    #위에가 아닐경우 작업 시작\n",
    "    for i in sorted(nums, key = lambda x: x[0]):\n",
    "        if lst and lst[-1][1] > i[0]:\n",
    "            lst[-1][1] = max(i[1], lst[-1][1])\n",
    "        else:\n",
    "            lst += i,\n",
    "    return lst\n",
    "merge(intervals)"
   ]
  },
  {
   "cell_type": "code",
   "execution_count": 78,
   "id": "5b891dee",
   "metadata": {},
   "outputs": [
    {
     "name": "stdout",
     "output_type": "stream",
     "text": [
      "[1, 3]\n",
      "[2, 6]\n",
      "[8, 10]\n",
      "[15, 18]\n",
      "[1, 3, 2, 6, 8, 10, 15, 18]\n"
     ]
    }
   ],
   "source": []
  },
  {
   "cell_type": "code",
   "execution_count": null,
   "id": "72122ea9",
   "metadata": {},
   "outputs": [],
   "source": []
  },
  {
   "cell_type": "code",
   "execution_count": null,
   "id": "721842f6",
   "metadata": {},
   "outputs": [],
   "source": []
  },
  {
   "cell_type": "markdown",
   "id": "7ed558fd",
   "metadata": {},
   "source": [
    "# 삽입 정렬 리스트\n",
    "연결 리스트를 삽입 정렬로 정렬하라."
   ]
  },
  {
   "cell_type": "code",
   "execution_count": null,
   "id": "c4213685",
   "metadata": {},
   "outputs": [],
   "source": []
  },
  {
   "cell_type": "code",
   "execution_count": null,
   "id": "e67f2f4b",
   "metadata": {},
   "outputs": [],
   "source": []
  },
  {
   "cell_type": "code",
   "execution_count": null,
   "id": "22cf8e90",
   "metadata": {},
   "outputs": [],
   "source": []
  },
  {
   "cell_type": "code",
   "execution_count": null,
   "id": "22e1a52b",
   "metadata": {},
   "outputs": [],
   "source": []
  },
  {
   "cell_type": "markdown",
   "id": "4d89bd09",
   "metadata": {},
   "source": [
    "# 가장 큰 수"
   ]
  },
  {
   "cell_type": "code",
   "execution_count": 81,
   "id": "ad1f15a5",
   "metadata": {},
   "outputs": [],
   "source": [
    "class Solution:\n",
    "    #문제에 적합한 비교함수\n",
    "    def to_swap(n1, n2):\n",
    "        return str(n1) + str(n2) < str(n2) + str(n1)\n",
    "    \n",
    "    #삽입 정렬 구현\n",
    "    def largestNumber(nums):\n",
    "        i = 1\n",
    "        while i < len(nums):\n",
    "            j = i\n",
    "            while j > 0 and self.to_swap(nums[j-1], nums[j]):\n",
    "                nums[j], nums[j-1] = nums[j-1], nums[j]\n",
    "                j -= 1\n",
    "            i += 1\n",
    "        return str(int(''.join(map(str, nums))))"
   ]
  },
  {
   "cell_type": "code",
   "execution_count": 82,
   "id": "ae70ff20",
   "metadata": {},
   "outputs": [
    {
     "ename": "TypeError",
     "evalue": "largestNumber() takes 1 positional argument but 2 were given",
     "output_type": "error",
     "traceback": [
      "\u001b[1;31m---------------------------------------------------------------------------\u001b[0m",
      "\u001b[1;31mTypeError\u001b[0m                                 Traceback (most recent call last)",
      "Input \u001b[1;32mIn [82]\u001b[0m, in \u001b[0;36m<cell line: 3>\u001b[1;34m()\u001b[0m\n\u001b[0;32m      1\u001b[0m lst \u001b[38;5;241m=\u001b[39m [\u001b[38;5;241m3\u001b[39m,\u001b[38;5;241m30\u001b[39m,\u001b[38;5;241m34\u001b[39m,\u001b[38;5;241m5\u001b[39m,\u001b[38;5;241m9\u001b[39m]\n\u001b[0;32m      2\u001b[0m s \u001b[38;5;241m=\u001b[39m Solution()\n\u001b[1;32m----> 3\u001b[0m \u001b[43ms\u001b[49m\u001b[38;5;241;43m.\u001b[39;49m\u001b[43mlargestNumber\u001b[49m\u001b[43m(\u001b[49m\u001b[43mlst\u001b[49m\u001b[43m)\u001b[49m\n",
      "\u001b[1;31mTypeError\u001b[0m: largestNumber() takes 1 positional argument but 2 were given"
     ]
    }
   ],
   "source": [
    "lst = [3,30,34,5,9]\n",
    "s = Solution()\n",
    "s.largestNumber(lst)"
   ]
  },
  {
   "cell_type": "code",
   "execution_count": 33,
   "id": "8d50edeb",
   "metadata": {},
   "outputs": [
    {
     "data": {
      "text/plain": [
       "'15324'"
      ]
     },
     "execution_count": 33,
     "metadata": {},
     "output_type": "execute_result"
    }
   ],
   "source": [
    "lst = [1,5,3,2,4]\n",
    "str(int(''.join(map(str,lst))))"
   ]
  },
  {
   "cell_type": "markdown",
   "id": "125e2f2e",
   "metadata": {},
   "source": [
    "# 유효한 애너그램"
   ]
  },
  {
   "cell_type": "code",
   "execution_count": 44,
   "id": "b9f9e4dc",
   "metadata": {},
   "outputs": [
    {
     "data": {
      "text/plain": [
       "True"
      ]
     },
     "execution_count": 44,
     "metadata": {},
     "output_type": "execute_result"
    }
   ],
   "source": [
    "s = 'anagram'; t = 'nagaram'\n",
    "def ana(s, t):\n",
    "    return sorted(s) == sorted(t)\n",
    "\n",
    "ana(s, t)"
   ]
  },
  {
   "cell_type": "code",
   "execution_count": null,
   "id": "399f14cb",
   "metadata": {},
   "outputs": [],
   "source": []
  },
  {
   "cell_type": "markdown",
   "id": "2f9b0a19",
   "metadata": {},
   "source": [
    "# 색 정렬"
   ]
  },
  {
   "cell_type": "code",
   "execution_count": 45,
   "id": "fd180840",
   "metadata": {},
   "outputs": [
    {
     "data": {
      "text/plain": [
       "[0, 0, 1, 1, 2, 2]"
      ]
     },
     "execution_count": 45,
     "metadata": {},
     "output_type": "execute_result"
    }
   ],
   "source": [
    "lst = [2,0,2,1,1,0]\n",
    "\n",
    "#네덜란드 국기문제\n",
    "def sortColors(nums):\n",
    "    red, white, blue = 0, 0, len(nums)\n",
    "    while white < blue:\n",
    "        if nums[white] < 1:\n",
    "            nums[white], nums[red] = nums[red], nums[white]\n",
    "            white+=1\n",
    "            red+=1\n",
    "        elif nums[white] > 1:\n",
    "            blue-=1\n",
    "            nums[white], nums[blue] = nums[blue], nums[white]\n",
    "        else:\n",
    "            white+=1"
   ]
  },
  {
   "cell_type": "code",
   "execution_count": null,
   "id": "376d34c6",
   "metadata": {},
   "outputs": [],
   "source": []
  },
  {
   "cell_type": "markdown",
   "id": "7056eb3a",
   "metadata": {},
   "source": [
    "# 원점에 K번째로 가까운 점\n"
   ]
  },
  {
   "cell_type": "code",
   "execution_count": 61,
   "id": "107d0146",
   "metadata": {},
   "outputs": [
    {
     "data": {
      "text/plain": [
       "[[3, 3], [-2, 4]]"
      ]
     },
     "execution_count": 61,
     "metadata": {},
     "output_type": "execute_result"
    }
   ],
   "source": [
    "import heapq\n",
    "def Uclidean(lst):\n",
    "    #힙 활용, (거리, x, y)를 heap에 넣고 빼기 -> 거리 순으로 빠지게 됨\n",
    "    heap = []\n",
    "    result = []\n",
    "    for (a, b) in lst:\n",
    "        dist = a**2 + b**2\n",
    "        heapq.heappush(heap, (dist, a, b))\n",
    "        \n",
    "    for _ in range(k):\n",
    "        (dist, a, b) = heapq.heappop(heap)\n",
    "        result.append([a,b])\n",
    "    return result\n",
    "\n",
    "Uclidean(points)"
   ]
  },
  {
   "cell_type": "code",
   "execution_count": 66,
   "id": "d083d9f1",
   "metadata": {},
   "outputs": [
    {
     "data": {
      "text/plain": [
       "[[3, 3], [-2, 4]]"
      ]
     },
     "execution_count": 66,
     "metadata": {},
     "output_type": "execute_result"
    }
   ],
   "source": [
    "points = [[3,3], [5,-1],[-2,4]]; k = 2\n",
    "Uclidean(points)\n",
    "\n"
   ]
  },
  {
   "cell_type": "code",
   "execution_count": 67,
   "id": "fbb52a88",
   "metadata": {},
   "outputs": [
    {
     "name": "stdout",
     "output_type": "stream",
     "text": [
      "1 2\n",
      "3 4\n"
     ]
    }
   ],
   "source": [
    "for a,b in [[1,2],[3,4]]:\n",
    "    print(a,b)"
   ]
  },
  {
   "cell_type": "code",
   "execution_count": null,
   "id": "b3567046",
   "metadata": {},
   "outputs": [],
   "source": []
  }
 ],
 "metadata": {
  "kernelspec": {
   "display_name": "Python 3 (ipykernel)",
   "language": "python",
   "name": "python3"
  },
  "language_info": {
   "codemirror_mode": {
    "name": "ipython",
    "version": 3
   },
   "file_extension": ".py",
   "mimetype": "text/x-python",
   "name": "python",
   "nbconvert_exporter": "python",
   "pygments_lexer": "ipython3",
   "version": "3.9.12"
  }
 },
 "nbformat": 4,
 "nbformat_minor": 5
}
