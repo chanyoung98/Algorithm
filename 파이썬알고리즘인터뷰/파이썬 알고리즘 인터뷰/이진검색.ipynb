{
 "cells": [
  {
   "cell_type": "markdown",
   "id": "c98699a3",
   "metadata": {},
   "source": [
    "# 이진 검색"
   ]
  },
  {
   "cell_type": "code",
   "execution_count": null,
   "id": "00be0baa",
   "metadata": {},
   "outputs": [],
   "source": [
    "#재귀로 풀기\n",
    "nums = [-1,0,1,2,3,4]; target = 9\n",
    "\n",
    "#left, right, mid : 위치 인덱스\n",
    "def BinarySearch(left, right, target):\n",
    "    if left < right:\n",
    "        mid = (left+right) // 2\n",
    "        if target > nums[mid]:\n",
    "            return BinarySearch(mid+1, right, 9)\n",
    "        elif target < nums[mid]:\n",
    "            return BinarySeaerch(left, mid-1, 9)\n",
    "        else:\n",
    "            return mid\n",
    "    else:\n",
    "        return -1\n",
    "\n",
    "BinarySearch(0, len(nums)-1, 9)"
   ]
  },
  {
   "cell_type": "code",
   "execution_count": null,
   "id": "9b97372e",
   "metadata": {},
   "outputs": [],
   "source": [
    "#반복문으로 풀기\n",
    "nums = [-1,0,3,5,9,12]; target = 9\n",
    "\n",
    "left = 0; right = len(nums)-1\n",
    "while left <= right:\n",
    "    mid = (left + right) // 2\n",
    "    if nums[mid] < target:\n",
    "        left = mid + 1\n",
    "    elif nums[mid] > target:\n",
    "        right = mid - 1\n",
    "    else:\n",
    "        print(mid)\n",
    "        break"
   ]
  },
  {
   "cell_type": "code",
   "execution_count": null,
   "id": "93bfa026",
   "metadata": {},
   "outputs": [],
   "source": [
    "#파이썬에서는 이진 검색을 직접 구현할 필요가 없다!\n",
    "import bisect\n",
    "nums = [-1,0,3,5,9,12]; target = 9\n",
    "\n",
    "index = bisect.bisect_left(nums, target) #끝\n",
    "if index < len(nums) and nums[index] == target:\n",
    "    print(index)\n",
    "else:\n",
    "    print(-1)"
   ]
  },
  {
   "cell_type": "code",
   "execution_count": null,
   "id": "2f5ddfe6",
   "metadata": {},
   "outputs": [],
   "source": [
    "index = bisect.bisect_left(nums, target)\n",
    "index"
   ]
  },
  {
   "cell_type": "code",
   "execution_count": null,
   "id": "a62421df",
   "metadata": {},
   "outputs": [],
   "source": [
    "nums.index(target)"
   ]
  },
  {
   "cell_type": "markdown",
   "id": "ffa0e2b7",
   "metadata": {},
   "source": [
    "# 두 배열의 교집합"
   ]
  },
  {
   "cell_type": "code",
   "execution_count": null,
   "id": "0bdd24ce",
   "metadata": {},
   "outputs": [],
   "source": [
    "nums1 = [4,9,5]; nums2 = [9,4,9,8,4]\n",
    "#nums1의 값을 하나씩 넘겨서,,, bisect를 통해 nums2에 들어갈 위치를 찾자. 그 위치에 해당 값이 있으면 중복이므로 set에 넣어주자\n",
    "#해당 값이 해당 인덱스에 있는지 확인하기 위해 nums2를 sorting해주어야 한다.\n",
    "result = set()\n",
    "nums2.sort()\n",
    "for n1 in nums1:\n",
    "    idx1 = bisect.bisect_left(nums2, n1)\n",
    "    if nums2[idx1] == n1 and idx1 < len(nums2) and len(nums2) > 0:\n",
    "        result.add(n1)\n",
    "result"
   ]
  },
  {
   "cell_type": "code",
   "execution_count": null,
   "id": "86f31424",
   "metadata": {},
   "outputs": [],
   "source": [
    "# 투 포인터로 일치 여부 판별\n",
    "nums1 = [4,9,5]; nums2 = [9,4,9,8,4]\n",
    "result = set()\n",
    "#양쪽 모두 정렬시킨 상태에서 각 리스트별로 포인터 이동.\n",
    "#포인터 인덱스의 값이 더 작은 경우 해당 인덱스만 이동\n",
    "nums1.sort(); nums2.sort()\n",
    "i, j = 0, 0\n",
    "while i < len(nums1) and j < len(nums2):\n",
    "    if nums1[i] > nums2[j]:\n",
    "        j+=1\n",
    "    elif nums1[i] < nums2[j]:\n",
    "        i+=1\n",
    "    else:\n",
    "        result.add(nums1[i])\n",
    "        i+=1\n",
    "        j+=1\n",
    "print(result)"
   ]
  },
  {
   "cell_type": "code",
   "execution_count": null,
   "id": "e89de25d",
   "metadata": {},
   "outputs": [],
   "source": []
  },
  {
   "cell_type": "markdown",
   "id": "fe09168b",
   "metadata": {},
   "source": [
    "# 두 수의 합2\n",
    "정렬된 배열을 받아 덧셈하여 타겟을 만들 수 있는 배열의 두 숫자 인덱스를 리턴하라."
   ]
  },
  {
   "cell_type": "code",
   "execution_count": null,
   "id": "a90fcdda",
   "metadata": {},
   "outputs": [],
   "source": [
    "#투포인터\n",
    "numbers = [2,7,11,15]; target = 9\n",
    "\n",
    "def search(numbers, target):\n",
    "    left, right = 0, len(numbers)-1\n",
    "    while left < right:\n",
    "        if numbers[left] + numbers[right] > target:\n",
    "            right -= 1\n",
    "        elif numbers[left] + numbers[right] < target:\n",
    "            left += 1\n",
    "        else:\n",
    "            return left+1, right+1\n",
    "search(numbers, target)"
   ]
  },
  {
   "cell_type": "code",
   "execution_count": null,
   "id": "b80fe311",
   "metadata": {},
   "outputs": [],
   "source": [
    "#이진탐색\n"
   ]
  },
  {
   "cell_type": "code",
   "execution_count": null,
   "id": "ea27bfba",
   "metadata": {},
   "outputs": [],
   "source": [
    "import bisect\n",
    "def twoSum(numbers, target):\n",
    "    for k, v in enumerate(numbers):\n",
    "        expected = target - v\n",
    "        i = bisect.bisect_left(numbers[k+1:], expected)\n",
    "        if i < len(numbers[k + 1:]) and numbers[i + k + 1] == expected:\n",
    "            return k + 1, i + k + 2\n",
    "twoSum(numbers, target)"
   ]
  },
  {
   "cell_type": "code",
   "execution_count": null,
   "id": "4c52c8fe",
   "metadata": {},
   "outputs": [],
   "source": []
  },
  {
   "cell_type": "markdown",
   "id": "33cf4e57",
   "metadata": {},
   "source": [
    "# 2D 행렬 검색"
   ]
  },
  {
   "cell_type": "code",
   "execution_count": null,
   "id": "21dc3c01",
   "metadata": {},
   "outputs": [],
   "source": [
    "mat = [[1,4,7,11,15],\n",
    "      [2,5,8,12,19],\n",
    "      [3,6,9,16,22],\n",
    "      [10,13,14,17,24],\n",
    "      [18,21,23,26,30]]\n",
    "target = 5"
   ]
  },
  {
   "cell_type": "code",
   "execution_count": null,
   "id": "98a2c452",
   "metadata": {},
   "outputs": [],
   "source": [
    "def searchMatrix(matrix, target):\n",
    "    if not matrix:\n",
    "        return False\n",
    "    \n",
    "    row = 0\n",
    "    col = len(matrix[0]) - 1\n",
    "    \n",
    "    #and, or 둘 다 해보자\n",
    "    while row <= len(matrix)-1 and col >= 0:\n",
    "        if target < matrix[row][col]:\n",
    "            col -= 1\n",
    "        elif target > matrix[row][col]:\n",
    "            row += 1\n",
    "        else:\n",
    "            return True\n",
    "    return False\n",
    "searchMatrix(mat, target)"
   ]
  },
  {
   "cell_type": "code",
   "execution_count": null,
   "id": "67225eff",
   "metadata": {},
   "outputs": [],
   "source": [
    "import numpy as np\n",
    "mat = np.array(np.random.randn(12)).reshape(4,3)\n",
    "mat"
   ]
  },
  {
   "cell_type": "code",
   "execution_count": null,
   "id": "64bd7ece",
   "metadata": {},
   "outputs": [],
   "source": []
  },
  {
   "cell_type": "code",
   "execution_count": null,
   "id": "f47d1028",
   "metadata": {},
   "outputs": [],
   "source": []
  },
  {
   "cell_type": "code",
   "execution_count": 10,
   "id": "72b38fd8",
   "metadata": {},
   "outputs": [
    {
     "data": {
      "text/plain": [
       "4"
      ]
     },
     "execution_count": 10,
     "metadata": {},
     "output_type": "execute_result"
    }
   ],
   "source": [
    "#재귀로 풀기\n",
    "nums = [-1,0,4,9,12,15]; target = 12\n",
    "\n",
    "def BinarySearch(nums, target):\n",
    "    def binary(left, right):\n",
    "        mid = (left+right) // 2\n",
    "        if left <= right:\n",
    "            if target < nums[mid]:\n",
    "                return binary(left, mid - 1)\n",
    "            elif target > nums[mid]:\n",
    "                return binary(mid+1, right)\n",
    "            else:\n",
    "                return mid\n",
    "\n",
    "            return binary(left, right)\n",
    "        else:\n",
    "            return -1\n",
    "    return binary(0, len(nums) - 1) #여기서 left, right 정해줌 -> 따로 변수설정을 할 필요가 없음(재귀의 장점)\n",
    "\n",
    "BinarySearch(nums, target)"
   ]
  },
  {
   "cell_type": "code",
   "execution_count": 19,
   "id": "1716b430",
   "metadata": {},
   "outputs": [
    {
     "data": {
      "text/plain": [
       "3"
      ]
     },
     "execution_count": 19,
     "metadata": {},
     "output_type": "execute_result"
    }
   ],
   "source": [
    "#반복 풀이\n",
    "nums = [-1,0,4,9,12,15]; target = 9\n",
    "def BinarySearch(nums, target):\n",
    "    left, right = 0, len(nums) - 1\n",
    "    while left <= right:\n",
    "        mid = (left + right)//2\n",
    "        if target < nums[mid]:\n",
    "            right = mid - 1\n",
    "        elif target > nums[mid]:\n",
    "            left = mid + 1\n",
    "        else:\n",
    "            return mid\n",
    "    return False\n",
    "BinarySearch(nums, target)"
   ]
  },
  {
   "cell_type": "code",
   "execution_count": 22,
   "id": "38317b7a",
   "metadata": {},
   "outputs": [
    {
     "data": {
      "text/plain": [
       "3"
      ]
     },
     "execution_count": 22,
     "metadata": {},
     "output_type": "execute_result"
    }
   ],
   "source": [
    "#이진 검색 모듈\n",
    "import bisect\n",
    "def search(nums, target):\n",
    "    index = bisect.bisect_left(nums, target)\n",
    "    if index < len(nums) and nums[index] == target: return index\n",
    "    else: return False\n",
    "search(nums, target)"
   ]
  },
  {
   "cell_type": "code",
   "execution_count": 23,
   "id": "37cbc8f0",
   "metadata": {},
   "outputs": [
    {
     "data": {
      "text/plain": [
       "3"
      ]
     },
     "execution_count": 23,
     "metadata": {},
     "output_type": "execute_result"
    }
   ],
   "source": [
    "#그냥 index\n",
    "def search(nums, target):\n",
    "    index = nums.index(target)\n",
    "    if index < len(nums) and nums[index] == target: return index\n",
    "    else: return False\n",
    "search(nums, target)"
   ]
  },
  {
   "cell_type": "code",
   "execution_count": null,
   "id": "181d53d2",
   "metadata": {},
   "outputs": [],
   "source": []
  },
  {
   "cell_type": "code",
   "execution_count": 28,
   "id": "25851c1a",
   "metadata": {},
   "outputs": [
    {
     "data": {
      "text/plain": [
       "{4, 9}"
      ]
     },
     "execution_count": 28,
     "metadata": {},
     "output_type": "execute_result"
    }
   ],
   "source": [
    "#두 배열의 교집합을 구하라\n",
    "nums1 = [4,9,5]; nums2 = [9,4,9,8,4]\n",
    "\n",
    "def search(nums1, nums2):\n",
    "    result = set()\n",
    "    nums1.sort(); nums2.sort()\n",
    "    pnt1 = pnt2 = 0\n",
    "    while pnt1 < len(nums1) and pnt2 < len(nums2):\n",
    "        if nums1[pnt1] > nums2[pnt2]:\n",
    "            pnt2 += 1\n",
    "        elif nums1[pnt1] < nums2[pnt2]:\n",
    "            pnt1 += 1\n",
    "        else:\n",
    "            result.add(nums1[pnt1])\n",
    "            pnt2 += 1\n",
    "            pnt1 += 1\n",
    "    return result\n",
    "search(nums1, nums2)"
   ]
  },
  {
   "cell_type": "code",
   "execution_count": 29,
   "id": "b82cba09",
   "metadata": {},
   "outputs": [],
   "source": [
    "#두 배열의 교집합을 구하라(bisect 활용)"
   ]
  },
  {
   "cell_type": "code",
   "execution_count": 31,
   "id": "8c303981",
   "metadata": {},
   "outputs": [
    {
     "name": "stdout",
     "output_type": "stream",
     "text": [
      "1\n",
      "2\n",
      "4\n"
     ]
    }
   ],
   "source": [
    "nums1 = [2,4,5,6]\n",
    "nums2 = [3,5,10]\n",
    "\n",
    "for i in nums2:\n",
    "    i2 = bisect.bisect_left(nums1, i)\n",
    "    print(i2)"
   ]
  },
  {
   "cell_type": "code",
   "execution_count": null,
   "id": "947724c7",
   "metadata": {},
   "outputs": [],
   "source": []
  }
 ],
 "metadata": {
  "kernelspec": {
   "display_name": "Python 3 (ipykernel)",
   "language": "python",
   "name": "python3"
  },
  "language_info": {
   "codemirror_mode": {
    "name": "ipython",
    "version": 3
   },
   "file_extension": ".py",
   "mimetype": "text/x-python",
   "name": "python",
   "nbconvert_exporter": "python",
   "pygments_lexer": "ipython3",
   "version": "3.9.12"
  }
 },
 "nbformat": 4,
 "nbformat_minor": 5
}
