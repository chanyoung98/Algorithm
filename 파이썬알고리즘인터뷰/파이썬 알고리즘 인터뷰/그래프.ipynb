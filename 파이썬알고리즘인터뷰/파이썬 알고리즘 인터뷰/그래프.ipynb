{
 "cells": [
  {
   "cell_type": "code",
   "execution_count": null,
   "id": "7191f24d",
   "metadata": {},
   "outputs": [],
   "source": []
  },
  {
   "cell_type": "code",
   "execution_count": null,
   "id": "7dd336ce",
   "metadata": {},
   "outputs": [],
   "source": [
    "#그래프 탐색\n",
    "graph = {\n",
    "    1:[2,3,4],\n",
    "    2:[5],\n",
    "    3:[5],\n",
    "    4:[],\n",
    "    5:[6,7],\n",
    "    6:[],\n",
    "    7:[3],\n",
    "}\n",
    "\n",
    "#DFS(깊이 우선 탐색)\n",
    "#1. 재귀\n",
    "def recursive_dfs(v, discovered = []):\n",
    "    discovered.append(v)\n",
    "    for w in graph[v]:\n",
    "        if not w in discovered:\n",
    "            discovered = recursive_dfs(w, discovered)\n",
    "    return discovered\n",
    "\n",
    "#2. 스택\n",
    "def iterative_dfs(start_v):\n",
    "    discovered = []\n",
    "    stack = [start_v]\n",
    "    while stack:\n",
    "        v = stack.pop()\n",
    "        if v not in discovered:\n",
    "            discovered.append(v)\n",
    "            for w in graph[v]:\n",
    "                stack.append(w)\n",
    "    return discovered"
   ]
  },
  {
   "cell_type": "code",
   "execution_count": null,
   "id": "977cbcb3",
   "metadata": {},
   "outputs": [],
   "source": [
    "recursive_dfs(1)"
   ]
  },
  {
   "cell_type": "code",
   "execution_count": null,
   "id": "94027443",
   "metadata": {},
   "outputs": [],
   "source": [
    "#stack으로 구현하다보면 가장 마지막에 삽입된 노드부터 꺼내서 반복하게 된다. 즉, 마지막부터 치례로 방문되기에 재귀형식이랑 다르게 구현될 수 있다.\n",
    "iterative_dfs(1)"
   ]
  },
  {
   "cell_type": "code",
   "execution_count": null,
   "id": "84947048",
   "metadata": {},
   "outputs": [],
   "source": [
    "#BFS(너비 우선 탐색)\n",
    "#큐\n",
    "def iterative_bfs(start_v):\n",
    "    discovered = [start_v]\n",
    "    queue = [start_v]\n",
    "    while queue:\n",
    "        v = queue.pop(0)\n",
    "        for w in graph[v]:\n",
    "            if w not in discovered:\n",
    "                discovered.append(w)\n",
    "                queue.append(w)\n",
    "    return discovered\n",
    "iterative_bfs(1)\n",
    "\n",
    "#BFS는 재귀를 사용할 수 없고 큐를 이용해 구현한다는 사실을 반드시 명심하자"
   ]
  },
  {
   "cell_type": "markdown",
   "id": "e436337a",
   "metadata": {},
   "source": [
    "# 섬의 개수\n",
    "1을 육지로, 0을 물로 가정한 2D 그리드 맵이 주어졌을 때, 섬의 개수를 계산하라"
   ]
  },
  {
   "cell_type": "code",
   "execution_count": null,
   "id": "bfb59714",
   "metadata": {},
   "outputs": [],
   "source": [
    "#입력값이 정확히 그래프는 아니지만, 사실상 동서남북이 모두 연결된 그래프라고 가정하고 풀자\n",
    "#네 방향 각각 DFS 재귀를 이용해 탐색을 끝마치면 1이 증가하는 형태로 육지의 개수를 파악할 수 있다.\n",
    "def numlslands(grid):\n",
    "    def dfs(i, j):\n",
    "         #더 이상 땅이 아닌 경우 종료\n",
    "        if i < 0 or i >= len(grid) or j < 0 or j >= len(grid[0]) or grid[i][j] != 1:\n",
    "            return\n",
    "        \n",
    "        grid[i][j] = 0\n",
    "        #동서남북 탐색\n",
    "        dfs(i+1, j)\n",
    "        dfs(i-1, j)\n",
    "        dfs(i, j+1)\n",
    "        dfs(i, j-1)\n",
    "        \n",
    "    count = 0\n",
    "    for i in range(len(grid)):\n",
    "        for j in range(len(grid[0])):\n",
    "            if grid[i][j] == 1:\n",
    "                print('a')\n",
    "                dfs(i, j)\n",
    "                #모든 육지 탐색 후 카운트 1 증가\n",
    "                count += 1\n",
    "            else: print('b')\n",
    "    return count"
   ]
  },
  {
   "cell_type": "code",
   "execution_count": null,
   "id": "f9ca04bc",
   "metadata": {},
   "outputs": [],
   "source": [
    "lslands = [[1,1,0,0,0],\n",
    "           [1,1,0,0,0],\n",
    "           [0,0,1,0,0],\n",
    "           [0,0,0,1,1]]\n",
    "numlslands(lslands)"
   ]
  },
  {
   "cell_type": "markdown",
   "id": "c27baf44",
   "metadata": {},
   "source": [
    "# 중첩 함수 예시"
   ]
  },
  {
   "cell_type": "code",
   "execution_count": null,
   "id": "b2a56e03",
   "metadata": {},
   "outputs": [],
   "source": [
    "def outer_function(t):\n",
    "    text = t\n",
    "    def inner_function(): #아무런 인자를 넘기지 않았지만 text라는 지역변수를 그대로 받아내는 모습\n",
    "        print(text)\n",
    "    inner_function()\n",
    "\n",
    "outer_function(\"hello\")"
   ]
  },
  {
   "cell_type": "markdown",
   "id": "4fbc74c0",
   "metadata": {},
   "source": [
    "# 연산자 조작"
   ]
  },
  {
   "cell_type": "code",
   "execution_count": null,
   "id": "85cc2203",
   "metadata": {},
   "outputs": [],
   "source": []
  },
  {
   "cell_type": "code",
   "execution_count": null,
   "id": "73f966fa",
   "metadata": {},
   "outputs": [],
   "source": []
  },
  {
   "cell_type": "code",
   "execution_count": null,
   "id": "31c696a3",
   "metadata": {},
   "outputs": [],
   "source": []
  },
  {
   "cell_type": "code",
   "execution_count": null,
   "id": "3883e0f9",
   "metadata": {},
   "outputs": [],
   "source": []
  },
  {
   "cell_type": "markdown",
   "id": "65df61d5",
   "metadata": {},
   "source": [
    "# 전화 번호 문자 조합\n",
    "2에서 9까지 숫자가 주어졌을 때 전화 번호로 조합 가능한 모든 문자를 출력하라"
   ]
  },
  {
   "cell_type": "code",
   "execution_count": null,
   "id": "afe5b857",
   "metadata": {},
   "outputs": [],
   "source": [
    "def Nums(nums):\n",
    "    \n",
    "    \n",
    "    dic = {2: 'abc', 3: 'def', 4: 'ghi', 5: 'jkl', 6: 'mno', 7: 'pqrs', 8: 'tuv', 9: 'wxyz'}\n",
    "    \n",
    "    \n",
    "    "
   ]
  },
  {
   "cell_type": "code",
   "execution_count": null,
   "id": "6b8ef5b9",
   "metadata": {},
   "outputs": [],
   "source": [
    "nums = '23'\n",
    "dic = {2: 'abc', 3: 'def', 4: 'ghi', 5: 'jkl', 6: 'mno', 7: 'pqrs', 8: 'tuv', 9: 'wxyz'}\n",
    "\n",
    "for i in nums:\n",
    "    print(dic[int(i)])\n"
   ]
  },
  {
   "cell_type": "code",
   "execution_count": null,
   "id": "2fc0bf4a",
   "metadata": {},
   "outputs": [],
   "source": [
    "def letterCombinations(digits):\n",
    "    def dfs(index, path): #0, \"\"\n",
    "        #끝까지 탐색하면 백트래킹\n",
    "        if len(path) == len(digits):\n",
    "            result.append(path)\n",
    "            return\n",
    "        \n",
    "        for i in range(index, len(digits)):\n",
    "            #숫자에 해당하는 모든 문자열 반복\n",
    "            for j in dic[digits[i]]:\n",
    "                dfs(i + 1, path + j)\n",
    "    \n",
    "    #예외 처리\n",
    "    if not digits:\n",
    "        return []\n",
    "    \n",
    "    dic = {2: 'abc', 3: 'def', 4: 'ghi', 5: 'jkl', 6: 'mno', 7: 'pqrs', 8: 'tuv', 9: 'wxyz'}\n",
    "    result = []\n",
    "    dfs(0, \"\")\n",
    "    \n",
    "    return result"
   ]
  },
  {
   "cell_type": "code",
   "execution_count": null,
   "id": "637ba31f",
   "metadata": {},
   "outputs": [],
   "source": [
    "letterCombinations(\"233\")"
   ]
  },
  {
   "cell_type": "markdown",
   "id": "af0b7354",
   "metadata": {},
   "source": [
    "# 순열\n",
    "서로 다른 정수를 입력받아 가능한 모든 순열을 리턴하라"
   ]
  },
  {
   "cell_type": "code",
   "execution_count": null,
   "id": "25691b72",
   "metadata": {},
   "outputs": [],
   "source": [
    "def permute(nums):\n",
    "    results = []\n",
    "    prev_elements = []\n",
    "    def dfs(elements):\n",
    "        #리프 노드일 때 결과 추가\n",
    "        if len(elements) == 0:\n",
    "            results.append(prev_elements[:])\n",
    "            #prev_elements를 넣으면 결과 값이 추가되는 것이 아니라 prev_elements에 대한 참조가 추가된다.\n",
    "\n",
    "        #순열 생성 재귀 호출 (elements : [1,2,3])\n",
    "        for e in elements:\n",
    "            next_elements = elements[:]\n",
    "            next_elements.remove(e)\n",
    "\n",
    "            prev_elements.append(e)\n",
    "            dfs(next_elements)\n",
    "            prev_elements.pop()\n",
    "    dfs(nums)\n",
    "    return results"
   ]
  },
  {
   "cell_type": "code",
   "execution_count": null,
   "id": "0683d9a0",
   "metadata": {},
   "outputs": [],
   "source": []
  },
  {
   "cell_type": "code",
   "execution_count": null,
   "id": "e98ab4ff",
   "metadata": {},
   "outputs": [],
   "source": []
  },
  {
   "cell_type": "code",
   "execution_count": null,
   "id": "782f0063",
   "metadata": {},
   "outputs": [],
   "source": []
  },
  {
   "cell_type": "markdown",
   "id": "aead41bf",
   "metadata": {},
   "source": [
    "# 조합의 합\n",
    "숫자 집합 candidates를 조합하여 합이 target이 되는 원소를 나열하라. 각 원소는 중복으로 나열 가능하다."
   ]
  },
  {
   "cell_type": "code",
   "execution_count": null,
   "id": "69362b42",
   "metadata": {},
   "outputs": [],
   "source": [
    "def combinationSum(candidates, target):\n",
    "    result = []\n",
    "    def dfs(csum, index, path):\n",
    "        #종료조건\n",
    "        if csum < 0:\n",
    "            return\n",
    "        if csum == 0:\n",
    "            result.append(path)\n",
    "            return\n",
    "        #자신부터 하위 원소까지의 나열 재귀 호출\n",
    "        for i in range(index, len(candidates)):\n",
    "            dfs(csum - candidates[i], i, path + [candidates[i]])\n",
    "    dfs(target, 0, [])\n",
    "    return result"
   ]
  },
  {
   "cell_type": "code",
   "execution_count": null,
   "id": "11d10782",
   "metadata": {},
   "outputs": [],
   "source": [
    "[2]+[2]"
   ]
  },
  {
   "cell_type": "code",
   "execution_count": null,
   "id": "d6f57e4f",
   "metadata": {},
   "outputs": [],
   "source": []
  },
  {
   "cell_type": "markdown",
   "id": "a0507566",
   "metadata": {},
   "source": [
    "# 부분집합"
   ]
  },
  {
   "cell_type": "code",
   "execution_count": null,
   "id": "1f3bef1a",
   "metadata": {},
   "outputs": [],
   "source": [
    "#결과를 받는 리스트 : result = []\n",
    "#DFS -> for문, 재귀함수\n",
    "#for문의 인덱스가 하나씩 갱신\n",
    "#path는 찾아지는 부분집합들\n",
    "\n",
    "def subsets(lst):\n",
    "    result = []\n",
    "    def dfs(index, path):\n",
    "        result.append(path)\n",
    "        for i in range(index, len(lst)):\n",
    "            dfs(i+1, path + [lst[i]])\n",
    "            #깊이탐색이 될때마다 첫 자리 수가 1씩 증가해야됨\n",
    "            #path : 기존에 찾아놓은 것 + [nums[i]] : 새롭게 찾은 것(index가 하나씩 증가하고 있으므로 i+1 대신 i)\n",
    "    \n",
    "    dfs(0, [])\n",
    "    #하나씩 추가되므로 가장 원초적인 시작 []부터\n",
    "    #i는 0부터 시작해야지 처음부터 완전 전체 탐색 가능\n",
    "    \n",
    "    return result"
   ]
  },
  {
   "cell_type": "code",
   "execution_count": null,
   "id": "a89677f7",
   "metadata": {},
   "outputs": [],
   "source": [
    "subsets([1,2,3])"
   ]
  },
  {
   "cell_type": "markdown",
   "id": "01fe9122",
   "metadata": {},
   "source": [
    "# 일정 재구성\n",
    "[from, to]로 구성된 항공권 목록을 이용해 JFK에서 출발하는 여행 일정을 구성하라.  \n",
    "여러 일정이 있는 경우 사전 어휘 순으로 방문한다."
   ]
  },
  {
   "cell_type": "markdown",
   "id": "7c73bf75",
   "metadata": {},
   "source": [
    "## 풀이 1. DFS로 일정 그래프 구성"
   ]
  },
  {
   "cell_type": "code",
   "execution_count": 42,
   "id": "71867507",
   "metadata": {},
   "outputs": [
    {
     "data": {
      "text/plain": [
       "['ATL', 'SFO', 'JFK', 'ATL', 'JFK']"
      ]
     },
     "execution_count": 42,
     "metadata": {},
     "output_type": "execute_result"
    }
   ],
   "source": [
    "#풀이1\n",
    "import collections\n",
    "def findItinerary(tickets):\n",
    "    graph = collections.defaultdict(list) #key 하나에 2개의 value가 있는 경우 쉽게 정리하기 위해 list로 저장\n",
    "    route = []\n",
    "    for a, b in sorted(tickets):\n",
    "        graph[a].append(b)\n",
    "        \n",
    "    \n",
    "    def dfs(a):\n",
    "        while graph[a]:\n",
    "            dfs(graph[a].pop(0))\n",
    "            route.append(a)\n",
    "    \n",
    "    dfs('JFK')\n",
    "    return route\n",
    "\n",
    "tickets = [[\"JFK\",\"SFO\"],[\"JFK\",\"ATL\"],[\"SFO\",\"ATL\"],[\"ATL\",\"JFK\"],[\"ATL\",\"SFO\"]]\n",
    "findItinerary(tickets)"
   ]
  },
  {
   "cell_type": "code",
   "execution_count": 43,
   "id": "11a0c17b",
   "metadata": {},
   "outputs": [
    {
     "data": {
      "text/plain": [
       "['JFK', 'ATL', 'JFK', 'SFO', 'ATL', 'SFO']"
      ]
     },
     "execution_count": 43,
     "metadata": {},
     "output_type": "execute_result"
    }
   ],
   "source": [
    "#풀이1\n",
    "import collections\n",
    "def findItinerary(tickets):\n",
    "    graph = collections.defaultdict(list) #key 하나에 2개의 value가 있는 경우 쉽게 정리하기 위해 list로 저장\n",
    "    route = []\n",
    "    for a, b in sorted(tickets):\n",
    "        graph[a].append(b)\n",
    "        \n",
    "    \n",
    "    def dfs(a):\n",
    "        while graph[a]:\n",
    "            dfs(graph[a].pop(0))\n",
    "        route.append(a)\n",
    "    \n",
    "    dfs('JFK')\n",
    "    return route[::-1]\n",
    "\n",
    "tickets = [[\"JFK\",\"SFO\"],[\"JFK\",\"ATL\"],[\"SFO\",\"ATL\"],[\"ATL\",\"JFK\"],[\"ATL\",\"SFO\"]]\n",
    "findItinerary(tickets)"
   ]
  },
  {
   "cell_type": "code",
   "execution_count": 20,
   "id": "e5de195d",
   "metadata": {},
   "outputs": [
    {
     "data": {
      "text/plain": [
       "defaultdict(list,\n",
       "            {'ATL': ['JFK', 'SFO'], 'JFK': ['ATL', 'SFO'], 'SFO': ['ATL']})"
      ]
     },
     "execution_count": 20,
     "metadata": {},
     "output_type": "execute_result"
    }
   ],
   "source": [
    "import collections\n",
    "def findItinerary(tickets):\n",
    "    graph = collections.defaultdict(list) #key 하나에 2개의 value가 있는 경우 쉽게 정리하기 위해 list로 저장\n",
    "    route = []\n",
    "    for a, b in sorted(tickets):\n",
    "        graph[a].append(b)\n",
    "    return graph\n",
    "\n",
    "tickets = [[\"JFK\",\"SFO\"],[\"JFK\",\"ATL\"],[\"SFO\",\"ATL\"],[\"ATL\",\"JFK\"],[\"ATL\",\"SFO\"]]\n",
    "findItinerary(tickets)"
   ]
  },
  {
   "cell_type": "markdown",
   "id": "0f8e181f",
   "metadata": {},
   "source": [
    "### 예제 1"
   ]
  },
  {
   "cell_type": "code",
   "execution_count": 8,
   "id": "a9d3b133",
   "metadata": {},
   "outputs": [
    {
     "data": {
      "text/plain": [
       "defaultdict(list,\n",
       "            {'JFK': ['MUC'], 'LHR': ['SFO'], 'MUC': ['LHR'], 'SFO': ['SJC']})"
      ]
     },
     "execution_count": 8,
     "metadata": {},
     "output_type": "execute_result"
    }
   ],
   "source": [
    "graph = collections.defaultdict(list) #새로생긴 value값을 list형식으로 변환\n",
    "tickets = [[\"MUC\",\"LHR\"],[\"JFK\",\"MUC\"],[\"SFO\",\"SJC\"],[\"LHR\",\"SFO\"]]\n",
    "for a, b in sorted(tickets):\n",
    "    graph[a].append(b)\n",
    "graph"
   ]
  },
  {
   "cell_type": "code",
   "execution_count": 9,
   "id": "d7d6e18d",
   "metadata": {},
   "outputs": [
    {
     "data": {
      "text/plain": [
       "defaultdict(list,\n",
       "            {'MUC': ['LHR'], 'JFK': ['MUC'], 'SFO': ['SJC'], 'LHR': ['SFO']})"
      ]
     },
     "execution_count": 9,
     "metadata": {},
     "output_type": "execute_result"
    }
   ],
   "source": [
    "graph = collections.defaultdict(list) #새로생긴 value값을 list형식으로 변환\n",
    "tickets = [[\"MUC\",\"LHR\"],[\"JFK\",\"MUC\"],[\"SFO\",\"SJC\"],[\"LHR\",\"SFO\"]]\n",
    "for a, b in tickets:\n",
    "    graph[a].append(b)\n",
    "graph"
   ]
  },
  {
   "cell_type": "code",
   "execution_count": 14,
   "id": "8d5b0f28",
   "metadata": {},
   "outputs": [
    {
     "data": {
      "text/plain": [
       "['SJC', 'SFO', 'LHR', 'MUC', 'JFK']"
      ]
     },
     "execution_count": 14,
     "metadata": {},
     "output_type": "execute_result"
    }
   ],
   "source": [
    "tickets = [[\"MUC\",\"LHR\"],[\"JFK\",\"MUC\"],[\"SFO\",\"SJC\"],[\"LHR\",\"SFO\"]]\n",
    "findItinerary(tickets)"
   ]
  },
  {
   "cell_type": "markdown",
   "id": "0c9b526b",
   "metadata": {},
   "source": [
    "### 예제 2"
   ]
  },
  {
   "cell_type": "code",
   "execution_count": 11,
   "id": "8a6b2ce4",
   "metadata": {},
   "outputs": [
    {
     "data": {
      "text/plain": [
       "defaultdict(list,\n",
       "            {'ATL': ['JFK', 'SFO'], 'JFK': ['ATL', 'SFO'], 'SFO': ['ATL']})"
      ]
     },
     "execution_count": 11,
     "metadata": {},
     "output_type": "execute_result"
    }
   ],
   "source": [
    "graph = collections.defaultdict(list) #새로생긴 value값을 list형식으로 변환\n",
    "tickets = [[\"JFK\",\"SFO\"],[\"JFK\",\"ATL\"],[\"SFO\",\"ATL\"],[\"ATL\",\"JFK\"],[\"ATL\",\"SFO\"]]\n",
    "for a, b in sorted(tickets):\n",
    "    graph[a].append(b)\n",
    "graph"
   ]
  },
  {
   "cell_type": "code",
   "execution_count": 12,
   "id": "adc56ede",
   "metadata": {},
   "outputs": [
    {
     "data": {
      "text/plain": [
       "defaultdict(list,\n",
       "            {'JFK': ['SFO', 'ATL'], 'SFO': ['ATL'], 'ATL': ['JFK', 'SFO']})"
      ]
     },
     "execution_count": 12,
     "metadata": {},
     "output_type": "execute_result"
    }
   ],
   "source": [
    "graph = collections.defaultdict(list) #새로생긴 value값을 list형식으로 변환\n",
    "tickets = [[\"JFK\",\"SFO\"],[\"JFK\",\"ATL\"],[\"SFO\",\"ATL\"],[\"ATL\",\"JFK\"],[\"ATL\",\"SFO\"]]\n",
    "for a, b in tickets:\n",
    "    graph[a].append(b)\n",
    "graph"
   ]
  },
  {
   "cell_type": "code",
   "execution_count": 16,
   "id": "a9c693b3",
   "metadata": {},
   "outputs": [
    {
     "data": {
      "text/plain": [
       "['SFO', 'ATL', 'SFO', 'JFK', 'ATL', 'JFK']"
      ]
     },
     "execution_count": 16,
     "metadata": {},
     "output_type": "execute_result"
    }
   ],
   "source": [
    "tickets = [[\"JFK\",\"SFO\"],[\"JFK\",\"ATL\"],[\"SFO\",\"ATL\"],[\"ATL\",\"JFK\"],[\"ATL\",\"SFO\"]]\n",
    "findItinerary(tickets)"
   ]
  },
  {
   "cell_type": "code",
   "execution_count": 37,
   "id": "dd81fd18",
   "metadata": {},
   "outputs": [
    {
     "data": {
      "text/plain": [
       "[['JFK', 'ATL'], ['JFK', 'SFO']]"
      ]
     },
     "execution_count": 37,
     "metadata": {},
     "output_type": "execute_result"
    }
   ],
   "source": [
    "sorted([[\"JFK\",\"SFO\"],[\"JFK\",\"ATL\"]])"
   ]
  },
  {
   "cell_type": "markdown",
   "id": "2a135dd2",
   "metadata": {},
   "source": [
    "## 풀이2. 스택 연산으로 큐 연산 최적화 시도"
   ]
  },
  {
   "cell_type": "code",
   "execution_count": 28,
   "id": "6a546af0",
   "metadata": {},
   "outputs": [],
   "source": [
    "#풀이2 -> pop(0) 대신 pop() 사용\n",
    "def findItinerary(tickets):\n",
    "    graph = collections.defaultict(list)\n",
    "    for a, b in sorted(tickets, reverse = True):\n",
    "        graph[a].append(b)\n",
    "    \n",
    "    route = []\n",
    "    def dfs(a):\n",
    "        #마지막 값을 읽어 어휘 순 방문\n",
    "        while graph[a]:\n",
    "            dfs(graph[a].pop()) #pop(0) 대신 pop()을 사용\n",
    "        route.append(a)\n",
    "    \n",
    "    dfs(\"JFK\")\n",
    "    return route[::-1]"
   ]
  },
  {
   "cell_type": "code",
   "execution_count": 32,
   "id": "dc191bfc",
   "metadata": {},
   "outputs": [
    {
     "data": {
      "text/plain": [
       "defaultdict(list,\n",
       "            {'ATL': ['JFK', 'SFO'], 'JFK': ['ATL', 'SFO'], 'SFO': ['ATL']})"
      ]
     },
     "execution_count": 32,
     "metadata": {},
     "output_type": "execute_result"
    }
   ],
   "source": [
    "#원래 딕셔너리 정렬\n",
    "def findItinerary(tickets):\n",
    "    graph = collections.defaultdict(list) #key 하나에 2개의 value가 있는 경우 쉽게 정리하기 위해 list로 저장\n",
    "    route = []\n",
    "    for a, b in sorted(tickets):\n",
    "        graph[a].append(b)\n",
    "    return graph\n",
    "\n",
    "tickets = [[\"JFK\",\"SFO\"],[\"JFK\",\"ATL\"],[\"SFO\",\"ATL\"],[\"ATL\",\"JFK\"],[\"ATL\",\"SFO\"]]\n",
    "findItinerary(tickets)"
   ]
  },
  {
   "cell_type": "code",
   "execution_count": 33,
   "id": "79d0d07b",
   "metadata": {},
   "outputs": [
    {
     "data": {
      "text/plain": [
       "defaultdict(list,\n",
       "            {'SFO': ['ATL'], 'JFK': ['SFO', 'ATL'], 'ATL': ['SFO', 'JFK']})"
      ]
     },
     "execution_count": 33,
     "metadata": {},
     "output_type": "execute_result"
    }
   ],
   "source": [
    "#역순 딕셔너리 정렬\n",
    "def findItinerary(tickets):\n",
    "    graph = collections.defaultdict(list) #key 하나에 2개의 value가 있는 경우 쉽게 정리하기 위해 list로 저장\n",
    "    route = []\n",
    "    for a, b in sorted(tickets, reverse = True):\n",
    "        graph[a].append(b)\n",
    "    return graph\n",
    "\n",
    "tickets = [[\"JFK\",\"SFO\"],[\"JFK\",\"ATL\"],[\"SFO\",\"ATL\"],[\"ATL\",\"JFK\"],[\"ATL\",\"SFO\"]]\n",
    "findItinerary(tickets)"
   ]
  },
  {
   "cell_type": "code",
   "execution_count": null,
   "id": "b5ca11d7",
   "metadata": {},
   "outputs": [],
   "source": []
  },
  {
   "cell_type": "markdown",
   "id": "2578869e",
   "metadata": {},
   "source": [
    "## 풀이 3. 일정 그래프 반복\n",
    "재귀가 아닌 동일한 구조를 반복으로 풀이해보자"
   ]
  },
  {
   "cell_type": "code",
   "execution_count": null,
   "id": "6eeae6d5",
   "metadata": {},
   "outputs": [],
   "source": []
  }
 ],
 "metadata": {
  "kernelspec": {
   "display_name": "Python 3 (ipykernel)",
   "language": "python",
   "name": "python3"
  },
  "language_info": {
   "codemirror_mode": {
    "name": "ipython",
    "version": 3
   },
   "file_extension": ".py",
   "mimetype": "text/x-python",
   "name": "python",
   "nbconvert_exporter": "python",
   "pygments_lexer": "ipython3",
   "version": "3.9.12"
  }
 },
 "nbformat": 4,
 "nbformat_minor": 5
}
