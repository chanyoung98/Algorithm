{
 "cells": [
  {
   "cell_type": "markdown",
   "id": "96ecf3b6",
   "metadata": {},
   "source": [
    "# 7. 두 수의 합  \n",
    "덧셈하여 타겟을 만들 수 있는 배열의 두 숫자 인덱스를 리턴하라.  \n",
    "\n",
    "input : nums = [2,7,11,15], target : 9  \n",
    "output : [0, 1]"
   ]
  },
  {
   "cell_type": "code",
   "execution_count": 226,
   "id": "e1735e6c",
   "metadata": {},
   "outputs": [
    {
     "name": "stdout",
     "output_type": "stream",
     "text": [
      "\n"
     ]
    },
    {
     "ename": "ValueError",
     "evalue": "invalid literal for int() with base 10: ''",
     "output_type": "error",
     "traceback": [
      "\u001b[1;31m---------------------------------------------------------------------------\u001b[0m",
      "\u001b[1;31mValueError\u001b[0m                                Traceback (most recent call last)",
      "Input \u001b[1;32mIn [226]\u001b[0m, in \u001b[0;36m<cell line: 2>\u001b[1;34m()\u001b[0m\n\u001b[0;32m      1\u001b[0m \u001b[38;5;66;03m#풀이 1. 그냥 풀기 .... \u001b[39;00m\n\u001b[1;32m----> 2\u001b[0m nums \u001b[38;5;241m=\u001b[39m \u001b[38;5;28;43mlist\u001b[39;49m\u001b[43m(\u001b[49m\u001b[38;5;28;43mmap\u001b[39;49m\u001b[43m(\u001b[49m\u001b[38;5;28;43mint\u001b[39;49m\u001b[43m,\u001b[49m\u001b[43m \u001b[49m\u001b[38;5;28;43minput\u001b[39;49m\u001b[43m(\u001b[49m\u001b[43m)\u001b[49m\u001b[38;5;241;43m.\u001b[39;49m\u001b[43msplit\u001b[49m\u001b[43m(\u001b[49m\u001b[38;5;124;43m\"\u001b[39;49m\u001b[38;5;124;43m,\u001b[39;49m\u001b[38;5;124;43m\"\u001b[39;49m\u001b[43m)\u001b[49m\u001b[43m)\u001b[49m\u001b[43m)\u001b[49m\n\u001b[0;32m      3\u001b[0m target \u001b[38;5;241m=\u001b[39m \u001b[38;5;28mint\u001b[39m(\u001b[38;5;28minput\u001b[39m())\n\u001b[0;32m      4\u001b[0m \u001b[38;5;28mprint\u001b[39m(nums)\n",
      "\u001b[1;31mValueError\u001b[0m: invalid literal for int() with base 10: ''"
     ]
    }
   ],
   "source": [
    "#풀이 1. 그냥 풀기 .... \n",
    "nums = list(map(int, input().split(\",\")))\n",
    "target = int(input())\n",
    "print(nums)\n",
    "print(target)\n",
    "def Sum(nums, target):\n",
    "    for i in range(len(nums)):\n",
    "        for j in range(i+1, len(nums)):\n",
    "            if nums[i]+nums[j] == target:\n",
    "                return [i,j]\n",
    "\n",
    "a = Sum(nums, target)\n",
    "a"
   ]
  },
  {
   "cell_type": "code",
   "execution_count": 235,
   "id": "ceb2e88b",
   "metadata": {},
   "outputs": [
    {
     "name": "stdout",
     "output_type": "stream",
     "text": [
      "0 0\n"
     ]
    }
   ],
   "source": [
    "nums = [2,7,15,11]\n",
    "target = 9\n",
    "for i, n in enumerate(nums):\n",
    "    complement = target - n #complement가 num에 있는지 판단하는 문제로 바뀜\n",
    "    if complement in nums[i + 1:]: #존재한다면\n",
    "        a = nums.index(n)\n",
    "        b = nums[i + 1:].index(complement) + (i + 1)\n",
    "print(a,b)"
   ]
  },
  {
   "cell_type": "code",
   "execution_count": 231,
   "id": "3560e600",
   "metadata": {},
   "outputs": [
    {
     "data": {
      "text/plain": [
       "[6, 7, 8, 9]"
      ]
     },
     "execution_count": 231,
     "metadata": {},
     "output_type": "execute_result"
    }
   ],
   "source": [
    "lst = [1,2,3,4,5,6,7,8,9]\n",
    "lst[(2 + 3):]"
   ]
  },
  {
   "cell_type": "code",
   "execution_count": null,
   "id": "1ce6edab",
   "metadata": {
    "scrolled": true
   },
   "outputs": [],
   "source": [
    "#풀이 2. in을 이용한 탐색\n",
    "#모든 조합을 비교하지 않고 target에서 첫 번째 값을 뺀 값(target - n)이 존재하는지 탐색하는 문제로 변경하자.\n",
    "nums = list(map(int, input().split(\",\")))\n",
    "target = int(input())\n",
    "def twoSum(nums, target):\n",
    "    for i, n in enumerate(nums):\n",
    "        complement = target - n\n",
    "        if complement in nums[i + 1:]:\n",
    "            return nums.index(n), nums[i + 1:].index(complement) + (i + 1)\n",
    "a,b = twoSum(nums, target)\n",
    "print([a,b])"
   ]
  },
  {
   "cell_type": "code",
   "execution_count": null,
   "id": "f283580c",
   "metadata": {},
   "outputs": [],
   "source": [
    "#풀이 3. 첫 번째 수를 뺀 결과 키 조회\n",
    "nums = list(map(int, input().split(\",\")))\n",
    "target = int(input())\n",
    "\n",
    "nums_map = {}\n",
    "for i, num in enumerate(nums):\n",
    "    nums_map[num] = i\n",
    "    \n",
    "for i, num in enumerate(nums):\n",
    "    if target - num in nums_map and i != nums_map[target - num]:\n",
    "        print()\n",
    "        print(nums.index(num))\n",
    "        print(nums_map[target - num])"
   ]
  },
  {
   "cell_type": "code",
   "execution_count": null,
   "id": "7b6ff553",
   "metadata": {},
   "outputs": [],
   "source": [
    "#풀이 3. 첫 번째 수를 뺀 결과 키 조회\n",
    "nums = [2,7,15,11]\n",
    "target = 9\n",
    "\n",
    "nums_map = {}\n",
    "for i, num in enumerate(nums):\n",
    "    nums_map[num] = i\n",
    "\n",
    "for i, num in enumerate(nums):\n",
    "    print(target - num)"
   ]
  },
  {
   "cell_type": "code",
   "execution_count": 237,
   "id": "4a3bda58",
   "metadata": {},
   "outputs": [
    {
     "name": "stdout",
     "output_type": "stream",
     "text": [
      "[0, 1]\n"
     ]
    }
   ],
   "source": [
    "#풀이 4. 조회 구조 개선\n",
    "nums = [2,7,15,11]\n",
    "target = 9\n",
    "nums_map = {}\n",
    "for i, num in enumerate(nums):\n",
    "    if target - num in nums_map:\n",
    "        print([nums_map[target - num], i])\n",
    "    nums_map[num] = i"
   ]
  },
  {
   "cell_type": "code",
   "execution_count": null,
   "id": "794e783d",
   "metadata": {},
   "outputs": [],
   "source": []
  },
  {
   "cell_type": "code",
   "execution_count": null,
   "id": "ca1ee647",
   "metadata": {},
   "outputs": [],
   "source": []
  },
  {
   "cell_type": "code",
   "execution_count": null,
   "id": "795e686c",
   "metadata": {},
   "outputs": [],
   "source": []
  },
  {
   "cell_type": "markdown",
   "id": "58f0f1ec",
   "metadata": {},
   "source": [
    "# 8. 빗물 트래킹  \n",
    "높이를 입력받아 비 온 후 얼마나 많은 물이 쌓일 수 있는지 계산하라.  \n",
    "input : [0,1,0,2,1,0,1,3,2,1,2,1]  \n",
    "output : 6"
   ]
  },
  {
   "cell_type": "code",
   "execution_count": null,
   "id": "aae85599",
   "metadata": {},
   "outputs": [],
   "source": [
    "#투 포인터 풀이\n",
    "height = [0,1,0,2,1,0,1,3,2,1,2,1]\n",
    "volume = 0; left, right = 0, len(height) - 1\n",
    "left_max, right_max = height[left], height[right]\n",
    "\n",
    "while left < right:\n",
    "    left_max, right_max = max(height[left], left_max), max(height[right], right_max)\n",
    "    if left_max <= right_max:\n",
    "        volume += left_max - height[left]\n",
    "        left += 1\n",
    "    else:\n",
    "        volume += right_max - height[right]\n",
    "        right -= 1\n",
    "print(volume)"
   ]
  },
  {
   "cell_type": "code",
   "execution_count": 225,
   "id": "65f314ce",
   "metadata": {
    "scrolled": true
   },
   "outputs": [
    {
     "name": "stdout",
     "output_type": "stream",
     "text": [
      "0번째\n",
      "\n",
      "1번째\n",
      "스택에서 꺼내기 전 :  [0]\n",
      "스택에서 꺼낸 후 :  []\n",
      "\n",
      "2번째\n",
      "\n",
      "3번째\n",
      "스택에서 꺼내기 전 :  [1, 2]\n",
      "스택에서 꺼낸 후 :  [1]\n",
      "쌓인 물 :  1\n",
      "스택에서 꺼내기 전 :  [1]\n",
      "스택에서 꺼낸 후 :  []\n",
      "\n",
      "4번째\n",
      "\n",
      "5번째\n",
      "\n",
      "6번째\n",
      "스택에서 꺼내기 전 :  [3, 4, 5]\n",
      "스택에서 꺼낸 후 :  [3, 4]\n",
      "쌓인 물 :  2\n",
      "\n",
      "7번째\n",
      "스택에서 꺼내기 전 :  [3, 4, 6]\n",
      "스택에서 꺼낸 후 :  [3, 4]\n",
      "쌓인 물 :  2\n",
      "스택에서 꺼내기 전 :  [3, 4]\n",
      "스택에서 꺼낸 후 :  [3]\n",
      "쌓인 물 :  5\n",
      "스택에서 꺼내기 전 :  [3]\n",
      "스택에서 꺼낸 후 :  []\n",
      "\n",
      "8번째\n",
      "\n",
      "9번째\n",
      "\n",
      "10번째\n",
      "스택에서 꺼내기 전 :  [7, 8, 9]\n",
      "스택에서 꺼낸 후 :  [7, 8]\n",
      "쌓인 물 :  6\n",
      "\n",
      "11번째\n",
      "\n"
     ]
    }
   ],
   "source": [
    "#스택 쌓기 \n",
    "height = [0,1,0,2,1,0,1,3,2,1,2,1]\n",
    "stack = []; volume = 0\n",
    "for i in range(len(height)):\n",
    "    #변곡점을 만나는 경우\n",
    "    print(\"{0}번째\".format(i))\n",
    "    while stack and height[i] > height[stack[-1]]:\n",
    "        #스택에서 꺼낸다\n",
    "        print(\"스택에서 꺼내기 전 : \", stack)\n",
    "        top = stack.pop()\n",
    "        print(\"스택에서 꺼낸 후 : \", stack)\n",
    "        \n",
    "        if not len(stack):\n",
    "            break\n",
    "        \n",
    "        #이전과의 차이만큼 물 높이 처리\n",
    "        distance = i - stack[-1] - 1\n",
    "        waters = min(height[i], height[stack[-1]]) - height[top] #왜 굳이 min?\n",
    "        \n",
    "        volume += distance * waters\n",
    "        print(\"쌓인 물 : \", volume)\n",
    "    stack.append(i)\n",
    "    print()"
   ]
  },
  {
   "cell_type": "code",
   "execution_count": 202,
   "id": "c56d9a68",
   "metadata": {},
   "outputs": [],
   "source": [
    "height = [0,1,0,2,1,0,1,3,2,1,2,1]\n",
    "stack = [1,2]; volume = 0"
   ]
  },
  {
   "cell_type": "code",
   "execution_count": 198,
   "id": "4fca522b",
   "metadata": {},
   "outputs": [
    {
     "data": {
      "text/plain": [
       "False"
      ]
     },
     "execution_count": 198,
     "metadata": {},
     "output_type": "execute_result"
    }
   ],
   "source": [
    "i = 4\n",
    "stack and height[i] > height[stack[-1]]"
   ]
  },
  {
   "cell_type": "code",
   "execution_count": 224,
   "id": "176afeea",
   "metadata": {},
   "outputs": [
    {
     "data": {
      "text/plain": [
       "[]"
      ]
     },
     "execution_count": 224,
     "metadata": {},
     "output_type": "execute_result"
    }
   ],
   "source": [
    "[] and 3"
   ]
  },
  {
   "cell_type": "code",
   "execution_count": 211,
   "id": "2636cb32",
   "metadata": {},
   "outputs": [],
   "source": [
    "height = [11,23,43]"
   ]
  },
  {
   "cell_type": "code",
   "execution_count": 212,
   "id": "759f27bc",
   "metadata": {},
   "outputs": [
    {
     "data": {
      "text/plain": [
       "43"
      ]
     },
     "execution_count": 212,
     "metadata": {},
     "output_type": "execute_result"
    }
   ],
   "source": [
    "stack and height[2]"
   ]
  },
  {
   "attachments": {
    "image.png": {
     "image/png": "[encoded data removed]"
    }
   },
   "cell_type": "markdown",
   "id": "db96abe3",
   "metadata": {},
   "source": [
    "![image.png](attachment:image.png)"
   ]
  },
  {
   "cell_type": "markdown",
   "id": "86bdfa42",
   "metadata": {},
   "source": [
    "# 세 수의 합  \n",
    "배열을 입력받아 합으로 0을 만들 수 있는 3개의 엘리먼트를 출력하라.  \n",
    "\n",
    "input : nums = [-1,0,1,2,-1,-4]  \n",
    "output : [[-1,0,1],[-1,-1,2]]"
   ]
  },
  {
   "cell_type": "code",
   "execution_count": null,
   "id": "a557d775",
   "metadata": {},
   "outputs": [],
   "source": [
    "#브루트 포스 풀이,,, 중복 예외처리 해주자\n",
    "nums = [-1,0,1,2,-1,-4]\n",
    "nums.sort()\n",
    "lst = list()\n",
    "for i in range(len(nums)-2):\n",
    "    if i > 0 and nums[i] == nums[i-1]:\n",
    "        continue\n",
    "    for j in range(i+1, len(nums)-1):\n",
    "        if j > i+1 and nums[j] == nums[j-1]:\n",
    "            continue\n",
    "        for k in range(j+1, len(nums)):\n",
    "            if nums[i]+nums[j]+nums[k] == 0:\n",
    "                a = nums[i]\n",
    "                b = nums[j]\n",
    "                c = nums[k]\n",
    "                lst.append([a,b,c])\n",
    "print(lst)"
   ]
  },
  {
   "cell_type": "code",
   "execution_count": null,
   "id": "c57edadf",
   "metadata": {},
   "outputs": [],
   "source": [
    "#투포인터로 합 계산\n",
    "nums = [-1,0,1,2,-1,-4]\n",
    "results = []\n",
    "nums.sort()\n",
    "\n",
    "for i in range(len(nums) - 2):\n",
    "    if i > 0 nd nums[i] == nums[i-1]:\n",
    "        continue\n",
    "    left, right = i + 1, len(nums) - 1\n",
    "    while left < right: #투포인터의 핵심\n",
    "        sum = nums[i] + nums[left] + nums[right]\n",
    "        if sum < 0:\n",
    "            left +== 1\n",
    "        elif sum > 0:\n",
    "            right -= 1\n",
    "        else:\n",
    "            results.append((nums[i], nums[left], nums[right]))\n",
    "            while left < right and nums[left] == nums[left+1]:\n",
    "                left += 1\n",
    "            "
   ]
  },
  {
   "cell_type": "code",
   "execution_count": null,
   "id": "ccc09a9c",
   "metadata": {},
   "outputs": [],
   "source": []
  },
  {
   "cell_type": "code",
   "execution_count": 13,
   "id": "18731f36",
   "metadata": {},
   "outputs": [
    {
     "name": "stdout",
     "output_type": "stream",
     "text": [
      "0.0000 sec\n"
     ]
    }
   ],
   "source": [
    "import time # time 라이브러리 import\n",
    "start = time.time() # 시작\n",
    " \n",
    "print(f\"{time.time()-start:.4f} sec\") # 종료와 함께 수행시간 출력"
   ]
  },
  {
   "cell_type": "markdown",
   "id": "4ab33f0c",
   "metadata": {},
   "source": [
    "# 배열 파티션1  \n",
    "n개의 페어를 이용한 min(a, b)의 합으로 만들 수 있는 가장 큰 수를 출력하라  \n",
    "input : [1,4,3,2]  \n",
    "output : 4"
   ]
  },
  {
   "cell_type": "code",
   "execution_count": 24,
   "id": "30bc477e",
   "metadata": {},
   "outputs": [
    {
     "name": "stdout",
     "output_type": "stream",
     "text": [
      "4\n",
      "0.0009968281 sec\n"
     ]
    }
   ],
   "source": [
    "#내 풀이(오름차순 풀이와 성능 비슷)\n",
    "start = time.time()\n",
    "a = 0\n",
    "lst = [1,2,3,4]\n",
    "lst.sort()\n",
    "while len(lst) > 1:\n",
    "    a += min(lst[0], lst[1])\n",
    "    lst.pop(0)\n",
    "    lst.pop(0)\n",
    "print(a)\n",
    "print(f\"{time.time() - start:.10f} sec\")"
   ]
  },
  {
   "cell_type": "code",
   "execution_count": 38,
   "id": "a68e87d4",
   "metadata": {},
   "outputs": [
    {
     "name": "stdout",
     "output_type": "stream",
     "text": [
      "4\n",
      "0.0014579296 sec\n"
     ]
    }
   ],
   "source": [
    "#오름차순 풀이\n",
    "start = time.time()\n",
    "sum  = 0\n",
    "pair = []\n",
    "nums = [1,2,3,4]\n",
    "nums.sort()\n",
    "\n",
    "for n in nums:\n",
    "    pair.append(n)\n",
    "    if len(pair) == 2:\n",
    "        sum += min(pair)\n",
    "        pair = []\n",
    "print(sum)\n",
    "print(f\"{time.time() - start:.10f} sec\")"
   ]
  },
  {
   "cell_type": "code",
   "execution_count": 39,
   "id": "9ac93f6d",
   "metadata": {},
   "outputs": [
    {
     "name": "stdout",
     "output_type": "stream",
     "text": [
      "4\n",
      "0.0000000000 sec\n"
     ]
    }
   ],
   "source": [
    "#짝수 번째 값 계산(min()값을 일일이 구하지 않는 방법)\n",
    "#정렬된 상태에서 짝수번째에 항상 작은 값이 위치하기에 불필요한 리스트 변수를 생략할 수 있다.\n",
    "#가끔 0초 나옴\n",
    "start = time.time()\n",
    "sum = 0\n",
    "nums = [1,2,3,4]\n",
    "for i, n in enumerate(nums):\n",
    "    if i % 2 == 0:\n",
    "        sum += n\n",
    "print(sum)\n",
    "print(f\"{time.time() - start:.10f} sec\")"
   ]
  },
  {
   "cell_type": "code",
   "execution_count": 42,
   "id": "2254adb0",
   "metadata": {},
   "outputs": [
    {
     "ename": "TypeError",
     "evalue": "'int' object is not callable",
     "output_type": "error",
     "traceback": [
      "\u001b[1;31m---------------------------------------------------------------------------\u001b[0m",
      "\u001b[1;31mTypeError\u001b[0m                                 Traceback (most recent call last)",
      "Input \u001b[1;32mIn [42]\u001b[0m, in \u001b[0;36m<cell line: 5>\u001b[1;34m()\u001b[0m\n\u001b[0;32m      3\u001b[0m start \u001b[38;5;241m=\u001b[39m time\u001b[38;5;241m.\u001b[39mtime()\n\u001b[0;32m      4\u001b[0m nums \u001b[38;5;241m=\u001b[39m [\u001b[38;5;241m1\u001b[39m,\u001b[38;5;241m2\u001b[39m,\u001b[38;5;241m3\u001b[39m,\u001b[38;5;241m4\u001b[39m]\n\u001b[1;32m----> 5\u001b[0m \u001b[38;5;28;43msum\u001b[39;49m\u001b[43m(\u001b[49m\u001b[38;5;28;43msorted\u001b[39;49m\u001b[43m(\u001b[49m\u001b[43mnums\u001b[49m\u001b[43m)\u001b[49m\u001b[43m[\u001b[49m\u001b[43m:\u001b[49m\u001b[43m:\u001b[49m\u001b[38;5;241;43m2\u001b[39;49m\u001b[43m]\u001b[49m\u001b[43m)\u001b[49m\n\u001b[0;32m      6\u001b[0m \u001b[38;5;28mprint\u001b[39m(\u001b[38;5;124mf\u001b[39m\u001b[38;5;124m\"\u001b[39m\u001b[38;5;132;01m{\u001b[39;00mtime\u001b[38;5;241m.\u001b[39mtime() \u001b[38;5;241m-\u001b[39m start\u001b[38;5;132;01m:\u001b[39;00m\u001b[38;5;124m.10f\u001b[39m\u001b[38;5;132;01m}\u001b[39;00m\u001b[38;5;124m sec\u001b[39m\u001b[38;5;124m\"\u001b[39m)\n",
      "\u001b[1;31mTypeError\u001b[0m: 'int' object is not callable"
     ]
    }
   ],
   "source": [
    "#파이썬다운 방식\n",
    "#슬라이싱 구문 [::2]는 2칸씩 건너뛰므로 짝수 번째를 계산하는 것과 동일하다\n",
    "start = time.time()\n",
    "nums = [1,2,3,4]\n",
    "sum(sorted(nums)[::2])\n",
    "print(f\"{time.time() - start:.10f} sec\")\n",
    "#실행이 안됨....??"
   ]
  },
  {
   "cell_type": "markdown",
   "id": "bf675da1",
   "metadata": {},
   "source": [
    "# 자신을 제외한 배열의 곱  \n",
    "배열을 입력받아 output[i]가 자신을 제외한 나머지 모든 요소의 곱셈 결과가 되도록 출력하라.  \n",
    "input : [1,2,3,4]  \n",
    "output : [24,12,8,6]  \n",
    "\n",
    "나눗셈을 하지 않고 O(n)에 풀이하라."
   ]
  },
  {
   "cell_type": "code",
   "execution_count": 51,
   "id": "cced2199",
   "metadata": {},
   "outputs": [
    {
     "name": "stdout",
     "output_type": "stream",
     "text": [
      "[1, 2, 3, 4]\n",
      "1\n",
      "[2, 3, 4]\n",
      "1\n",
      "[2, 4]\n",
      "1\n"
     ]
    },
    {
     "ename": "IndexError",
     "evalue": "pop index out of range",
     "output_type": "error",
     "traceback": [
      "\u001b[1;31m---------------------------------------------------------------------------\u001b[0m",
      "\u001b[1;31mIndexError\u001b[0m                                Traceback (most recent call last)",
      "Input \u001b[1;32mIn [51]\u001b[0m, in \u001b[0;36m<cell line: 4>\u001b[1;34m()\u001b[0m\n\u001b[0;32m      6\u001b[0m     \u001b[38;5;28mprint\u001b[39m(nums)\n\u001b[0;32m      7\u001b[0m     \u001b[38;5;28mprint\u001b[39m(\u001b[38;5;241m1\u001b[39m)\n\u001b[1;32m----> 8\u001b[0m     \u001b[43mnums\u001b[49m\u001b[38;5;241;43m.\u001b[39;49m\u001b[43mpop\u001b[49m\u001b[43m(\u001b[49m\u001b[43mi\u001b[49m\u001b[43m)\u001b[49m\n\u001b[0;32m      9\u001b[0m     \u001b[38;5;28;01mfor\u001b[39;00m j \u001b[38;5;129;01min\u001b[39;00m nums: a\u001b[38;5;241m*\u001b[39m\u001b[38;5;241m=\u001b[39mj\n\u001b[0;32m     10\u001b[0m \u001b[38;5;28mprint\u001b[39m(a)\n",
      "\u001b[1;31mIndexError\u001b[0m: pop index out of range"
     ]
    }
   ],
   "source": [
    "#풀이 1. 왼쪽 곱셈 결과에 오른쪽 값을 차례대로 곱셈\n",
    "lst = [1,2,3,4]\n",
    "a = 1\n",
    "for i in range(len(lst)):\n",
    "    nums = lst\n",
    "    print(nums)\n",
    "    print(1)\n",
    "    nums.pop(i)\n",
    "    for j in nums: a*=j\n",
    "print(a)"
   ]
  },
  {
   "cell_type": "code",
   "execution_count": null,
   "id": "c4f7dd10",
   "metadata": {},
   "outputs": [],
   "source": []
  },
  {
   "cell_type": "code",
   "execution_count": null,
   "id": "f68ff3b0",
   "metadata": {},
   "outputs": [],
   "source": []
  },
  {
   "cell_type": "code",
   "execution_count": null,
   "id": "c141c799",
   "metadata": {},
   "outputs": [],
   "source": []
  },
  {
   "cell_type": "code",
   "execution_count": null,
   "id": "61658fda",
   "metadata": {},
   "outputs": [],
   "source": []
  },
  {
   "cell_type": "code",
   "execution_count": 62,
   "id": "1ea15dcf",
   "metadata": {},
   "outputs": [],
   "source": [
    "height = [0,1,0,2,1,0,1,3,2,1,2,1]\n",
    "stack = []\n",
    "volume = 0\n",
    "for i in range(len(height)):\n",
    "    while [] and height[i] > height[stack[-1]]:\n",
    "        top = stack.pop()\n",
    "        print(height[stack[-1]])"
   ]
  },
  {
   "cell_type": "code",
   "execution_count": 92,
   "id": "c1463732",
   "metadata": {},
   "outputs": [
    {
     "data": {
      "text/plain": [
       "True"
      ]
     },
     "execution_count": 92,
     "metadata": {},
     "output_type": "execute_result"
    }
   ],
   "source": [
    "stack = [0]\n",
    "stack and height[1] > height[stack[-1]]"
   ]
  },
  {
   "cell_type": "code",
   "execution_count": 86,
   "id": "7c0ddf98",
   "metadata": {},
   "outputs": [
    {
     "ename": "IndexError",
     "evalue": "list index out of range",
     "output_type": "error",
     "traceback": [
      "\u001b[1;31m---------------------------------------------------------------------------\u001b[0m",
      "\u001b[1;31mIndexError\u001b[0m                                Traceback (most recent call last)",
      "Input \u001b[1;32mIn [86]\u001b[0m, in \u001b[0;36m<cell line: 1>\u001b[1;34m()\u001b[0m\n\u001b[1;32m----> 1\u001b[0m height[\u001b[43mstack\u001b[49m\u001b[43m[\u001b[49m\u001b[38;5;241;43m-\u001b[39;49m\u001b[38;5;241;43m1\u001b[39;49m\u001b[43m]\u001b[49m]\n",
      "\u001b[1;31mIndexError\u001b[0m: list index out of range"
     ]
    }
   ],
   "source": [
    "height[stack[-1]]"
   ]
  },
  {
   "cell_type": "code",
   "execution_count": 108,
   "id": "3cbf9598",
   "metadata": {},
   "outputs": [],
   "source": [
    "stack = [0]\n",
    "i = 1\n",
    "while stack and height[i] > height[stack[-1]]:\n",
    "    top = stack.pop()\n",
    "    if not len(stack):\n",
    "        break\n",
    "    print(stack[-1])\n",
    "    distance = i - stack[-1] - 1\n",
    "    waters = min(height[i], height[stack[-1]]) - height[top]\n",
    "    \n",
    "    volume += distance * waters\n",
    "stack.append(i)\n",
    "\n",
    "#print(stack)\n",
    "#print(volume)"
   ]
  },
  {
   "cell_type": "code",
   "execution_count": 109,
   "id": "3d6b6b13",
   "metadata": {},
   "outputs": [
    {
     "ename": "IndexError",
     "evalue": "list index out of range",
     "output_type": "error",
     "traceback": [
      "\u001b[1;31m---------------------------------------------------------------------------\u001b[0m",
      "\u001b[1;31mIndexError\u001b[0m                                Traceback (most recent call last)",
      "Input \u001b[1;32mIn [109]\u001b[0m, in \u001b[0;36m<cell line: 3>\u001b[1;34m()\u001b[0m\n\u001b[0;32m      1\u001b[0m stack \u001b[38;5;241m=\u001b[39m [\u001b[38;5;241m0\u001b[39m]\n\u001b[0;32m      2\u001b[0m top \u001b[38;5;241m=\u001b[39m stack\u001b[38;5;241m.\u001b[39mpop()\n\u001b[1;32m----> 3\u001b[0m \u001b[43mstack\u001b[49m\u001b[43m[\u001b[49m\u001b[38;5;241;43m-\u001b[39;49m\u001b[38;5;241;43m1\u001b[39;49m\u001b[43m]\u001b[49m\n",
      "\u001b[1;31mIndexError\u001b[0m: list index out of range"
     ]
    }
   ],
   "source": [
    "stack = [0]\n",
    "top = stack.pop()\n",
    "stack[-1]"
   ]
  },
  {
   "cell_type": "code",
   "execution_count": null,
   "id": "6c9780d9",
   "metadata": {},
   "outputs": [],
   "source": []
  },
  {
   "cell_type": "code",
   "execution_count": null,
   "id": "e41a9379",
   "metadata": {},
   "outputs": [],
   "source": []
  },
  {
   "cell_type": "code",
   "execution_count": null,
   "id": "e98589c3",
   "metadata": {},
   "outputs": [],
   "source": []
  },
  {
   "cell_type": "code",
   "execution_count": null,
   "id": "fab38a22",
   "metadata": {},
   "outputs": [],
   "source": []
  },
  {
   "cell_type": "code",
   "execution_count": null,
   "id": "ce0b26d3",
   "metadata": {},
   "outputs": [],
   "source": []
  },
  {
   "cell_type": "markdown",
   "id": "5e4dde09",
   "metadata": {},
   "source": [
    "# 주식을 사고팔기 가장 좋은 시점  \n",
    "한 번의 거래로 낼 수  있는 최대 이익을 산출하라.  \n",
    "input : [7,1,5,3,6,4]  \n",
    "output : 5\n",
    "\n",
    "1일때 사서 6일때 팔면 5의 이익이 생긴다"
   ]
  },
  {
   "cell_type": "code",
   "execution_count": 115,
   "id": "56ca41a3",
   "metadata": {},
   "outputs": [
    {
     "data": {
      "text/plain": [
       "5"
      ]
     },
     "execution_count": 115,
     "metadata": {},
     "output_type": "execute_result"
    }
   ],
   "source": [
    "lst = [7,1,5,3,6,4]\n",
    "a = lst.index(min(lst))\n",
    "b = max(lst[a:])\n",
    "b-a #땡"
   ]
  },
  {
   "cell_type": "code",
   "execution_count": 128,
   "id": "bfdfd9e9",
   "metadata": {},
   "outputs": [
    {
     "name": "stdout",
     "output_type": "stream",
     "text": [
      "5\n"
     ]
    }
   ],
   "source": [
    "#처음부터 O(n^2)으로 사고팔고를 반복하면 마지막에 최대 이익을 산출할 수 있다(브루트 포스)\n",
    "lst= [7,1,5,3,6,4]\n",
    "for i, n in enumerate(lst):\n",
    "    for j in range(i, len(lst)):\n",
    "        max_price = max(lst[j]-n, max_price)\n",
    "print(max_price)\n",
    "#하지만, 타임아웃에 걸린다"
   ]
  },
  {
   "cell_type": "code",
   "execution_count": 139,
   "id": "942c1d31",
   "metadata": {},
   "outputs": [
    {
     "data": {
      "text/plain": [
       "5"
      ]
     },
     "execution_count": 139,
     "metadata": {},
     "output_type": "execute_result"
    }
   ],
   "source": [
    "#저점과 현재값과의 차이 계산\n",
    "#현재값을 가리키는 포인터가 우측으로 이동하면서 이전 상태의 저점을 기준으로 가격 차이를 계산하고, 만약 클 경우 최댓값을 계속 교체\n",
    "import sys\n",
    "lst= [7,1,5,3,6,4]\n",
    "profit = 0 #최대로 만들어야함(고점 - 저점)\n",
    "min_price = sys.maxsize #저점\n",
    "\n",
    "for price in prices:\n",
    "    min_price = min(min_price, price)\n",
    "    profit = max(profit, price - min_price)\n",
    "profit"
   ]
  },
  {
   "cell_type": "code",
   "execution_count": null,
   "id": "74100b32",
   "metadata": {},
   "outputs": [],
   "source": []
  },
  {
   "cell_type": "code",
   "execution_count": null,
   "id": "ccb16c16",
   "metadata": {},
   "outputs": [],
   "source": []
  }
 ],
 "metadata": {
  "kernelspec": {
   "display_name": "Python 3 (ipykernel)",
   "language": "python",
   "name": "python3"
  },
  "language_info": {
   "codemirror_mode": {
    "name": "ipython",
    "version": 3
   },
   "file_extension": ".py",
   "mimetype": "text/x-python",
   "name": "python",
   "nbconvert_exporter": "python",
   "pygments_lexer": "ipython3",
   "version": "3.9.12"
  }
 },
 "nbformat": 4,
 "nbformat_minor": 5
}
