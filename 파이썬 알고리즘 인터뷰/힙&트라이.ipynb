{
 "cells": [
  {
   "cell_type": "markdown",
   "id": "e6e13963",
   "metadata": {},
   "source": [
    "# 힙 구현"
   ]
  },
  {
   "cell_type": "code",
   "execution_count": 1,
   "id": "b894f8f5",
   "metadata": {},
   "outputs": [],
   "source": [
    "class BinaryHeap(object):\n",
    "    def __init__(self):\n",
    "        self.items = [None]\n",
    "        \n",
    "    def __len__(self):\n",
    "        return len(self.items) - 1\n",
    "    \n",
    "    #삽입 시 실행, 반복 구조 구현\n",
    "    def _percolate_up(self):\n",
    "        i = len(self)\n",
    "        parent = i // 2\n",
    "        while parent > 0:\n",
    "            if self.items[i] < self.items[parent]:\n",
    "                self.items[parent], self.items[i] = self.items[i], self.items[parent]\n",
    "            i = parent\n",
    "            parent = i // 2\n",
    "    \n",
    "    def insert(self, k):\n",
    "        self.items.append(k)\n",
    "        self._percolate_up()\n",
    "        \n",
    "    #추출 시 실행, 재귀 구조 구현\n",
    "    def _percolate_down(self, idx):\n",
    "        left = idx * 2\n",
    "        right = idx * 2 + 1\n",
    "        smallest = idx\n",
    "        \n",
    "        if left <= len(self) and self.items[left] < self.items[smallest]:\n",
    "            smallest = left\n",
    "            \n",
    "        if right <= len(self) and self.items[right] < self.items[smallest]:\n",
    "            smallest = right\n",
    "            \n",
    "        if smallest != idx:\n",
    "            self.items[idx], self.items[smallest] = self.items[smallest], self.items[idx].\n",
    "            self._percolate_down(smallest)\n",
    "            \n",
    "    def extract(self):\n",
    "        extracted = self.items[1]\n",
    "        self.items[1] = self.items[len(self)]\n",
    "        self.items.pop()\n",
    "        self._percolate_down(1)\n",
    "        return extracted"
   ]
  },
  {
   "cell_type": "code",
   "execution_count": null,
   "id": "bc7da201",
   "metadata": {},
   "outputs": [],
   "source": []
  },
  {
   "cell_type": "code",
   "execution_count": 3,
   "id": "13d63163",
   "metadata": {},
   "outputs": [
    {
     "data": {
      "text/plain": [
       "0.5"
      ]
     },
     "execution_count": 3,
     "metadata": {},
     "output_type": "execute_result"
    }
   ],
   "source": [
    "1/2"
   ]
  },
  {
   "cell_type": "code",
   "execution_count": null,
   "id": "29dc3784",
   "metadata": {},
   "outputs": [],
   "source": []
  },
  {
   "cell_type": "code",
   "execution_count": null,
   "id": "3e690fbb",
   "metadata": {},
   "outputs": [],
   "source": []
  },
  {
   "cell_type": "code",
   "execution_count": null,
   "id": "ba0cda0b",
   "metadata": {},
   "outputs": [],
   "source": []
  },
  {
   "cell_type": "code",
   "execution_count": null,
   "id": "6f279e47",
   "metadata": {},
   "outputs": [],
   "source": []
  },
  {
   "cell_type": "markdown",
   "id": "2145036e",
   "metadata": {},
   "source": [
    "# 31번 상위 K 빈도 요소"
   ]
  },
  {
   "cell_type": "code",
   "execution_count": 27,
   "id": "c2d79bed",
   "metadata": {},
   "outputs": [
    {
     "name": "stdout",
     "output_type": "stream",
     "text": [
      "[1, 2]\n"
     ]
    }
   ],
   "source": [
    "import collections\n",
    "import heapq\n",
    "\n",
    "k = 2\n",
    "nums = [1,1,1,2,2,3]\n",
    "freq = collections.Counter(nums)\n",
    "\n",
    "freq_heap = []\n",
    "for i in freq:\n",
    "    heapq.heappush(freq_heap, (-freq[i], i))\n",
    "\n",
    "lst = []\n",
    "for _ in range(k):\n",
    "    lst.append(heapq.heappop(freq_heap)[1])\n",
    "print(lst)"
   ]
  },
  {
   "cell_type": "code",
   "execution_count": null,
   "id": "97a548d6",
   "metadata": {},
   "outputs": [],
   "source": []
  },
  {
   "cell_type": "markdown",
   "id": "3cd2e89a",
   "metadata": {},
   "source": [
    "# 55. 배열의 K번째 큰 요소\n",
    "정렬되지 않은 배열에서 k번째 큰 요소를 추출해라"
   ]
  },
  {
   "cell_type": "code",
   "execution_count": 7,
   "id": "78073a26",
   "metadata": {},
   "outputs": [
    {
     "data": {
      "text/plain": [
       "3"
      ]
     },
     "execution_count": 7,
     "metadata": {},
     "output_type": "execute_result"
    }
   ],
   "source": [
    "#heapq 모듈 이용\n",
    "import collections\n",
    "import heapq\n",
    "nums = [3,2,3,1,2,4,5,5,6]; k = 4\n",
    "\n",
    "def findKthLargest(nums, k):\n",
    "    heap = list()\n",
    "    for n in nums:\n",
    "        heapq.heappush(heap, -n)\n",
    "    for _ in range(k):\n",
    "        heapq.heappop(heap)\n",
    "\n",
    "    return -heapq.heappop(heap)\n",
    "findKthLargest(nums, k)"
   ]
  },
  {
   "cell_type": "code",
   "execution_count": 37,
   "id": "0d42c135",
   "metadata": {},
   "outputs": [
    {
     "name": "stdout",
     "output_type": "stream",
     "text": [
      "[1, 2, 3, 2, 3, 4, 5, 5, 6]\n",
      "4\n"
     ]
    }
   ],
   "source": [
    "#heapq 모듈의 heapify 이용\n",
    "import heapq\n",
    "nums = [3,2,3,1,2,4,5,5,6]; k = 4\n",
    "heapq.heapify(nums)\n",
    "print(nums)\n",
    "for _ in range(len(nums) - k):\n",
    "    heapq.heappop(nums)\n",
    "print(heapq.heappop(nums))"
   ]
  },
  {
   "cell_type": "code",
   "execution_count": null,
   "id": "e64c520a",
   "metadata": {},
   "outputs": [],
   "source": []
  },
  {
   "cell_type": "markdown",
   "id": "68cb5c45",
   "metadata": {},
   "source": [
    "# 트라이 구현"
   ]
  },
  {
   "cell_type": "code",
   "execution_count": 63,
   "id": "1076c68a",
   "metadata": {},
   "outputs": [],
   "source": [
    "#1 딕셔너리를 이용한 간결한 트라이 구현\n",
    "class TrieNode:\n",
    "    def __init__(self):\n",
    "        self.word = False\n",
    "        self.children = collections.defaultdict(TrieNode)\n",
    "        \n",
    "class Trie:\n",
    "    def __init__(self):\n",
    "        self.root = TrieNode()\n",
    "        \n",
    "    #단어 삽입\n",
    "    def insert(self, word):\n",
    "        node = self.root\n",
    "        for char in word:\n",
    "            node = node.children[char]\n",
    "            #node.children[char] = node\n",
    "        node.word = True\n",
    "    \n",
    "    #단어 존재 여부 판별\n",
    "    def search(self, word):\n",
    "        node = self.root\n",
    "        for char in word:\n",
    "            if char not in node.children:\n",
    "                return False\n",
    "            node = node.children[char]\n",
    "        return node.word\n",
    "    \n",
    "    #문자열로 시작 단어 존재 여부 판별\n",
    "    def startsWith(self, prefix):\n",
    "        node = self.root\n",
    "        for char in prefix:\n",
    "            if char not in node.children:\n",
    "                return False\n",
    "            node = node.children[char]\n",
    "        return True"
   ]
  },
  {
   "cell_type": "code",
   "execution_count": 64,
   "id": "3a932d72",
   "metadata": {},
   "outputs": [
    {
     "data": {
      "text/plain": [
       "True"
      ]
     },
     "execution_count": 64,
     "metadata": {},
     "output_type": "execute_result"
    }
   ],
   "source": [
    "trie = Trie()\n",
    "trie.insert(\"apple\")\n",
    "trie.search(\"apple\")\n",
    "trie.search(\"app\")"
   ]
  },
  {
   "cell_type": "code",
   "execution_count": null,
   "id": "6755a1b4",
   "metadata": {},
   "outputs": [],
   "source": []
  },
  {
   "cell_type": "code",
   "execution_count": null,
   "id": "017f77ae",
   "metadata": {},
   "outputs": [],
   "source": []
  },
  {
   "cell_type": "markdown",
   "id": "be888d5a",
   "metadata": {},
   "source": [
    "# 팰린드롬 페어\n",
    "단어 리스트에서 words[i] + words[j]가 팰린드롬이 되는 모든 인덱스 조합(i,j)를 구하라"
   ]
  },
  {
   "cell_type": "code",
   "execution_count": 4,
   "id": "f316be2c",
   "metadata": {},
   "outputs": [
    {
     "name": "stdout",
     "output_type": "stream",
     "text": [
      "[[0, 1], [1, 0], [2, 4], [3, 2]]\n"
     ]
    }
   ],
   "source": [
    "#브루트 포스(O(n)^2)\n",
    "#인덱스 필요 -> enumerate 사용 생각하기\n",
    "#for문 돌리면서,, 팰린드롬이면 []에 추가\n",
    "#팰린드롬 판별함수, 빈 리스트, 돌면서 비교할 두 개의 반복문 필요\n",
    "\n",
    "word = ['abcd', 'dcba', 'lls', 's', 'sssll']\n",
    "\n",
    "def is_palindrome(word1):\n",
    "    return word1 == word1[::-1] #두 단어가 같으면 True\n",
    "\n",
    "output = []\n",
    "for i, word1 in enumerate(word):\n",
    "    for j, word2 in enumerate(word):\n",
    "        if i == j:\n",
    "            continue\n",
    "        if is_palindrome(word1+word2):\n",
    "            output.append([i, j])\n",
    "print(output)"
   ]
  },
  {
   "cell_type": "code",
   "execution_count": 13,
   "id": "339be799",
   "metadata": {},
   "outputs": [],
   "source": [
    "#트라이(O(n))\n",
    "import collections\n",
    "\n",
    "class TrieNode:\n",
    "    def __init__(self):\n",
    "        self.word = False\n",
    "        self.chiildren = collections.defaultdict(TrieNode)\n",
    "\n",
    "class Trie:\n",
    "    def __init__(self):\n",
    "        self.root = TrieNode()\n",
    "    \n",
    "    def insert(self, words):\n",
    "        node = self.root\n",
    "        #노드 만들어가면서 내려가기\n",
    "        for char in words:\n",
    "            node = self.children[char] #defaultdict이기에 자동적으로 char이 key이고 node가 TrieNode의 디폴트값으로서 value가 됨\n",
    "        node.word = True\n",
    "        \n",
    "    def search(self, words):\n",
    "        node = self.root\n",
    "        for char in words:\n",
    "            if char not in node.children:\n",
    "                return False\n",
    "            node = self.children[char]\n",
    "        return node.word"
   ]
  },
  {
   "cell_type": "code",
   "execution_count": 11,
   "id": "0bd58fe4",
   "metadata": {},
   "outputs": [
    {
     "data": {
      "text/plain": [
       "defaultdict(int, {1: 0})"
      ]
     },
     "execution_count": 11,
     "metadata": {},
     "output_type": "execute_result"
    }
   ],
   "source": [
    "import collections\n",
    "a = collections.defaultdict(int)\n",
    "b = a[1]\n",
    "a"
   ]
  },
  {
   "cell_type": "code",
   "execution_count": 17,
   "id": "bd2378a6",
   "metadata": {},
   "outputs": [
    {
     "name": "stdout",
     "output_type": "stream",
     "text": [
      "e\n",
      "l\n",
      "p\n",
      "p\n",
      "a\n"
     ]
    }
   ],
   "source": [
    "c = 'apple'\n",
    "for i in reversed(c):\n",
    "    print(i)"
   ]
  },
  {
   "cell_type": "code",
   "execution_count": 18,
   "id": "388ba6ad",
   "metadata": {},
   "outputs": [
    {
     "data": {
      "text/plain": [
       "<reversed at 0x1c6b6282c10>"
      ]
     },
     "execution_count": 18,
     "metadata": {},
     "output_type": "execute_result"
    }
   ],
   "source": [
    "reversed(c)"
   ]
  },
  {
   "cell_type": "code",
   "execution_count": null,
   "id": "8ee8bd6b",
   "metadata": {},
   "outputs": [],
   "source": [
    "class TrieNode:\n",
    "    def __init__(self):\n",
    "        self.children = collections.defaultdict(TrieNode)\n",
    "        self.word_id = -1\n",
    "        self.palindrome_word_ids = []\n",
    "\n",
    "class Trie:\n",
    "    def __init__(self):\n",
    "        self.root = TrieNode()\n",
    "    \n",
    "    @staticmetiod\n",
    "    def is_palindrome(word): #팰린드롬 판별 함수\n",
    "        return word[::] == word[::-1]\n",
    "    \n",
    "    #단어 삽입\n",
    "    def insert(self, index, word):\n",
    "        node = self.root\n",
    "        for i, char in enumerate(reversed(word)): #반대로 집어넣기\n",
    "            if self.is_palindrome(word[0:len(word) - i]): #문자 자체가 펠린드롬일 경우\n",
    "                node.palindrome_word_ids.append(index) #palindrome_word_ids[]에 각 단어의 인덱스를 넣음([0,1,2,3,4])\n",
    "            node = node.children[char]\n",
    "            node.val = char\n",
    "        node.word_id = index #word_id가 index임\n",
    "    \n",
    "    def search(self, index, word): #word_id : w(index)\n",
    "        result = []\n",
    "        node = self.root\n",
    "        \n",
    "        while word:\n",
    "            #판별 로직3\n",
    "            if node.word_id >= 0\n",
    "            \n",
    "        #판별 로직1\n",
    "        if node.word_id >= 0 and node.word_id != index:\n",
    "            #w가 0이상이고, w가 index랑 다를때,,,\n",
    "            result.append([index, node.word_id]) #?? 오로지 인덱스만 비교??\n",
    "            \n",
    "        #판별 로직2\n",
    "        for palindrome_word_id in node.palindrome_word_ids:\n",
    "            result.append([index, palindrome_word_id])\n",
    "            \n",
    "        return result\n",
    "        \n",
    "        \n",
    "            \n",
    "class Solution:\n",
    "    def palindromePairs(self, words):\n",
    "        trie = Trie()\n",
    "        \n",
    "        for i, word in enumerate(words):\n",
    "            trie.insert(i, word)\n",
    "        \n",
    "        results = []\n",
    "        for i, word in enumerate(words):\n",
    "            results.extend(trie.search(i, word))\n",
    "            \n",
    "        return results"
   ]
  }
 ],
 "metadata": {
  "kernelspec": {
   "display_name": "Python 3 (ipykernel)",
   "language": "python",
   "name": "python3"
  },
  "language_info": {
   "codemirror_mode": {
    "name": "ipython",
    "version": 3
   },
   "file_extension": ".py",
   "mimetype": "text/x-python",
   "name": "python",
   "nbconvert_exporter": "python",
   "pygments_lexer": "ipython3",
   "version": "3.9.12"
  }
 },
 "nbformat": 4,
 "nbformat_minor": 5
}
