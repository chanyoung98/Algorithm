{
 "cells": [
  {
   "cell_type": "markdown",
   "id": "e7af8abf",
   "metadata": {},
   "source": [
    "# Binary Search Tree 구현 코드"
   ]
  },
  {
   "cell_type": "code",
   "execution_count": 22,
   "id": "522b0185",
   "metadata": {},
   "outputs": [],
   "source": [
    "# 먼저 노드 클래스를 생성한다. (해당 클래스는 검색알고리즘에 필요한 기본클래스이다.)\n",
    "class Node:\n",
    "    def __init__(self, value): \n",
    "        self.value = value\n",
    "        self.left = None #왼쪽 서브노드\n",
    "        self.right = None #오른쪽 서브노드\n",
    "        \n",
    "class BinarySearchTree:\n",
    "    def __init__(self, head): #BinarySearchTree 클래스 생성자\n",
    "        self.head = head #부모 노드\n",
    "    \n",
    "    def insert_node(self, val): \n",
    "        self.based_root = self.head\n",
    "        while True:\n",
    "            #넣고자하는 값이 루트보다 작을 경우\n",
    "            if self.based_root.value > val:\n",
    "                #왼쪽에 노드가 있는경우\n",
    "                if self.based_root.left:\n",
    "                    self.based_root = self.based_root.left\n",
    "                #왼쪽에 노드가 없는경우\n",
    "                else:\n",
    "                    self.based_root.left = Node(val)\n",
    "                    break\n",
    "            #넣고자하는 값이 루트보다 클 경우\n",
    "            else:\n",
    "                #오른쪽에 노드가 있는경우\n",
    "                if self.based_root.right:\n",
    "                    self.based_root = self.based_root.right\n",
    "                #오른쪽에 노드가 없는경우\n",
    "                else:\n",
    "                    self.based_root.right = Node(val)\n",
    "                    break\n",
    "\t\n",
    "    #노드 검색 메소드\n",
    "    def search_node(self, value):\n",
    "        self.base_node = self.head #연산의 기준 노드 변수 선언  \n",
    "        while self.base_node: #기준 노드가 존재하는 동안\n",
    "            if self.base_node.value == value: #기준 노드의 값이 검색하고자 하는 값과 같다면\n",
    "                return True #True 반환\n",
    "                break\n",
    "            \n",
    "            elif self.base_node.value > value: #기준 노드의 값이 검색하고자 하는 값보다 클 때\n",
    "                if self.base_node.left != None: #기준 노드의 좌측 자식노드가 존재한다면\n",
    "                    self.base_node = self.base_node.left #다음 연산을 위해 기준 노드를 좌측 자식노드로 초기화\n",
    "                else: #기준 노드의 좌측 자식노드가 없다면\n",
    "                    return False #False 반환(검색하고자 하는 값이 없음)\n",
    "            \n",
    "            elif self.base_node.value < value: #기준 노드의 값이 검색하고자 하는 값보다 작을 때\n",
    "                if self.base_node.right != None: #기준 노드의 우측 자식노드가 존재한다면\n",
    "                    self.base_node = self.base_node.right #다음 연산을 위해 기준 노드를 우측 자식노드로 초기화\n",
    "                else: #기준 노드의 우측 자식노드가 없다면\n",
    "                    return False #False 반환(검색하고자 하는 값이 없음)"
   ]
  },
  {
   "cell_type": "code",
   "execution_count": 23,
   "id": "fd47ee91",
   "metadata": {
    "scrolled": true
   },
   "outputs": [
    {
     "name": "stdout",
     "output_type": "stream",
     "text": [
      "False\n",
      "False\n",
      "True\n"
     ]
    }
   ],
   "source": [
    "head = Node(16) #Node 클래스 객체 생성 (root == 16)\n",
    "bt = BinarySearchTree(head) #BinarySearchTree 클래스 객체 생성 (root == 16)\n",
    "\n",
    "bt.insert_node(12) # 값이 12인 노드 삽입\n",
    "bt.insert_node(19) # 값이 19인 노드 삽입\n",
    "bt.insert_node(11) # 값이 11인 노드 삽입\n",
    "bt.insert_node(13) # 값이 13인 노드 삽입\n",
    "bt.insert_node(18) # 값이 18인 노드 삽입\n",
    "bt.insert_node(20) # 값이 20인 노드 삽입\n",
    "bt.insert_node(9) # 값이 9인 노드 삽입\n",
    "bt.insert_node(8) # 값이 8인 노드 삽입\n",
    "bt.insert_node(10) # 값이 10인 노드 삽입\n",
    "\n",
    "print(bt.search_node(5))    #False\n",
    "print(bt.search_node(-2))   #False\n",
    "print(bt.search_node(18))   #True"
   ]
  },
  {
   "cell_type": "code",
   "execution_count": null,
   "id": "f345ad4a",
   "metadata": {},
   "outputs": [],
   "source": []
  },
  {
   "cell_type": "markdown",
   "id": "02ca3275",
   "metadata": {},
   "source": [
    "# 정렬된 배열의 이진 탐색 트리 변환"
   ]
  },
  {
   "cell_type": "code",
   "execution_count": 1,
   "id": "93dd14fd",
   "metadata": {},
   "outputs": [],
   "source": [
    "nums = [-10, -3, 0, 5, 9]\n",
    "def sortedArrayToBST(nums):\n",
    "    #중앙값을 계속 노드로 만든다는 생각\n",
    "    if not nums:\n",
    "        return None\n",
    "    \n",
    "    mid = len(nums)//2\n",
    "    node = TreeNode(nums[mid])\n",
    "    node.left = sortedArrayToBST(nums[:mid])\n",
    "    node.right = sortedArrayToBST(nums[mid+1:])\n",
    "    return node"
   ]
  },
  {
   "cell_type": "code",
   "execution_count": null,
   "id": "6c0ebdb8",
   "metadata": {},
   "outputs": [],
   "source": []
  },
  {
   "cell_type": "markdown",
   "id": "dc92d166",
   "metadata": {},
   "source": [
    "# 이진 탐색 트리(BST)를 더 큰 수 합계 트리로\n",
    "BST의 각 노드를 현재값보다 더 큰 값을 가진 모든 노드의 합으로 만들어라"
   ]
  },
  {
   "cell_type": "code",
   "execution_count": null,
   "id": "a7d3531f",
   "metadata": {},
   "outputs": [],
   "source": []
  },
  {
   "cell_type": "code",
   "execution_count": null,
   "id": "54100480",
   "metadata": {},
   "outputs": [],
   "source": []
  },
  {
   "cell_type": "code",
   "execution_count": null,
   "id": "df35062d",
   "metadata": {},
   "outputs": [],
   "source": [
    "nums = [4,1,6,0,2,5,7,null,null,null,3,null,null,null,8]\n",
    "#BST 트리가 이미 만들어져있다고 가정\n",
    "\n",
    "class Solution:\n",
    "    val = 0\n",
    "    def bstToGst(root):\n",
    "        if root:\n",
    "            self.bstToGst(root.right)\n",
    "            self.val += root.val\n",
    "            root.val = self.val\n",
    "            self.bstToGst(root.left)\n",
    "        return root\n",
    "    \n",
    "    #이걸 모르게씀\n"
   ]
  },
  {
   "cell_type": "code",
   "execution_count": null,
   "id": "d1fdf755",
   "metadata": {},
   "outputs": [],
   "source": []
  },
  {
   "cell_type": "markdown",
   "id": "801191df",
   "metadata": {},
   "source": [
    "# 이진 탐색 트리(BST) 합의 범위"
   ]
  },
  {
   "cell_type": "code",
   "execution_count": null,
   "id": "398d2a25",
   "metadata": {},
   "outputs": [],
   "source": [
    "#브루트 포스\n",
    "def rangeSumBST(root, L, R):\n",
    "    if not root:\n",
    "        return 0\n",
    "    \n",
    "    return (root.val if L <= root.val <= R else 0) + rangeSumBST(root.left, L, R) + rangeSumBST(root.right, L, R)"
   ]
  },
  {
   "cell_type": "code",
   "execution_count": null,
   "id": "5c8bc5e7",
   "metadata": {},
   "outputs": [],
   "source": [
    "#DFS 가지치기로 필요한 노드 검색\n",
    "\n",
    "#이건 왜 안될까?\n",
    "def rangeSumBST(root, L, R):\n",
    "    if not root:\n",
    "        return 0\n",
    "    \n",
    "    if root.value < L:\n",
    "        return rangeSumBST(root.right, L, R)\n",
    "    elif root.value > R:\n",
    "        return rangeSumBST(root.left, L, R)\n",
    "    else:\n",
    "        return root.val + rangeSum(root.right, L, R) + rangeSum(root.left, L, R)\n",
    "    "
   ]
  },
  {
   "cell_type": "code",
   "execution_count": null,
   "id": "fc23101b",
   "metadata": {},
   "outputs": [],
   "source": []
  },
  {
   "cell_type": "code",
   "execution_count": null,
   "id": "18703456",
   "metadata": {},
   "outputs": [],
   "source": []
  },
  {
   "cell_type": "code",
   "execution_count": null,
   "id": "ecccb9c2",
   "metadata": {},
   "outputs": [],
   "source": []
  },
  {
   "cell_type": "markdown",
   "id": "f1139e31",
   "metadata": {},
   "source": [
    "# 이진 탐색 트리(BST) 노드 간 최소 거리\n",
    "두 노드 간 값의 차이가 가장 작은 노드의 값의 차이를 출력하라."
   ]
  },
  {
   "cell_type": "code",
   "execution_count": null,
   "id": "a42f12af",
   "metadata": {},
   "outputs": [],
   "source": [
    "root = [4,2,6,1,3,null,null]"
   ]
  },
  {
   "cell_type": "code",
   "execution_count": null,
   "id": "2bbd0092",
   "metadata": {},
   "outputs": [],
   "source": []
  },
  {
   "cell_type": "code",
   "execution_count": null,
   "id": "f0ebae87",
   "metadata": {},
   "outputs": [],
   "source": []
  },
  {
   "cell_type": "markdown",
   "id": "8e31c681",
   "metadata": {},
   "source": [
    "# 노드 순회"
   ]
  },
  {
   "cell_type": "code",
   "execution_count": null,
   "id": "46511b34",
   "metadata": {},
   "outputs": [],
   "source": [
    "class Node:\n",
    "    def __init__(self, val, left = None, right = None):\n",
    "        self.val = val\n",
    "        self.left = left\n",
    "        self.right = right\n",
    "    \n",
    "root = Node('F', Node('B', Node('A'), Node('D', Node('C'), Node('E'))), Node('G', None, Node('I', Node('H'))))"
   ]
  },
  {
   "cell_type": "code",
   "execution_count": null,
   "id": "d55e5850",
   "metadata": {},
   "outputs": [],
   "source": [
    "#전위 순회\n",
    "def preorder(node):\n",
    "    if node is None:\n",
    "        return\n",
    "    print(node.val)\n",
    "    preorder(node.left) #왼쪽 우선\n",
    "    preorder(node.right)\n",
    "preorder(root)"
   ]
  },
  {
   "cell_type": "code",
   "execution_count": null,
   "id": "1f2c19f4",
   "metadata": {},
   "outputs": [],
   "source": [
    "#중위 순회\n",
    "def inorder(node):\n",
    "    if node is None:\n",
    "        return\n",
    "    inorder(node.left)\n",
    "    print(node.val)\n",
    "    inorder(node.right)\n",
    "inorder(root)"
   ]
  },
  {
   "cell_type": "code",
   "execution_count": null,
   "id": "f86ee71e",
   "metadata": {},
   "outputs": [],
   "source": [
    "#후위 순회\n",
    "def postorder(node):\n",
    "    if node is None:\n",
    "        return\n",
    "    postorder(node.left)\n",
    "    postorder(node.right)\n",
    "    print(node.val)\n",
    "postorder(root)"
   ]
  },
  {
   "cell_type": "code",
   "execution_count": null,
   "id": "3edb14a9",
   "metadata": {},
   "outputs": [],
   "source": []
  },
  {
   "cell_type": "markdown",
   "id": "931cc3ce",
   "metadata": {},
   "source": [
    "# 전위, 중위 순회 결과로 이진 트리 구축"
   ]
  },
  {
   "cell_type": "code",
   "execution_count": null,
   "id": "759d956b",
   "metadata": {},
   "outputs": [],
   "source": [
    "def buildTree(preorder, inorder):\n",
    "    if inorder:\n",
    "        #전위 순회 결과는 중위 순회 분할 인덱스\n",
    "        index = inorder.index(preorder.pop(0))\n",
    "        \n",
    "        #중위 순회 결과 분할 정복\n",
    "        node = TreeNode(inorder[index])\n",
    "        node.left = self.buildTree(preorder, inorder[0:index])\n",
    "        node.right = self.buildTree(preorder, inorder[index + 1:])\n",
    "        \n",
    "        return node"
   ]
  },
  {
   "cell_type": "code",
   "execution_count": null,
   "id": "33882350",
   "metadata": {},
   "outputs": [],
   "source": []
  },
  {
   "cell_type": "code",
   "execution_count": null,
   "id": "b236690a",
   "metadata": {},
   "outputs": [],
   "source": []
  },
  {
   "cell_type": "code",
   "execution_count": null,
   "id": "48bdc1f9",
   "metadata": {},
   "outputs": [],
   "source": []
  },
  {
   "cell_type": "code",
   "execution_count": null,
   "id": "53c270b0",
   "metadata": {},
   "outputs": [],
   "source": []
  },
  {
   "cell_type": "code",
   "execution_count": null,
   "id": "f13656b9",
   "metadata": {},
   "outputs": [],
   "source": []
  },
  {
   "cell_type": "code",
   "execution_count": null,
   "id": "c280759b",
   "metadata": {},
   "outputs": [],
   "source": []
  },
  {
   "cell_type": "code",
   "execution_count": null,
   "id": "9daedc34",
   "metadata": {},
   "outputs": [],
   "source": []
  },
  {
   "cell_type": "code",
   "execution_count": null,
   "id": "5d5ed177",
   "metadata": {},
   "outputs": [],
   "source": [
    "u,d,h = map(int, input().split())\n",
    "\n",
    "step = u-d #이동거리\n",
    "\n",
    "if (h-u)%step==0: #딱 맞게 가는경우\n",
    "    result = (h-u)//step + 1\n",
    "else: #남는 경우\n",
    "    result = (h-u)//step + 2\n",
    "print(result)"
   ]
  },
  {
   "cell_type": "code",
   "execution_count": 24,
   "id": "c5fad1a0",
   "metadata": {},
   "outputs": [
    {
     "name": "stdout",
     "output_type": "stream",
     "text": [
      "2 1 5\n",
      "4\n"
     ]
    }
   ],
   "source": [
    "U, D, H = map(int, input().split())\n",
    "#닿기 직전 : H > 간 정도\n",
    "d = U-D #한번 동작할 때 이동거리\n",
    "k = 0\n",
    "while True:\n",
    "    if k/((H-U)/d+1) >= 1:\n",
    "        break\n",
    "    k += 1\n",
    "print(k)"
   ]
  },
  {
   "cell_type": "code",
   "execution_count": null,
   "id": "a7eee78b",
   "metadata": {},
   "outputs": [],
   "source": []
  },
  {
   "cell_type": "code",
   "execution_count": null,
   "id": "397133b4",
   "metadata": {},
   "outputs": [],
   "source": []
  }
 ],
 "metadata": {
  "kernelspec": {
   "display_name": "Python 3 (ipykernel)",
   "language": "python",
   "name": "python3"
  },
  "language_info": {
   "codemirror_mode": {
    "name": "ipython",
    "version": 3
   },
   "file_extension": ".py",
   "mimetype": "text/x-python",
   "name": "python",
   "nbconvert_exporter": "python",
   "pygments_lexer": "ipython3",
   "version": "3.9.12"
  }
 },
 "nbformat": 4,
 "nbformat_minor": 5
}
