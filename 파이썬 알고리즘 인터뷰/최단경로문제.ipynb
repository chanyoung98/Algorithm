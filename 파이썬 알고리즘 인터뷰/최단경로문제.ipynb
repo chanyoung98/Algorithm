{
 "cells": [
  {
   "cell_type": "markdown",
   "id": "4ef6d2e3",
   "metadata": {},
   "source": [
    "# 40. 네트워크 딜레이 타임\n",
    "K부터 출발해 모든 노드가 신호를 받을 수 있는 시간을 계산하라. 불가능한 경우 -1을 리턴한다. 입력값 (u,v,w)는 각각 출발지, 도착지, 소요 시간으로 구성되며, 전체 노드의 개수는 N으로 입력받는다."
   ]
  },
  {
   "cell_type": "code",
   "execution_count": 11,
   "id": "646b614d",
   "metadata": {},
   "outputs": [
    {
     "data": {
      "text/plain": [
       "2"
      ]
     },
     "execution_count": 11,
     "metadata": {},
     "output_type": "execute_result"
    }
   ],
   "source": [
    "import collections\n",
    "import heapq\n",
    "def networkDelayTime(times, N, K):\n",
    "    graph = collections.defaultdict(list)\n",
    "    #그래프 인접 리스트 구성\n",
    "    for u, v, w in times:\n",
    "        graph[u].append((v, w))\n",
    "        \n",
    "    #큐 변수 : [(소요 시간, 정점)]\n",
    "    Q = [(0, K)]\n",
    "    dist = collections.defaultdict(int)\n",
    "    \n",
    "    #우선순위 큐 최솟값 기준으로 정점까지 최단 경로 삽입\n",
    "    while Q:\n",
    "        time, node = heapq.heappop(Q)\n",
    "        if node not in dist:\n",
    "            dist[node] = time\n",
    "            for v, w in graph[node]:\n",
    "                alt = time + w\n",
    "                heapq.heappush(Q, (alt, v))\n",
    "    \n",
    "    #모든 노드의 최단 경로 존재 여부 판별\n",
    "    if len(dist) == N:\n",
    "        return max(dist.values())\n",
    "    return -1\n",
    "\n",
    "times = [[2,1,1],[2,3,1],[3,4,1]]\n",
    "networkDelayTime(times, 4, 2)"
   ]
  },
  {
   "cell_type": "code",
   "execution_count": 14,
   "id": "055017e6",
   "metadata": {},
   "outputs": [
    {
     "data": {
      "text/plain": [
       "defaultdict(list, {2: [(1, 1), (3, 1)], 3: [(4, 1)]})"
      ]
     },
     "execution_count": 14,
     "metadata": {},
     "output_type": "execute_result"
    }
   ],
   "source": [
    "def networkDelayTime(times, N, K):\n",
    "    graph = collections.defaultdict(list)\n",
    "    #그래프 인접 리스트 구성\n",
    "    for u, v, w in times:\n",
    "        graph[u].append((v, w))\n",
    "    return graph\n",
    "networkDelayTime(times, 4, 2)"
   ]
  },
  {
   "cell_type": "code",
   "execution_count": 34,
   "id": "041d971c",
   "metadata": {},
   "outputs": [
    {
     "name": "stdout",
     "output_type": "stream",
     "text": [
      "(5, 1)\n",
      "(2, 2)\n",
      "(1, 4)\n",
      "defaultdict(<class 'list'>, {3: [(1, 5), (2, 2), (4, 1)], 2: [(1, 2)], 4: [(5, 1)], 5: [(6, 1)], 6: [(7, 1)], 7: [(8, 1)], 8: [(1, 1)]})\n"
     ]
    }
   ],
   "source": [
    "K = 3\n",
    "graph = collections.defaultdict(list)\n",
    "times = [[3,1,5],[3,2,2],[2,1,2],[3,4,1],[4,5,1],[5,6,1],[6,7,1],[7,8,1],[8,1,1]]\n",
    "for u, v, w in times:\n",
    "    graph[u].append((v, w))\n",
    "        \n",
    "Q = [(0,K)]\n",
    "dist = collections.defaultdict(int)\n",
    "\n",
    "for _ in range(1):\n",
    "    time, node = heapq.heappop(Q)\n",
    "    if node not in dist:\n",
    "        dist[node] = time\n",
    "        for v, w in graph[node]:\n",
    "            alt = time + w\n",
    "            heapq.heappush(Q, (alt, v))\n",
    "            print((alt,v))\n",
    "print(graph)"
   ]
  },
  {
   "cell_type": "code",
   "execution_count": 28,
   "id": "e512822b",
   "metadata": {},
   "outputs": [
    {
     "data": {
      "text/plain": [
       "[(2, 2), (5, 1), (4, 1)]"
      ]
     },
     "execution_count": 28,
     "metadata": {},
     "output_type": "execute_result"
    }
   ],
   "source": [
    "Q = []\n",
    "heapq.heappush(Q, (5,1))\n",
    "heapq.heappush(Q, (2,2))\n",
    "heapq.heappush(Q, (4,1))\n",
    "Q"
   ]
  },
  {
   "cell_type": "code",
   "execution_count": null,
   "id": "cb58d202",
   "metadata": {},
   "outputs": [],
   "source": []
  },
  {
   "cell_type": "code",
   "execution_count": null,
   "id": "3118d770",
   "metadata": {},
   "outputs": [],
   "source": []
  },
  {
   "cell_type": "markdown",
   "id": "2fe76c43",
   "metadata": {},
   "source": [
    "# K 경유지 내 가장 저렴한 항공권"
   ]
  },
  {
   "cell_type": "code",
   "execution_count": null,
   "id": "894b349d",
   "metadata": {},
   "outputs": [],
   "source": [
    "def findCheapestPrice(n, flights, src, dst, K):\n",
    "    graph = collections.defaultdict(list)\n",
    "    #그래프 인접 리스트 구성\n",
    "    for u, v, w in flights:\n",
    "        graph[u].append((v,w))\n",
    "        \n",
    "    #큐 변수 : [(가격, 정점, 남은 가능 경유지 수)]\n",
    "    Q = [(0, src, K)]\n",
    "    \n",
    "    #우선순위 큐 최솟값 기준으로 도착점까지 최소 비용 판별\n",
    "    while Q:\n",
    "        price, node, k = heapq.heappop(Q)\n",
    "        if node == dst:\n",
    "            return price\n",
    "        if k >= 0:\n",
    "            for v, w in graph[node]:\n",
    "                alt = price + w\n",
    "                heapq.heappush(Q, (alt, v, k-1))\n",
    "    return -1"
   ]
  }
 ],
 "metadata": {
  "kernelspec": {
   "display_name": "Python 3 (ipykernel)",
   "language": "python",
   "name": "python3"
  },
  "language_info": {
   "codemirror_mode": {
    "name": "ipython",
    "version": 3
   },
   "file_extension": ".py",
   "mimetype": "text/x-python",
   "name": "python",
   "nbconvert_exporter": "python",
   "pygments_lexer": "ipython3",
   "version": "3.9.12"
  }
 },
 "nbformat": 4,
 "nbformat_minor": 5
}
