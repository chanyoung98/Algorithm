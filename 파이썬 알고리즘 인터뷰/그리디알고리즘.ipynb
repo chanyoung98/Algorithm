{
 "cells": [
  {
   "cell_type": "code",
   "execution_count": 1,
   "id": "6197c613",
   "metadata": {},
   "outputs": [
    {
     "ename": "IndentationError",
     "evalue": "expected an indented block (529889937.py, line 1)",
     "output_type": "error",
     "traceback": [
      "\u001b[1;36m  Input \u001b[1;32mIn [1]\u001b[1;36m\u001b[0m\n\u001b[1;33m    def frantional_knapsack(cargo):\u001b[0m\n\u001b[1;37m                                   ^\u001b[0m\n\u001b[1;31mIndentationError\u001b[0m\u001b[1;31m:\u001b[0m expected an indented block\n"
     ]
    }
   ],
   "source": [
    "def frantional_knapsack(cargo):\n",
    "    capacity = 15\n",
    "    pack = []\n",
    "    #단가 계산 역순 정렬\n",
    "    for c in cargo:\n",
    "        pack.append((c[0] / c[1], c[0], c[1]))\n",
    "    pack.sort(reserve = True)\n",
    "    \n",
    "    "
   ]
  },
  {
   "cell_type": "code",
   "execution_count": 55,
   "id": "463039c1",
   "metadata": {},
   "outputs": [
    {
     "data": {
      "text/plain": [
       "17.333333333333332"
      ]
     },
     "execution_count": 55,
     "metadata": {},
     "output_type": "execute_result"
    }
   ],
   "source": [
    "cargo = [(4,12),\n",
    "        (2,1),\n",
    "        (10,4),\n",
    "        (1,1),\n",
    "        (2,2)]\n",
    "\n",
    "pack = []\n",
    "capacity = 15\n",
    "for i in cargo:\n",
    "    pack.append((i[0]/i[1], i[0], i[1]))\n",
    "pack.sort(reverse = True) #단가 : 가장 단가가 높은 순으로 가방에 넣기 위함\n",
    "pack\n",
    "\n",
    "total_value = 0.0\n",
    "for p in pack:\n",
    "    if capacity - p[2] >= 0:\n",
    "        capacity -= p[2]\n",
    "        total_value += p[1]\n",
    "    else:\n",
    "        fraction = capacity / p[2] #남은 무게/들어가야 하는 무게 -> 들어갈 수 있는 무게\n",
    "        total_value += fraction * p[1]\n",
    "        break\n",
    "total_value"
   ]
  },
  {
   "cell_type": "markdown",
   "id": "c8333940",
   "metadata": {},
   "source": [
    "# 주식을 사고팔기 가장 좋은 시점"
   ]
  },
  {
   "cell_type": "code",
   "execution_count": 14,
   "id": "fe0f29d2",
   "metadata": {},
   "outputs": [
    {
     "name": "stdout",
     "output_type": "stream",
     "text": [
      "7\n"
     ]
    }
   ],
   "source": [
    "#그리디,,, 매번 단계마다 이익을 취하는 탐욕 구조로 구현\n",
    "lst = [7,1,5,3,6,4]\n",
    "\n",
    "price = 0\n",
    "for i in range(1, len(lst)):\n",
    "    if lst[i-1] < lst[i]:\n",
    "        price += lst[i] - lst[i-1]\n",
    "print(price)"
   ]
  },
  {
   "cell_type": "code",
   "execution_count": 19,
   "id": "b2a594f1",
   "metadata": {},
   "outputs": [
    {
     "data": {
      "text/plain": [
       "7"
      ]
     },
     "execution_count": 19,
     "metadata": {},
     "output_type": "execute_result"
    }
   ],
   "source": [
    "#파이썬다운 방식\n",
    "def maxProfit(price):\n",
    "    return sum(max(price[i+1]-price[i],0) for i in range(len(price) - 1))\n",
    "maxProfit(lst)"
   ]
  },
  {
   "cell_type": "markdown",
   "id": "ac8e4219",
   "metadata": {},
   "source": [
    "# 키에 따른 대기열 재구성\n",
    "여러 명의 사람들이 줄 서 있다. 각 사람은 (h, k)의 두 정수 쌍을 갖는데, h는 그 사람의 키, k는 앞에 줄 서있는 사람들 중 자신의 키 이상인 사람들의 수를 뜻한다. 이 값이 올바르도록 줄을 재정렬하는 알고리즘을 작성하라."
   ]
  },
  {
   "cell_type": "code",
   "execution_count": null,
   "id": "fb3c26d0",
   "metadata": {},
   "outputs": [],
   "source": []
  },
  {
   "cell_type": "code",
   "execution_count": null,
   "id": "2bdbf294",
   "metadata": {},
   "outputs": [],
   "source": []
  },
  {
   "cell_type": "markdown",
   "id": "5818c4ec",
   "metadata": {},
   "source": [
    "# 태스크 스케줄러\n",
    "A에서 Z로 표현된 태스크가 있다. 각 간격마다 CPU는 한 번의 태스크만 실행할 수 있고, n번의 간격 내에는 동일한 태스크를 실행할 수 없다.  \n",
    "더 이상 태스크를 실행할 수 없는 경우 아이들(idle) 상태가 된다. 모든 태스크를 실행하기 위한 최소 간격을 출력하라."
   ]
  },
  {
   "cell_type": "code",
   "execution_count": 20,
   "id": "cb3f5209",
   "metadata": {},
   "outputs": [],
   "source": [
    "tasks = ['A', 'A', 'A', 'B', 'B', 'B']; n = 2\n",
    "\n",
    "#리스트를 하나 만든다.\n",
    "#tasks에서 문자를 하나 꺼낸다.\n",
    "#tasks에서 문자를 하나 더 꺼내되, "
   ]
  },
  {
   "cell_type": "code",
   "execution_count": 21,
   "id": "9943c0bc",
   "metadata": {},
   "outputs": [],
   "source": [
    "import collections\n",
    "def leastInterval(tasks, n):\n",
    "    counter = collections.Counter(tasks)\n",
    "    result = 0\n",
    "    \n",
    "    while True:\n",
    "        sub_count = 0\n",
    "        \n",
    "        #개수 순 추출\n",
    "        for task, _ in counter.most_common(n+1):\n",
    "            sub_count += 1\n",
    "            result += 1\n",
    "            \n",
    "            counter.subtract(task)\n",
    "            #0 이하인 아이템을 목록에서 완전히 제거\n",
    "            counter += collections.Counter()\n",
    "            \n",
    "        if not counter:\n",
    "            break\n",
    "            \n",
    "        result += n - sub_count + 1\n",
    "    \n",
    "    return result"
   ]
  },
  {
   "cell_type": "code",
   "execution_count": 61,
   "id": "250a10bb",
   "metadata": {},
   "outputs": [
    {
     "name": "stdout",
     "output_type": "stream",
     "text": [
      "A\n",
      "3\n",
      "B\n",
      "3\n"
     ]
    }
   ],
   "source": [
    "tasks = ['A', 'A', 'A', 'B', 'B', 'B']; n = 2\n",
    "counter = collections.Counter(tasks)\n",
    "result = 0\n",
    "\n",
    "for _ in range(1):\n",
    "    sub_count = 0\n",
    "    \n",
    "    #개수 순 추출\n",
    "    for task, _ in counter.most_common(n+1): #리스트 형태\n",
    "        sub_count += 1\n",
    "        result += 1\n",
    "        print(task)\n",
    "        print(_)\n",
    "        counter.subtract(task)\n",
    "        #0이하인 아이템을 목록에서 완전히 제거\n",
    "        counter += collections.Counter()\n",
    "    \n",
    "    if not counter:\n",
    "        break\n",
    "        \n",
    "    result += n - sub_count + 1"
   ]
  },
  {
   "cell_type": "markdown",
   "id": "465b17d9",
   "metadata": {},
   "source": [
    "# 주유소"
   ]
  },
  {
   "cell_type": "code",
   "execution_count": 45,
   "id": "ecdfc559",
   "metadata": {},
   "outputs": [],
   "source": [
    "gas = [1,2,3,4,5]; cost = [3,4,5,1,2]\n",
    "\n",
    "#모두 방문\n",
    "def canCompleteCircuite(gas, cost):\n",
    "    for start in range(len(gas)):\n",
    "        fuel = 0\n",
    "        for i in range(start, len(gas) + start):\n",
    "            index = i % len(gas)\n",
    "            \n",
    "            can_travel = True\n",
    "            if gas[index] + fuel < cost[index]:\n",
    "                can_travel = False\n",
    "                break\n",
    "            else:\n",
    "                fuel += gas[index] - cost[index]\n",
    "        if can_travel:\n",
    "            return start\n",
    "    return -1"
   ]
  },
  {
   "cell_type": "code",
   "execution_count": 46,
   "id": "ff267a50",
   "metadata": {},
   "outputs": [],
   "source": [
    "#한번 방문\n",
    "def canCompleteCircuit(gas, cost):\n",
    "    #모든 주유소 방문 가능 여부 판별\n",
    "    if sum(gas) < sum(cost):\n",
    "        return -1\n",
    "    \n",
    "    start, fuel = 0, 0\n",
    "    for i in range(len(gas)):\n",
    "        #출발점이 안 되는 지점 판별\n",
    "        if gas[i] + fuel < cost[i]:\n",
    "            start = i + 1\n",
    "            fuel = 0\n",
    "        else:\n",
    "            fuel += gas[i] - cost[i]\n",
    "    return start"
   ]
  },
  {
   "cell_type": "markdown",
   "id": "aa8267c3",
   "metadata": {},
   "source": [
    "# 쿠키 부여"
   ]
  },
  {
   "cell_type": "code",
   "execution_count": 47,
   "id": "b01d31f9",
   "metadata": {},
   "outputs": [],
   "source": [
    "#그리디 알고리즘\n",
    "def findContentChildren(g, s):\n",
    "    g.sort() #아이의 쿠키 필요 수\n",
    "    s.sort() #현재 쿠키 수\n",
    "    \n",
    "    child_i = cookie_j = 0 #각 아이의 인덱스, 쿠키의 인덱스\n",
    "    #만족하지 못할 때까지 그리디 진행\n",
    "    while child_i < len(g) and cookie_j < len(s):\n",
    "        if s[cookie_j] >= g[child_i]: #아이가 만족\n",
    "            child_i += 1\n",
    "        cookie_j += 1 #아이가 만족하던 안하던 쿠키 인덱스 증가\n",
    "    \n",
    "    return child_i"
   ]
  },
  {
   "cell_type": "code",
   "execution_count": 48,
   "id": "0c301149",
   "metadata": {},
   "outputs": [],
   "source": [
    "#이진 검색\n",
    "def findContentChildren(g, s):\n",
    "    g.sort()\n",
    "    s.sort()\n",
    "    \n",
    "    result = 0\n",
    "    for i in s:\n",
    "        #이진 검색으로 더 큰 인덱스 검색\n",
    "        index = bisect.bisect_right(g, i) #g에 i가 들어갈 위치 찾기\n",
    "        if index > result:\n",
    "            result += 1\n",
    "    return result"
   ]
  },
  {
   "cell_type": "code",
   "execution_count": null,
   "id": "6ce1e939",
   "metadata": {},
   "outputs": [],
   "source": []
  }
 ],
 "metadata": {
  "kernelspec": {
   "display_name": "Python 3 (ipykernel)",
   "language": "python",
   "name": "python3"
  },
  "language_info": {
   "codemirror_mode": {
    "name": "ipython",
    "version": 3
   },
   "file_extension": ".py",
   "mimetype": "text/x-python",
   "name": "python",
   "nbconvert_exporter": "python",
   "pygments_lexer": "ipython3",
   "version": "3.9.12"
  }
 },
 "nbformat": 4,
 "nbformat_minor": 5
}
