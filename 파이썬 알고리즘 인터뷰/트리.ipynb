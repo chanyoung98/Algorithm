{
 "cells": [
  {
   "cell_type": "markdown",
   "id": "a5aa8ae1",
   "metadata": {},
   "source": [
    "# 이진 트리의 최대 깊이\n",
    "[3,9,20,null,null,15,7]가 주어졌을 때, 깊이는 3이다.  "
   ]
  },
  {
   "cell_type": "code",
   "execution_count": null,
   "id": "fc85bb0f",
   "metadata": {},
   "outputs": [],
   "source": [
    "import collections\n",
    "def MaxDepth(root):\n",
    "    if not root:\n",
    "        return 0\n",
    "    \n",
    "    #BFS를 위한 queue와 depth 변수 초기화\n",
    "    queue = collections.deque([root])\n",
    "    depth = 0\n",
    "    \n",
    "    while queue: #queue가 존재할때까지\n",
    "        cur_root = queue.popleft()\n",
    "        depth += 1\n",
    "        #층을 세우자\n",
    "        for _ in range(len(queue)):\n",
    "            if cur_root.left:\n",
    "                queue.append(cur_root.left)\n",
    "            if cur_root.right:\n",
    "                queue.append(cur_root.right)\n",
    "    \n",
    "    #BFS 반복횟수 == 깊이\n",
    "    return depth    "
   ]
  },
  {
   "cell_type": "markdown",
   "id": "829ffda6",
   "metadata": {},
   "source": [
    "# 이진 트리의 직경\n",
    "이진 트리에서 두 노드 간 가장 긴 경로의 길이를 출력하라."
   ]
  },
  {
   "cell_type": "code",
   "execution_count": null,
   "id": "c5348518",
   "metadata": {},
   "outputs": [],
   "source": [
    "class Solution:\n",
    "    longest = 0\n",
    "    def diameterOfBinaryTree(root):\n",
    "        def dfs(node):\n",
    "            if not node:\n",
    "                return -1\n",
    "            #왼쪽, 오른쪽의 각 리프 노드까지 탐색\n",
    "            left = dfs(node.left)\n",
    "            right = dfs(node.right)\n",
    "            \n",
    "            #가장 긴 경로\n",
    "            self.longest = max(self.longest, left + right + 2)\n",
    "            #상태값\n",
    "            return max(left, right) + 1\n",
    "        \n",
    "        dfs(root)\n",
    "        return self.lognest"
   ]
  },
  {
   "cell_type": "code",
   "execution_count": null,
   "id": "51097aeb",
   "metadata": {},
   "outputs": [],
   "source": []
  },
  {
   "cell_type": "markdown",
   "id": "20471571",
   "metadata": {},
   "source": [
    "# 가장 긴 동일값의 경로\n",
    "동일한 값을 지닌 가장 긴 경로를 찾아라"
   ]
  },
  {
   "cell_type": "code",
   "execution_count": null,
   "id": "656bfd6b",
   "metadata": {},
   "outputs": [],
   "source": [
    "class TreeNode:\n",
    "    def __init__(self, val=0, left=None, right=None):\n",
    "        self.val = val\n",
    "        self.left = left\n",
    "        self.right = right\n",
    "\n",
    "class Solution:\n",
    "    result = 0\n",
    "    \n",
    "    def longestUnivaluePath(self, root):\n",
    "        #dfs 함수 설계\n",
    "        def dfs(node):\n",
    "            if node is None:\n",
    "                return 0\n",
    "            \n",
    "            #존재하지 않는 노드까지 DFS 재귀 탐색\n",
    "            node.left = dfs(node)\n",
    "            node.right = dfs(nodee\n",
    "            \n",
    "            #현재 노드가 자식 노드와 동일한 경우 거리 1 증가\n",
    "            \n",
    "            #왼쪽과 오른쪽 자식 노드 간 거리의 합 최댓값이 결과\n",
    "            \n",
    "            #자식노드 상태값 중 큰 값 리턴\n",
    "            \n",
    "            "
   ]
  },
  {
   "cell_type": "code",
   "execution_count": null,
   "id": "22efc36a",
   "metadata": {},
   "outputs": [],
   "source": []
  },
  {
   "cell_type": "markdown",
   "id": "f2d8a9c3",
   "metadata": {},
   "source": [
    "# 이진 트리 반전"
   ]
  },
  {
   "cell_type": "code",
   "execution_count": null,
   "id": "d933c2d5",
   "metadata": {},
   "outputs": [],
   "source": [
    "#BSS 탐색으로 풀이\n",
    "def invertTree(root):\n",
    "    queue = collections.deque([root])\n",
    "    \n",
    "    while queue:\n",
    "        node = queue.popleft()\n",
    "        #부모 노드부터 하향식 스왑\n",
    "        if node:\n",
    "            node.left, node.right = node.right, node.left\n",
    "            \n",
    "            queue.append(node.left)\n",
    "            queue.append(node.right)\n",
    "            \n",
    "    return root"
   ]
  },
  {
   "cell_type": "code",
   "execution_count": null,
   "id": "b41ebb4f",
   "metadata": {},
   "outputs": [],
   "source": []
  },
  {
   "cell_type": "code",
   "execution_count": null,
   "id": "cba75fc4",
   "metadata": {},
   "outputs": [],
   "source": []
  },
  {
   "cell_type": "markdown",
   "id": "88587db0",
   "metadata": {},
   "source": [
    "# 이진 트리 직렬화 & 역직렬화\n",
    "이진 트리를 배열로 직렬화하고, 반대로 역직렬화하는 기능을 구현하라. 즉, 다음과 같은 트리는 [1,2,3,null,null,4,5] 형태로 직렬화할 수 있을 것이다."
   ]
  },
  {
   "cell_type": "code",
   "execution_count": null,
   "id": "4dfeb3a1",
   "metadata": {},
   "outputs": [],
   "source": [
    "#BFS 탐색이기에, 앞서 '이진 트리 반전' 문제에서 풀이했던 BFS 반복 풀이를 가져와서 변경\n",
    "\n",
    "#직렬화\n",
    "def serialize(root):\n",
    "    queue = collections.deque([root])\n",
    "    #리턴 타입이 문자열이기에 리턴에 사용할 변수를 별도로 설정한다\n",
    "    result = ['#']\n",
    "    \n",
    "    while queue:\n",
    "        node = queue.popleft()\n",
    "        #부모 노드부터 하향식\n",
    "        \n",
    "        #노드가 있는 경우 left와 right를 queue에 넣어주고, 해당 노드의 값을 result에 넣어줌\n",
    "        if node:\n",
    "            queue.append(node.left)\n",
    "            queue.append(node.right)\n",
    "            \n",
    "            result.append(str(node.val))\n",
    "        #노드가 없는 경우(node.right를 받았는데 그것이 False인 경우)\n",
    "        else\n",
    "            result.append('#')\n",
    "            \n",
    "    return ' '.join(result) #str타입이기에 join을 활용하여 리스트가 아닌 배열 형태로 바꾸어줌"
   ]
  },
  {
   "cell_type": "code",
   "execution_count": null,
   "id": "76a29608",
   "metadata": {},
   "outputs": [],
   "source": [
    "#역직렬화\n",
    "def deserialize(data):\n",
    "    nodes = data.split() #공백단위의 문자열을 끊어서 리스트 변수로 만듦\n",
    "    \n",
    "    root = TreeNode(int(nodes[1]))\n",
    "    queue = collections.deque([root])\n",
    "    \n",
    "    index = 2\n",
    "    while queue:\n",
    "        node = queue.popleft()\n",
    "        if nodes[index] is not '#':\n",
    "            node.left = TreeNode(int(nodes[index]))\n",
    "            queue.append(node.left)\n",
    "        index += 1\n",
    "        \n",
    "        if nodes[index] is not '#':\n",
    "            node.right = TreeNode(int(nodes[index]))\n",
    "            queue.append(node.right)\n",
    "        index += 1"
   ]
  },
  {
   "cell_type": "code",
   "execution_count": null,
   "id": "5733f553",
   "metadata": {},
   "outputs": [],
   "source": []
  },
  {
   "cell_type": "markdown",
   "id": "6e6859c6",
   "metadata": {},
   "source": [
    "# 균형 이진 트리\n",
    "이진 트리가 높이 균형인지 판단하라"
   ]
  },
  {
   "cell_type": "code",
   "execution_count": null,
   "id": "7a69e041",
   "metadata": {},
   "outputs": [],
   "source": [
    "#함수의 뼈대부터 차근차근,,,\n",
    "def isBalanced(root):\n",
    "    def check(root):\n",
    "        if not root:\n",
    "            return 0\n",
    "        \n",
    "        left = check(root.left)\n",
    "        right = check(root.right)\n",
    "        \n",
    "        #max값 갱신,, 차이가 2이상이면 나가리,, \n",
    "        if left == -1 or right == -1 or abs(right - left) > 1:\n",
    "            return -1\n",
    "        else:\n",
    "            return max(left, right) + 1\n",
    "    return check(root) != -1\n"
   ]
  },
  {
   "cell_type": "code",
   "execution_count": null,
   "id": "14aa8aa2",
   "metadata": {},
   "outputs": [],
   "source": []
  },
  {
   "cell_type": "markdown",
   "id": "6a232721",
   "metadata": {},
   "source": [
    "# 최소 높이 트리\n",
    "노드개수와 무방향 그래프를 입력받아 트리가 최소 높이가 되는 루투의 목록을 리턴하라"
   ]
  },
  {
   "cell_type": "code",
   "execution_count": 7,
   "id": "82919f8b",
   "metadata": {},
   "outputs": [
    {
     "data": {
      "text/plain": [
       "[8, 6]"
      ]
     },
     "execution_count": 7,
     "metadata": {},
     "output_type": "execute_result"
    }
   ],
   "source": [
    "n = 10; edges = [[1,3],[2,3],[3,4],[3,5],[4,6],[6,10],[5,7],[5,8],[8,9]]\n",
    "import collections\n",
    "if n <= 1:\n",
    "    print(0)\n",
    "#양방향 그래프 구성\n",
    "graph = collections.defaultdict(list)\n",
    "for i, j in edges:\n",
    "    graph[i].append(j)\n",
    "    graph[j].append(i)\n",
    "\n",
    "#첫 번째 리프 노드 추가\n",
    "leaves = []\n",
    "for i in range(1,n+1):\n",
    "    if len(graph[i]) == 1:\n",
    "        leaves.append(i) #Key가 리프노드임\n",
    "\n",
    "#루트 노드만 남을 때까지 반복 제거\n",
    "while n > 2:\n",
    "    new_leaves = []\n",
    "    \n",
    "    n =- len(leaves)\n",
    "    for j in leaves:\n",
    "        nod = graph[j].pop()\n",
    "        graph[nod].remove(j)\n",
    "        \n",
    "        if len(graph[nod]) == 1:\n",
    "            new_leaves.append(nod)\n",
    "    \n",
    "    leaves = new_leaves\n",
    "graph\n",
    "leaves"
   ]
  },
  {
   "cell_type": "code",
   "execution_count": 3,
   "id": "7ce9c631",
   "metadata": {},
   "outputs": [
    {
     "data": {
      "text/plain": [
       "defaultdict(list,\n",
       "            {1: [3],\n",
       "             3: [1, 2, 4, 5],\n",
       "             2: [3],\n",
       "             4: [3, 6],\n",
       "             5: [3, 7, 8],\n",
       "             6: [4, 10],\n",
       "             10: [6],\n",
       "             7: [5],\n",
       "             8: [5, 9],\n",
       "             9: [8]})"
      ]
     },
     "execution_count": 3,
     "metadata": {},
     "output_type": "execute_result"
    }
   ],
   "source": [
    "graph"
   ]
  },
  {
   "cell_type": "code",
   "execution_count": 13,
   "id": "bbac4bb9",
   "metadata": {},
   "outputs": [
    {
     "data": {
      "text/plain": [
       "[3]"
      ]
     },
     "execution_count": 13,
     "metadata": {},
     "output_type": "execute_result"
    }
   ],
   "source": [
    "n = 10; edges = [[1,3],[2,3],[3,4],[3,5],[4,6],[6,10],[5,7],[5,8],[8,9]]\n",
    "import collections\n",
    "def findMinHeightTrees(n, edges):\n",
    "    if n <= 1:\n",
    "        return 0\n",
    "    \n",
    "    #양방향 그래프 구성\n",
    "    graph = collections.defaultdict(list)\n",
    "    for i, j in edges:\n",
    "        graph[i].append(j)\n",
    "        graph[j].append(i)\n",
    "\n",
    "    #첫 번째 리프 노드 추가\n",
    "    leaves = []\n",
    "    for i in range(n+1):\n",
    "        if len(graph[i]) == 1:\n",
    "            leaves.append(i) #Key가 리프노드임\n",
    "\n",
    "    #루트 노드만 남을 때까지 반복 제거\n",
    "    while n > 2:\n",
    "        new_leaves = []\n",
    "\n",
    "        n -= len(leaves)\n",
    "        for j in leaves:\n",
    "            nod = graph[j].pop()\n",
    "            graph[nod].remove(j)\n",
    "\n",
    "            if len(graph[nod]) == 1:\n",
    "                new_leaves.append(nod)\n",
    "\n",
    "        leaves = new_leaves\n",
    "    return leaves\n",
    "\n",
    "findMinHeightTrees(n, edges)"
   ]
  },
  {
   "cell_type": "code",
   "execution_count": null,
   "id": "d249f6dc",
   "metadata": {},
   "outputs": [],
   "source": []
  },
  {
   "cell_type": "code",
   "execution_count": null,
   "id": "5fede0d6",
   "metadata": {},
   "outputs": [],
   "source": []
  },
  {
   "cell_type": "code",
   "execution_count": null,
   "id": "d264c062",
   "metadata": {},
   "outputs": [],
   "source": []
  },
  {
   "cell_type": "code",
   "execution_count": null,
   "id": "19e3ea31",
   "metadata": {},
   "outputs": [],
   "source": []
  },
  {
   "cell_type": "code",
   "execution_count": null,
   "id": "6378af28",
   "metadata": {},
   "outputs": [],
   "source": []
  },
  {
   "cell_type": "code",
   "execution_count": 10,
   "id": "84ddbec2",
   "metadata": {},
   "outputs": [],
   "source": [
    "dist = {'a':1, 'b' : 2}\n",
    "dist['c'] = 4\n",
    "for v,w in "
   ]
  },
  {
   "cell_type": "code",
   "execution_count": null,
   "id": "0899e589",
   "metadata": {},
   "outputs": [],
   "source": []
  }
 ],
 "metadata": {
  "kernelspec": {
   "display_name": "Python 3 (ipykernel)",
   "language": "python",
   "name": "python3"
  },
  "language_info": {
   "codemirror_mode": {
    "name": "ipython",
    "version": 3
   },
   "file_extension": ".py",
   "mimetype": "text/x-python",
   "name": "python",
   "nbconvert_exporter": "python",
   "pygments_lexer": "ipython3",
   "version": "3.9.12"
  }
 },
 "nbformat": 4,
 "nbformat_minor": 5
}
