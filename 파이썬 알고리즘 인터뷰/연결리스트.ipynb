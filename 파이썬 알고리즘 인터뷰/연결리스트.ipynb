{
 "cells": [
  {
   "cell_type": "code",
   "execution_count": 1,
   "id": "fa5186b0",
   "metadata": {},
   "outputs": [
    {
     "name": "stdout",
     "output_type": "stream",
     "text": [
      "None\n"
     ]
    }
   ],
   "source": [
    "class Node:\n",
    "    def __init__(self, data):\n",
    "        self.data = data\n",
    "        self.next = None\n",
    "\n",
    "node1 = Node(1)\n",
    "print(node1.next)"
   ]
  },
  {
   "cell_type": "code",
   "execution_count": 2,
   "id": "54751c98",
   "metadata": {},
   "outputs": [],
   "source": [
    "# Definition for singly-linked list.\n",
    "class LinkedList:\n",
    "    def __init__(self, val=0, next=None):\n",
    "        HeadNode = Node(\"head\")\n",
    "        self.head = HeadNode\n",
    "        self.tail = HeadNode\n",
    "        self.NumOfData = 0 \n",
    "    def InsertNode(self, data):\n",
    "        insertNode = Node(data) #노드가 하나 생성\n",
    "        self.tail.next = insertNode\n",
    "        self.tail = insertNode\n",
    "        self.NumOfData += 1\n",
    "    def search(self, data):\n",
    "        check = self.head\n",
    "        for i in range(self.NumOfData):\n",
    "            if check.next.data == data:\n",
    "                print(data, \"데이터는\", i+1, \"번째에 있습니다.\")\n",
    "                return None\n",
    "            check = chech.next\n",
    "        print(data, \"데이터는 리스트에 없습니다.\")\n",
    "        return None\n",
    "    def printList(self):\n",
    "        current = self.head\n",
    "        if self.NumOfData == 0:\n",
    "            print(\"List is empty!\")\n",
    "            return None\n",
    "        print(\"HEAD::\",end='')\n",
    "        for i in range(self.NumOfData-1):\n",
    "            print(current.next.data,\"->\",end='')\n",
    "            current = current.next\n",
    "        print(current.next.data)\n",
    "        \n"
   ]
  },
  {
   "cell_type": "markdown",
   "id": "4732bc0b",
   "metadata": {},
   "source": [
    "# 팰린드롬 연결리스트"
   ]
  },
  {
   "cell_type": "code",
   "execution_count": 3,
   "id": "e57e9543",
   "metadata": {},
   "outputs": [
    {
     "name": "stdout",
     "output_type": "stream",
     "text": [
      "HEAD::1 ->2 ->3 ->2 ->1\n"
     ]
    }
   ],
   "source": [
    "lst = LinkedList()\n",
    "lst.InsertNode(1)\n",
    "lst.InsertNode(2)\n",
    "lst.InsertNode(3)\n",
    "lst.InsertNode(2)\n",
    "lst.InsertNode(1)\n",
    "lst.printList()"
   ]
  },
  {
   "cell_type": "code",
   "execution_count": null,
   "id": "c5e06d95",
   "metadata": {},
   "outputs": [],
   "source": [
    "q = []\n",
    "\n",
    "node = lst.head.next\n",
    "while node is not None:\n",
    "    q.append(node.data)\n",
    "    node = node.next\n",
    "left = 0; right = len(q)-1\n",
    "while left < right:\n",
    "    if q[left] != q[right]:\n",
    "        print(\"False\")\n",
    "    left+=1; right-=1\n",
    "print(\"True\")\n",
    "    "
   ]
  },
  {
   "cell_type": "code",
   "execution_count": null,
   "id": "634baeda",
   "metadata": {},
   "outputs": [],
   "source": []
  },
  {
   "cell_type": "code",
   "execution_count": null,
   "id": "9f13a004",
   "metadata": {},
   "outputs": [],
   "source": [
    "def isPalindrome(head):\n",
    "    q: List = []\n",
    "\n",
    "    if not head:\n",
    "        return True\n",
    "    node = head\n",
    "    while node is not None:\n",
    "        q.append(node.data)\n",
    "        node = node.next\n",
    "    print(q)\n",
    "\n",
    "    while len(q) > 1:\n",
    "        if q.pop(0) != q.pop():\n",
    "            return False\n",
    "    return True"
   ]
  },
  {
   "cell_type": "code",
   "execution_count": null,
   "id": "6f119763",
   "metadata": {},
   "outputs": [],
   "source": [
    "isPalindrome(lst.head.next)"
   ]
  },
  {
   "cell_type": "code",
   "execution_count": null,
   "id": "c6175f16",
   "metadata": {},
   "outputs": [],
   "source": [
    "lst.head"
   ]
  },
  {
   "cell_type": "code",
   "execution_count": null,
   "id": "bca84d1d",
   "metadata": {},
   "outputs": [],
   "source": []
  },
  {
   "cell_type": "markdown",
   "id": "eb28f004",
   "metadata": {},
   "source": [
    "# 런너를 이용한 우아한 풀이"
   ]
  },
  {
   "cell_type": "markdown",
   "id": "c2b62dd4",
   "metadata": {},
   "source": [
    "런너 기법 : 연결리스트를 순회할 때 2개의 포인터를 동시에 사용하는 기법이다.  \n",
    "빠른 런너, 느린 런너를 사용하는데 빠른 런너는 두 칸씩 건너뛰고 느린 런너는 한 칸씩 이동한다."
   ]
  },
  {
   "cell_type": "code",
   "execution_count": null,
   "id": "4bc29f37",
   "metadata": {},
   "outputs": [],
   "source": [
    "#홀짝 상관없나? 왜?\n",
    "def isPalindrom(self, head):\n",
    "    rev = None\n",
    "    slow = fast = head\n",
    "    while fast and fast.next:\n",
    "        fast = fast.next.next\n",
    "        rev, rev.next, slow = slow, rev, slow.next\n",
    "    if fast:\n",
    "        slow = slow.next\n",
    "    \n",
    "    #펠린드롬 여부 확인\n",
    "    while rev and rev.val == slow.val:\n",
    "        slow, rev = slow.next, rev.next\n",
    "    return not rev"
   ]
  },
  {
   "cell_type": "code",
   "execution_count": null,
   "id": "6a42049b",
   "metadata": {},
   "outputs": [],
   "source": []
  },
  {
   "cell_type": "markdown",
   "id": "9bbb4f94",
   "metadata": {},
   "source": [
    "# 두 정렬 리스트의 병합"
   ]
  },
  {
   "cell_type": "code",
   "execution_count": null,
   "id": "4d0b5df6",
   "metadata": {},
   "outputs": [],
   "source": [
    "def mergeList(l1, l2):\n",
    "    if (not l1) or (l2 and l1.data > l2.data):\n",
    "        l1, l2 = l2, l1"
   ]
  },
  {
   "cell_type": "code",
   "execution_count": null,
   "id": "73d69472",
   "metadata": {},
   "outputs": [],
   "source": []
  },
  {
   "cell_type": "code",
   "execution_count": null,
   "id": "fb713919",
   "metadata": {},
   "outputs": [],
   "source": []
  },
  {
   "cell_type": "code",
   "execution_count": null,
   "id": "9b423084",
   "metadata": {},
   "outputs": [],
   "source": []
  },
  {
   "cell_type": "code",
   "execution_count": null,
   "id": "a91c4089",
   "metadata": {},
   "outputs": [],
   "source": []
  },
  {
   "cell_type": "markdown",
   "id": "0009082a",
   "metadata": {},
   "source": [
    "# 역순 연결리스트"
   ]
  },
  {
   "cell_type": "code",
   "execution_count": null,
   "id": "c82436d9",
   "metadata": {},
   "outputs": [],
   "source": [
    "lst15 = LinkedList()\n",
    "lst15.InsertNode(1);lst15.InsertNode(2);lst15.InsertNode(3);lst15.InsertNode(4);lst15.InsertNode(5);\n",
    "lst15.printList()"
   ]
  },
  {
   "cell_type": "code",
   "execution_count": null,
   "id": "b1689a3d",
   "metadata": {},
   "outputs": [],
   "source": [
    "#재귀 구조로 뒤집기 ,,,,??\n",
    "def reverseList(head):\n",
    "    def reverse(node, prev):\n",
    "        if not node:\n",
    "            return prev\n",
    "        next, node.next = node.next, prev\n",
    "        return reverse(next, node)\n",
    "    return reverse(head)"
   ]
  },
  {
   "cell_type": "code",
   "execution_count": null,
   "id": "8e446242",
   "metadata": {},
   "outputs": [],
   "source": [
    "print(lst15.head.next.data)"
   ]
  },
  {
   "cell_type": "code",
   "execution_count": null,
   "id": "40cb43c6",
   "metadata": {},
   "outputs": [],
   "source": []
  },
  {
   "cell_type": "code",
   "execution_count": 52,
   "id": "01caa6cf",
   "metadata": {},
   "outputs": [],
   "source": [
    "#블로거 풀이...?\n",
    "#https://joecho.tistory.com/entry/leetcode206\n",
    "class ListNode:\n",
    "    def __init__(self, val = 0, next = None):\n",
    "        self.val = val\n",
    "        self.next = next\n",
    "    def _print_all(self):\n",
    "        while self:\n",
    "            print(self.val, end=' ')\n",
    "            self = self.next\n",
    "        print()\n",
    "class Solution:\n",
    "    def reverse(self, current: ListNode, prev: ListNode):\n",
    "        if not current:\n",
    "            return prev\n",
    "        next = current.next\n",
    "        current.next = prev #이전 노드의 값을 현재 노드의 next에 치환\n",
    "        return self.reverse(next, current)\n",
    "    def reverseList(self, head):\n",
    "        return self.reverse(head, None)"
   ]
  },
  {
   "cell_type": "code",
   "execution_count": 53,
   "id": "0d0c7f6b",
   "metadata": {},
   "outputs": [
    {
     "name": "stdout",
     "output_type": "stream",
     "text": [
      "Before :  1 2 4 \n",
      "After :  4 2 1 \n"
     ]
    }
   ],
   "source": [
    "solution = Solution()\n",
    "L1_3 = ListNode(4)\n",
    "L1_2 = ListNode(2, L1_3)\n",
    "L1_1 = ListNode(1, L1_2)\n",
    "\n",
    "print(\"Before : \", end = \" \")\n",
    "L1_1._print_all()\n",
    "result = solution.reverseList(L1_1)\n",
    "print(\"After : \", end = \" \")\n",
    "result._print_all()"
   ]
  },
  {
   "cell_type": "code",
   "execution_count": null,
   "id": "34a0ba2d",
   "metadata": {},
   "outputs": [],
   "source": []
  },
  {
   "cell_type": "code",
   "execution_count": null,
   "id": "a2c3098d",
   "metadata": {},
   "outputs": [],
   "source": []
  },
  {
   "cell_type": "code",
   "execution_count": null,
   "id": "1822c222",
   "metadata": {},
   "outputs": [],
   "source": []
  },
  {
   "cell_type": "code",
   "execution_count": null,
   "id": "5b6d2147",
   "metadata": {},
   "outputs": [],
   "source": []
  },
  {
   "cell_type": "markdown",
   "id": "97a3a3ce",
   "metadata": {},
   "source": [
    "# 두 수의 덧셈"
   ]
  },
  {
   "cell_type": "code",
   "execution_count": null,
   "id": "270c3912",
   "metadata": {},
   "outputs": [],
   "source": [
    "lst1 = LinkedList(); lst2 = LinkedList()\n",
    "lst1.InsertNode(2);lst1.InsertNode(4);lst1.InsertNode(3)\n",
    "lst2.InsertNode(5);lst2.InsertNode(6);lst2.InsertNode(4)\n",
    "lst1.printList()\n",
    "lst2.printList()"
   ]
  },
  {
   "cell_type": "code",
   "execution_count": null,
   "id": "b62b4c8f",
   "metadata": {},
   "outputs": [],
   "source": [
    "head = lst1.head\n",
    "node, prev = head, None\n",
    "print(node.data)"
   ]
  },
  {
   "cell_type": "code",
   "execution_count": null,
   "id": "197631c3",
   "metadata": {},
   "outputs": [],
   "source": []
  },
  {
   "cell_type": "code",
   "execution_count": null,
   "id": "39a7841c",
   "metadata": {},
   "outputs": [],
   "source": []
  },
  {
   "cell_type": "code",
   "execution_count": null,
   "id": "dc566df3",
   "metadata": {},
   "outputs": [],
   "source": []
  },
  {
   "cell_type": "markdown",
   "id": "02310eb0",
   "metadata": {},
   "source": [
    "# 페어의 노드 스왑\n"
   ]
  },
  {
   "cell_type": "code",
   "execution_count": 2,
   "id": "1be4a743",
   "metadata": {},
   "outputs": [],
   "source": [
    "class ListNode:\n",
    "    def __init__(self, val = 0, next = None):\n",
    "        self.val = val\n",
    "        self.next = next\n",
    "    def _print_all(self):\n",
    "        while self:\n",
    "            print(self.val, end=' ')\n",
    "            self = self.next\n",
    "        print()"
   ]
  },
  {
   "cell_type": "code",
   "execution_count": null,
   "id": "7d04e7b9",
   "metadata": {},
   "outputs": [],
   "source": [
    "L1_4 = ListNode(4)\n",
    "L1_3 = ListNode(3, L1_4)\n",
    "L1_2 = ListNode(2, L1_3)\n",
    "L1_1 = ListNode(1, L1_2)\n",
    "#1->2->3->4\n",
    "\n",
    "def swapPairs(head):\n",
    "    cur = head\n",
    "    while cur and cur.next:\n",
    "        cur.val, cur.next.val = cur.next.val, cur.val\n",
    "        cur = cur.next.next\n",
    "    return head\n",
    "\n",
    "L1_1._print_all()\n",
    "swapPairs(L1_1)._print_all()"
   ]
  },
  {
   "cell_type": "code",
   "execution_count": 3,
   "id": "4e190053",
   "metadata": {},
   "outputs": [
    {
     "name": "stdout",
     "output_type": "stream",
     "text": [
      "1 2 3 4 \n",
      "2 1 4 3 \n"
     ]
    }
   ],
   "source": [
    "#반복구조로 스왑\n",
    "\n",
    "L1_4 = ListNode(4)\n",
    "L1_3 = ListNode(3, L1_4)\n",
    "L1_2 = ListNode(2, L1_3)\n",
    "L1_1 = ListNode(1, L1_2)\n",
    "#1->2->3->4\n",
    "\n",
    "def swapPairs(head):\n",
    "    \n",
    "    while head and head.next:\n",
    "        cur = head\n",
    "        cur.next = cur.next.next\n",
    "        cur.next.next = cur\n",
    "        \n",
    "        head = head.next\n",
    "        print(\"laskjgla;sgk\")\n",
    "    return head\n",
    "\n",
    "def swapPairs(head):\n",
    "    root = prev = ListNode(None)\n",
    "    prev.next = head #prev와 root는 같은 노드이므로, root.next도 head를 가리킴\n",
    "    while head and head.next:\n",
    "        b = head.next\n",
    "        head.next = b.next\n",
    "        b.next = head\n",
    "        prev.next = b\n",
    "        \n",
    "        prev = prev.next.next\n",
    "        head = head.next\n",
    "    return root.next\n",
    "\n",
    "L1_1._print_all()\n",
    "swapPairs(L1_1)._print_all()"
   ]
  },
  {
   "cell_type": "code",
   "execution_count": null,
   "id": "aa16856a",
   "metadata": {},
   "outputs": [],
   "source": []
  },
  {
   "cell_type": "markdown",
   "id": "87adef02",
   "metadata": {},
   "source": [
    "# 홀짝 연결리스트"
   ]
  },
  {
   "cell_type": "code",
   "execution_count": 14,
   "id": "100ea613",
   "metadata": {},
   "outputs": [
    {
     "ename": "AttributeError",
     "evalue": "'NoneType' object has no attribute 'next'",
     "output_type": "error",
     "traceback": [
      "\u001b[1;31m---------------------------------------------------------------------------\u001b[0m",
      "\u001b[1;31mAttributeError\u001b[0m                            Traceback (most recent call last)",
      "Input \u001b[1;32mIn [14]\u001b[0m, in \u001b[0;36m<cell line: 14>\u001b[1;34m()\u001b[0m\n\u001b[0;32m     12\u001b[0m         head \u001b[38;5;241m=\u001b[39m b\n\u001b[0;32m     13\u001b[0m     \u001b[38;5;28;01mreturn\u001b[39;00m root\n\u001b[1;32m---> 14\u001b[0m \u001b[43moddeven\u001b[49m\u001b[43m(\u001b[49m\u001b[43mL1_1\u001b[49m\u001b[43m)\u001b[49m\u001b[38;5;241m.\u001b[39m_print_all()\n",
      "Input \u001b[1;32mIn [14]\u001b[0m, in \u001b[0;36moddeven\u001b[1;34m(head)\u001b[0m\n\u001b[0;32m      9\u001b[0m \u001b[38;5;28;01mwhile\u001b[39;00m head:\n\u001b[0;32m     10\u001b[0m     b \u001b[38;5;241m=\u001b[39m head\u001b[38;5;241m.\u001b[39mnext\n\u001b[1;32m---> 11\u001b[0m     b \u001b[38;5;241m=\u001b[39m \u001b[43mb\u001b[49m\u001b[38;5;241;43m.\u001b[39;49m\u001b[43mnext\u001b[49m\n\u001b[0;32m     12\u001b[0m     head \u001b[38;5;241m=\u001b[39m b\n\u001b[0;32m     13\u001b[0m \u001b[38;5;28;01mreturn\u001b[39;00m root\n",
      "\u001b[1;31mAttributeError\u001b[0m: 'NoneType' object has no attribute 'next'"
     ]
    }
   ],
   "source": [
    "L1_5 = ListNode(5)\n",
    "L1_4 = ListNode(4, L1_5)\n",
    "L1_3 = ListNode(3, L1_4)\n",
    "L1_2 = ListNode(2, L1_3)\n",
    "L1_1 = ListNode(1, L1_2)\n",
    "\n",
    "def oddeven(head):\n",
    "    root = head\n",
    "    while head:\n",
    "        b = head.next\n",
    "        b = b.next\n",
    "        head = b\n",
    "    return root\n",
    "oddeven(L1_1)._print_all()"
   ]
  },
  {
   "cell_type": "code",
   "execution_count": null,
   "id": "734e1020",
   "metadata": {},
   "outputs": [],
   "source": []
  },
  {
   "cell_type": "code",
   "execution_count": null,
   "id": "e289b9ff",
   "metadata": {},
   "outputs": [],
   "source": []
  },
  {
   "cell_type": "code",
   "execution_count": null,
   "id": "e1d92703",
   "metadata": {},
   "outputs": [],
   "source": []
  },
  {
   "cell_type": "code",
   "execution_count": null,
   "id": "da0718d8",
   "metadata": {},
   "outputs": [],
   "source": []
  },
  {
   "cell_type": "code",
   "execution_count": null,
   "id": "5f7af90e",
   "metadata": {},
   "outputs": [],
   "source": []
  },
  {
   "cell_type": "code",
   "execution_count": null,
   "id": "0e55e066",
   "metadata": {},
   "outputs": [],
   "source": []
  },
  {
   "cell_type": "code",
   "execution_count": null,
   "id": "10f3dbd5",
   "metadata": {},
   "outputs": [],
   "source": []
  },
  {
   "cell_type": "code",
   "execution_count": null,
   "id": "9f896cc2",
   "metadata": {},
   "outputs": [],
   "source": []
  },
  {
   "cell_type": "code",
   "execution_count": null,
   "id": "22f9ed97",
   "metadata": {},
   "outputs": [],
   "source": []
  },
  {
   "cell_type": "code",
   "execution_count": null,
   "id": "25ef73f1",
   "metadata": {},
   "outputs": [],
   "source": []
  },
  {
   "cell_type": "code",
   "execution_count": null,
   "id": "8d6408bb",
   "metadata": {},
   "outputs": [],
   "source": []
  },
  {
   "cell_type": "code",
   "execution_count": null,
   "id": "3275c1fb",
   "metadata": {},
   "outputs": [],
   "source": []
  },
  {
   "cell_type": "code",
   "execution_count": null,
   "id": "27a1adc7",
   "metadata": {},
   "outputs": [],
   "source": []
  },
  {
   "cell_type": "code",
   "execution_count": null,
   "id": "c62eb6dd",
   "metadata": {},
   "outputs": [],
   "source": []
  },
  {
   "cell_type": "code",
   "execution_count": null,
   "id": "217962de",
   "metadata": {},
   "outputs": [],
   "source": []
  },
  {
   "cell_type": "code",
   "execution_count": 18,
   "id": "8c67c894",
   "metadata": {},
   "outputs": [],
   "source": [
    "class Node:\n",
    "    def __init__(self, data):\n",
    "        self.data = data\n",
    "        self.next = None"
   ]
  },
  {
   "cell_type": "code",
   "execution_count": 50,
   "id": "9c7ee5e4",
   "metadata": {},
   "outputs": [],
   "source": [
    "#동적할당, linked list, python list\n",
    "l3 = LinkedList(5)\n",
    "\n",
    "class LinkedList: \n",
    "    def __init__(self, data):\n",
    "        self.head = Node(data)\n",
    "\n",
    "    #헤더부터 탐색해 뒤에 새로운 노드 추가하기\n",
    "    def append(self, data):\n",
    "        while cur.next is not None:\n",
    "            cur = cur.next\n",
    "        cur.next = Node(data)\n",
    "    \n",
    "    #모든 노드 값 출력\n",
    "    def print_all(self):\n",
    "        cur = self.head\n",
    "        while cur is not None:\n",
    "            print(cur.data, '-> ', end = '')\n",
    "            cur = cur.next\n",
    "                \n",
    "    def get_node(self, index):\n",
    "        cnt = 0\n",
    "        node = self.head\n",
    "        while cnt < index:\n",
    "            cnt += 1\n",
    "            node = node.next\n",
    "        return node\n",
    "    \n",
    "    def add_node(self, index, value):\n",
    "        new_node = Node(value) #새 노드 만들기\n",
    "        if index == 0:\n",
    "            new_node.next = self.head\n",
    "            self.head = new_node\n",
    "            return\n",
    "        node = self.get_node(index-1) #node : 넣고싶은 자리의 전 노드\n",
    "        next_node = node.next #node의 next값 따로 지정(next_node)\n",
    "        node.next = new_node #새 노드를 node의 next값으로 만들기\n",
    "        new_node.next = next_node #따로 지정했던 next_node를 새 노드의 next와 연결\n",
    "        \n",
    "    def del_first(self):\n",
    "        if self.head is not None:\n",
    "            self.head = self.head.next\n",
    "    \n",
    "    def remove_last(self):\n",
    "        if self.head.next is None:\n",
    "            self.del_first()\n",
    "        else:\n",
    "            cur_pointer = self.head\n",
    "            pre_pointer = self.head\n",
    "            while cur_pointer.next is not None:\n",
    "                pre_pointer = cur_pointer\n",
    "                cur_pointer = cur_pointer.next\n",
    "            \n",
    "            pre_pointer.next = None\n",
    "            \n",
    "    def remove(self, data):\n",
    "        if self.head is not None: #지울게 있을 경우\n",
    "            if self.head.data == data:\n",
    "                self.del_first()\n",
    "                return True\n",
    "            #지우고싶은 데이터가 head가 아닐경우\n",
    "            pointer = self.head\n",
    "            while pointer.next is not None: #끝까지 계속 가보자\n",
    "                if pointer.next.data == data:\n",
    "                    pointer.next = pointer.next.next\n",
    "                    return True\n",
    "                pointer = pointer.next\n",
    "        return False\n",
    "        "
   ]
  },
  {
   "cell_type": "code",
   "execution_count": 51,
   "id": "0acf0148",
   "metadata": {},
   "outputs": [
    {
     "name": "stdout",
     "output_type": "stream",
     "text": [
      "찬영 -> 2 -> 4 -> 3 -> 4 -> \n",
      "==================\n",
      "2번째 노드 값 :  4\n",
      "add_node(3,9) 추가 후 :  찬영 -> 2 -> 4 -> 9 -> 3 -> 4 -> \n",
      "2 -> 4 -> 9 -> 3 -> 4 -> "
     ]
    }
   ],
   "source": [
    "l1 = LinkedList('찬영')\n",
    "l1.append(2)\n",
    "l1.append(4)\n",
    "l1.append(3)\n",
    "l1.append(4)\n",
    "l1.print_all()\n",
    "print()\n",
    "print('==================')\n",
    "print(\"2번째 노드 값 : \", l1.get_node(2).data)\n",
    "l1.add_node(3,9)\n",
    "print(\"add_node(3,9) 추가 후 : \", end = ' ')\n",
    "l1.print_all()\n",
    "\n",
    "print()\n",
    "l1.del_first()\n",
    "l1.print_all()"
   ]
  },
  {
   "cell_type": "code",
   "execution_count": null,
   "id": "13e48368",
   "metadata": {},
   "outputs": [],
   "source": []
  }
 ],
 "metadata": {
  "kernelspec": {
   "display_name": "Python 3 (ipykernel)",
   "language": "python",
   "name": "python3"
  },
  "language_info": {
   "codemirror_mode": {
    "name": "ipython",
    "version": 3
   },
   "file_extension": ".py",
   "mimetype": "text/x-python",
   "name": "python",
   "nbconvert_exporter": "python",
   "pygments_lexer": "ipython3",
   "version": "3.9.12"
  }
 },
 "nbformat": 4,
 "nbformat_minor": 5
}
