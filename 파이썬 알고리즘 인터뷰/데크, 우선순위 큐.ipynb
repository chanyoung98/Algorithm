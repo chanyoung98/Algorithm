{
 "cells": [
  {
   "cell_type": "markdown",
   "id": "fca69c42",
   "metadata": {},
   "source": [
    "# 원형 데크 디자인  \n",
    "원형 데크를 디자인하라"
   ]
  },
  {
   "cell_type": "code",
   "execution_count": null,
   "id": "b55a20b2",
   "metadata": {},
   "outputs": [],
   "source": [
    "class MyCircularDeque:\n",
    "    def __init__(k):\n",
    "        self.head, self.tail = ListNode(None), ListNode(None)\n",
    "        self.k, self.len = k, 0\n",
    "        self.head.right, self.tail.left = self.tail, self.head\n",
    "\n",
    "    def _add(self, node, new): #_ : 내부에서만 사용한다는 의미\n",
    "        n = node.right\n",
    "        node.right = new\n",
    "        new.left, new.right = node, n\n",
    "        n.left = new\n",
    "        \n",
    "    def _del(self, node):\n",
    "        n = node.right.right\n",
    "        node.right = n\n",
    "        n.left = node\n",
    "\n",
    "    def insertFront(value): #앞 쪽에 노드를 추가하는 연산\n",
    "        if self.len == self.k:\n",
    "            return False\n",
    "        self.len += 1\n",
    "        self._add(self.head, ListNode(value))\n",
    "        return True\n",
    "    \n",
    "    def insertLast(value):\n",
    "        if self.len == self.k:\n",
    "            return False\n",
    "        self.len += 1\n",
    "        self._add(self.tail.left, ListNode(value))\n",
    "        return True    \n",
    "        \n",
    "    def deleteFront(self):\n",
    "        if self.len == 0:\n",
    "            return False\n",
    "        self.len -= 1\n",
    "        self._del(self.head)\n",
    "        return True\n",
    "    \n",
    "    def deleteLast(self):\n",
    "        if self.len == 0:\n",
    "            return False\n",
    "        self.len -= 1\n",
    "        self._del(self.tail.left.left)\n",
    "        return True\n",
    "    \n",
    "    def getFront(self):\n",
    "        return self.head.right.val if self.len else -1\n",
    "    \n",
    "    def getRear(self):\n",
    "        return self.tail.left.val if self.len else -1\n",
    "    \n",
    "    def isEmpty(self):\n",
    "        return self.len == 0\n",
    "    \n",
    "    def isFull(self):\n",
    "        return self.len == self.k"
   ]
  }
 ],
 "metadata": {
  "kernelspec": {
   "display_name": "Python 3 (ipykernel)",
   "language": "python",
   "name": "python3"
  },
  "language_info": {
   "codemirror_mode": {
    "name": "ipython",
    "version": 3
   },
   "file_extension": ".py",
   "mimetype": "text/x-python",
   "name": "python",
   "nbconvert_exporter": "python",
   "pygments_lexer": "ipython3",
   "version": "3.9.12"
  }
 },
 "nbformat": 4,
 "nbformat_minor": 5
}
