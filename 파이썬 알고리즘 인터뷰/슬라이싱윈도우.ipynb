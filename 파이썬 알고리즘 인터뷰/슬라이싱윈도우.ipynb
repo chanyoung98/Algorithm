{
 "cells": [
  {
   "cell_type": "markdown",
   "id": "1f7c853b",
   "metadata": {},
   "source": [
    "# 최대 슬라이싱 윈도우\n",
    "배열 nums가 주어졌을 때 k 크기의 슬라이싱 윈도우를 오른쪽 끝까지 이동하면서 최대 슬라이딩 윈도우를 구하라."
   ]
  },
  {
   "cell_type": "code",
   "execution_count": 48,
   "id": "bce54b89",
   "metadata": {},
   "outputs": [
    {
     "name": "stdout",
     "output_type": "stream",
     "text": [
      "걸린 시간 : 0.00012564659118652344\n"
     ]
    }
   ],
   "source": [
    "#브루트 포스\n",
    "from time import time\n",
    "\n",
    "nums = [-1,3,1,-3,5,3,6,7]; k = 3\n",
    "def slicingwindow(nums, k):\n",
    "    if not nums:\n",
    "        return nums\n",
    "    result = []\n",
    "    for i in range(len(nums)-k+1):\n",
    "        result.append(max(nums[i:i+k]))\n",
    "    return result\n",
    "start = time()\n",
    "slicingwindow(nums, k)\n",
    "end = time()\n",
    "print(f\"걸린 시간 : {end - start}\")"
   ]
  },
  {
   "cell_type": "code",
   "execution_count": 52,
   "id": "f273fa6e",
   "metadata": {},
   "outputs": [
    {
     "name": "stdout",
     "output_type": "stream",
     "text": [
      "걸린 시간 : 0.0001728534698486328\n"
     ]
    }
   ],
   "source": [
    "#큐를 이용한 최적화\n",
    "start = time()\n",
    "import collections\n",
    "def slicingwindow(nums, k):\n",
    "    result = []\n",
    "    window = collections.deque()\n",
    "    current_max = float('-inf')\n",
    "    for i,v in enumerate(nums):\n",
    "        window.append(v)\n",
    "        if i < k-1: #3개 다 왔을때부터 하나씩 빼자 시작,, 그 전에는 쌓기만 하자\n",
    "            continue\n",
    "            \n",
    "        #새로 추가된 값이 기존 최댓값보다 큰 경우 교체\n",
    "        if current_max == float('-inf'):\n",
    "            current_max = max(window)\n",
    "        elif v > current_max:\n",
    "            current_max = v\n",
    "        \n",
    "        result.append(current_max)\n",
    "        \n",
    "        if current_max == window.popleft():\n",
    "            current_max = float(\"-inf\")\n",
    "    return result\n",
    "\n",
    "nums = [-1,3,1,-3,5,3,6,7]; k = 3\n",
    "\n",
    "start = time()\n",
    "slicingwindow(nums, k)\n",
    "end = time()\n",
    "print(f\"걸린 시간 : {end - start}\")"
   ]
  },
  {
   "cell_type": "code",
   "execution_count": 35,
   "id": "e99aa253",
   "metadata": {},
   "outputs": [
    {
     "data": {
      "text/plain": [
       "1676200368.6566138"
      ]
     },
     "execution_count": 35,
     "metadata": {},
     "output_type": "execute_result"
    }
   ],
   "source": [
    "time()"
   ]
  },
  {
   "cell_type": "markdown",
   "id": "a3e12627",
   "metadata": {},
   "source": [
    "# 부분 문자열이 포함된 최소 윈도우\n",
    "문자열 S와 T를 입력받아 O(n)에 T의 모든 문자가 포함된 S의 최소 윈도우를 찾아라."
   ]
  },
  {
   "cell_type": "code",
   "execution_count": 12,
   "id": "833a1bc8",
   "metadata": {},
   "outputs": [
    {
     "data": {
      "text/plain": [
       "'BANC'"
      ]
     },
     "execution_count": 12,
     "metadata": {},
     "output_type": "execute_result"
    }
   ],
   "source": [
    "S = \"ADOBECODEBANC\"; T = \"ABC\"\n",
    "\n",
    "def minWindow(S,T):\n",
    "    def contains(s_word, s_T):\n",
    "        for j in s_word:\n",
    "            if j in s_T:\n",
    "                s_T.remove(j)\n",
    "        if not s_T:\n",
    "            return True\n",
    "    \n",
    "    if not S or not T:\n",
    "        return ''\n",
    "    \n",
    "    window_size = len(T)\n",
    "    \n",
    "    for size in range(window_size, len(S)+1):\n",
    "        for i in range(len(S)-size+1):\n",
    "            word = S[i:i+size]\n",
    "            if contains(list(word), list(T)):\n",
    "                return word\n",
    "    return ''\n",
    "minWindow(S,T)"
   ]
  },
  {
   "cell_type": "code",
   "execution_count": 1,
   "id": "2dfaaea2",
   "metadata": {},
   "outputs": [],
   "source": [
    "#투포인터 풀이\n",
    "def minWindow(s, t):\n",
    "    need = collections.Counter(t)\n",
    "    missing = len(t)\n",
    "    left = start = end = 0\n",
    "    \n",
    "    #오른쪽 포인터 이동\n",
    "    for right, char in enumerate(s, 1):\n",
    "        missing -= 1\n",
    "        \n",
    "        #필요 문자가 0이면 왼쪽 포인터 이동 판단\n",
    "        if missing == 0:\n",
    "            while left < right and need[s[left]] < 0:\n",
    "                need[s[left]] ++ 1\n",
    "                left += 1\n",
    "                \n",
    "            if not end or right - left <= end - start:\n",
    "                start, end = left, right\n",
    "                need[s[left]] += 1\n",
    "                missing += 1\n",
    "                left += 1\n",
    "        return s[start:end]"
   ]
  },
  {
   "cell_type": "code",
   "execution_count": null,
   "id": "0ce6c41e",
   "metadata": {},
   "outputs": [],
   "source": [
    "#counter로 좀 더 편리한 풀이\n",
    "def minWindow(s, t):\n",
    "    t_count = collections.Counter(t)\n",
    "    current_count = collections.Counter()\n",
    "    \n",
    "    start = float('-inf')\n",
    "    end = float('inf')\n",
    "    \n",
    "    left = 0\n",
    "    #오른쪽 포인터 이동\n",
    "    for right, char in enumerate(s, 1):\n",
    "        current_count[char] += 1\n",
    "        #AND 연산 결과로 왼쪽 포인터 이동 판단\n",
    "        while current_count & t_count = t_count:\n",
    "            if right - left < end - start:\n",
    "                start, end = left, right\n",
    "            current_count[s[left]] -= 1\n",
    "            left += 1\n",
    "    return s[start:end] if end - start <= len(s) else ''"
   ]
  }
 ],
 "metadata": {
  "kernelspec": {
   "display_name": "Python 3 (ipykernel)",
   "language": "python",
   "name": "python3"
  },
  "language_info": {
   "codemirror_mode": {
    "name": "ipython",
    "version": 3
   },
   "file_extension": ".py",
   "mimetype": "text/x-python",
   "name": "python",
   "nbconvert_exporter": "python",
   "pygments_lexer": "ipython3",
   "version": "3.9.12"
  }
 },
 "nbformat": 4,
 "nbformat_minor": 5
}
