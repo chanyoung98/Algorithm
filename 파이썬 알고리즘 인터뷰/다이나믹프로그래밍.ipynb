{
 "cells": [
  {
   "cell_type": "markdown",
   "id": "d90086fc",
   "metadata": {},
   "source": [
    "# 피보나치 수"
   ]
  },
  {
   "cell_type": "code",
   "execution_count": 22,
   "id": "aac853ef",
   "metadata": {},
   "outputs": [],
   "source": [
    "#재취 구조 브루트 포스\n",
    "def fib(N):\n",
    "    if N <= 1: #N이 0 또는 1일 경우\n",
    "        return N\n",
    "    return fib(N-1) + fib(N-2)"
   ]
  },
  {
   "cell_type": "code",
   "execution_count": 23,
   "id": "9a859791",
   "metadata": {},
   "outputs": [],
   "source": [
    "#메모이제이션(하향식)\n",
    "import collections\n",
    "dp = collections.defaultdict(int)\n",
    "\n",
    "def fib(N):\n",
    "    if N <= 1:\n",
    "        return N\n",
    "    \n",
    "    if dp[N]:\n",
    "        return dp[N]\n",
    "    dp[N] = fib(N-1) + fib(N-2)\n",
    "    return dp[N]"
   ]
  },
  {
   "cell_type": "code",
   "execution_count": 24,
   "id": "36f3ad5a",
   "metadata": {},
   "outputs": [],
   "source": [
    "#타뷸레이션(상향식)\n",
    "import collections\n",
    "dp = collections.defaultdict(int)\n",
    "\n",
    "def fib(N):\n",
    "    dp[1] = 1\n",
    "    \n",
    "    for i in range(2, N+1):\n",
    "        dp[i] = dp[i-1] + dp[i-2]\n",
    "    return dp[N]"
   ]
  },
  {
   "cell_type": "code",
   "execution_count": 25,
   "id": "1caab6f5",
   "metadata": {},
   "outputs": [],
   "source": [
    "#두 변수만을 이용해 공간 절약\n",
    "def fib(N):\n",
    "    x, y = 0, 1\n",
    "    for i in range(0, N):\n",
    "        x, y = y, x + y #n-2, n-1 = n-1, n\n",
    "    return x"
   ]
  },
  {
   "cell_type": "markdown",
   "id": "b6de14ce",
   "metadata": {},
   "source": [
    "# 배낭 문제\n"
   ]
  },
  {
   "cell_type": "code",
   "execution_count": 26,
   "id": "f6b0ed23",
   "metadata": {},
   "outputs": [],
   "source": [
    "cargo = [\n",
    "    (4,12),\n",
    "    (2,1),\n",
    "    (10,4),\n",
    "    (1,1),\n",
    "    (2,2)\n",
    "]\n",
    "\n",
    "capacity = 15\n",
    "pack = []\n",
    "    \n",
    "for i in range(len(cargo) + 1):\n",
    "    pack.append([])\n",
    "    for c in range(capacity + 1):\n",
    "        if i == 0 or c == 0:\n",
    "            pack[i].append(0)"
   ]
  },
  {
   "cell_type": "markdown",
   "id": "45dc914a",
   "metadata": {},
   "source": [
    "# 최대 서브 배열"
   ]
  },
  {
   "cell_type": "code",
   "execution_count": 2,
   "id": "f2bb3f1c",
   "metadata": {},
   "outputs": [],
   "source": [
    "#메모이제이션\n",
    "def maxSubArray(nums):\n",
    "    for i in range(1, len(nums)):\n",
    "        nums[i] += nums[i-1] if nums[i-1] > 0 else 0\n",
    "    return max(nums)"
   ]
  },
  {
   "cell_type": "markdown",
   "id": "19feb657",
   "metadata": {},
   "source": [
    "# 계단 오르기"
   ]
  },
  {
   "cell_type": "code",
   "execution_count": 5,
   "id": "f389f3da",
   "metadata": {},
   "outputs": [
    {
     "data": {
      "text/plain": [
       "3"
      ]
     },
     "execution_count": 5,
     "metadata": {},
     "output_type": "execute_result"
    }
   ],
   "source": [
    "#재귀 구조 브루트 포스\n",
    "def climbStairs(n):\n",
    "    if n == 1:\n",
    "        return 1\n",
    "    if n == 2:\n",
    "        return 2\n",
    "    return climbStairs(n - 1) + climbStairs(n - 2)\n",
    "\n",
    "climbStairs(3)"
   ]
  },
  {
   "cell_type": "code",
   "execution_count": 7,
   "id": "678cdccd",
   "metadata": {},
   "outputs": [],
   "source": [
    "#메모이제이션\n",
    "import collections\n",
    "dp = collections.defaultdict(int)\n",
    "\n",
    "def climbStairs(n):\n",
    "    if n <= 2:\n",
    "        return n\n",
    "    \n",
    "    if dp[n]:\n",
    "        return dp[n] #값을 저장\n",
    "    dp[n] = climbStairs(n - 1) + climbStairs(n - 2)\n",
    "    return dp[n]"
   ]
  },
  {
   "cell_type": "markdown",
   "id": "1e4e0e8b",
   "metadata": {},
   "source": [
    "# 집도둑"
   ]
  },
  {
   "cell_type": "code",
   "execution_count": 8,
   "id": "d25acd8a",
   "metadata": {},
   "outputs": [],
   "source": [
    "#재귀 구조 브루트 포스\n",
    "def rob(nums):\n",
    "    def _rob(i):\n",
    "        if i < 0:\n",
    "            return 0\n",
    "        return max(_rob(i-1), _rob(i-2) + nums[i])\n",
    "    return _rob(len(nums) - 1)"
   ]
  },
  {
   "cell_type": "code",
   "execution_count": 9,
   "id": "2e1fc004",
   "metadata": {},
   "outputs": [],
   "source": [
    "#타뷸레이션\n",
    "def rob(nums):\n",
    "    if not nums:\n",
    "        return 0\n",
    "    if len(nums) <= 2:\n",
    "        return max(nums)\n",
    "    \n",
    "    dp = collections.OrderedDict()\n",
    "    dp[0], dp[1] = nums[0], max(nums[0], num[1])\n",
    "    \n",
    "    for i in range(2, len(nums)):\n",
    "        dp[i] = max(dp[i - 1], dp[i - 2] + nums[i])\n",
    "        \n",
    "    return dp.popitem()[1]"
   ]
  },
  {
   "cell_type": "code",
   "execution_count": null,
   "id": "51883ba8",
   "metadata": {},
   "outputs": [],
   "source": []
  },
  {
   "cell_type": "code",
   "execution_count": 11,
   "id": "3b0055b2",
   "metadata": {},
   "outputs": [
    {
     "data": {
      "text/plain": [
       "('c', 3)"
      ]
     },
     "execution_count": 11,
     "metadata": {},
     "output_type": "execute_result"
    }
   ],
   "source": [
    "dic = {'a':1, 'b':2, x}\n",
    "dic.popitem()"
   ]
  },
  {
   "cell_type": "code",
   "execution_count": null,
   "id": "e152891f",
   "metadata": {},
   "outputs": [],
   "source": []
  }
 ],
 "metadata": {
  "kernelspec": {
   "display_name": "Python 3 (ipykernel)",
   "language": "python",
   "name": "python3"
  },
  "language_info": {
   "codemirror_mode": {
    "name": "ipython",
    "version": 3
   },
   "file_extension": ".py",
   "mimetype": "text/x-python",
   "name": "python",
   "nbconvert_exporter": "python",
   "pygments_lexer": "ipython3",
   "version": "3.9.12"
  }
 },
 "nbformat": 4,
 "nbformat_minor": 5
}
